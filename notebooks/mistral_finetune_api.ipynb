{
 "cells": [
  {
   "cell_type": "code",
   "execution_count": 7,
   "metadata": {},
   "outputs": [],
   "source": [
    "import os\n",
    "import pandas as pd\n",
    "import seaborn as sns"
   ]
  },
  {
   "cell_type": "code",
   "execution_count": 3,
   "metadata": {},
   "outputs": [],
   "source": [
    "\n",
    "from mistralai.client import MistralClient"
   ]
  },
  {
   "cell_type": "code",
   "execution_count": 1,
   "metadata": {},
   "outputs": [],
   "source": [
    "from mistralai.models.jobs import TrainingParameters"
   ]
  },
  {
   "cell_type": "code",
   "execution_count": 5,
   "metadata": {},
   "outputs": [],
   "source": [
    "api_key = os.environ.get('MISTRAL_API_KEY')"
   ]
  },
  {
   "cell_type": "code",
   "execution_count": 83,
   "metadata": {},
   "outputs": [],
   "source": [
    "client = MistralClient(api_key=api_key)"
   ]
  },
  {
   "cell_type": "code",
   "execution_count": 9,
   "metadata": {},
   "outputs": [],
   "source": [
    "clinical_notes = pd.read_csv('../data/annotations/clinical_notes.csv')"
   ]
  },
  {
   "cell_type": "code",
   "execution_count": 54,
   "metadata": {},
   "outputs": [],
   "source": [
    "annotations = pd.read_csv('../data/annotations/annotations.csv')"
   ]
  },
  {
   "cell_type": "code",
   "execution_count": 40,
   "metadata": {},
   "outputs": [],
   "source": [
    "snomed_ct = pd.read_csv('~/BSC/code/hackbcn-2024/data/vocabularies/SnomedCT_Spanish_Edition/SnomedCT_SpanishRelease-es_PRODUCTION_20210430T120000Z/Full/Terminology/sct2_Description_SpanishExtensionFull-es_INT_20210430.txt', sep='\\t')"
   ]
  },
  {
   "cell_type": "code",
   "execution_count": 41,
   "metadata": {},
   "outputs": [],
   "source": [
    "snomed = snomed_ct.get(['conceptId', 'term']).rename(columns={'conceptId': 'code'})"
   ]
  },
  {
   "cell_type": "code",
   "execution_count": 42,
   "metadata": {},
   "outputs": [],
   "source": [
    "snomed.code = snomed.code.astype('str')"
   ]
  },
  {
   "cell_type": "code",
   "execution_count": 48,
   "metadata": {},
   "outputs": [],
   "source": []
  },
  {
   "cell_type": "code",
   "execution_count": 43,
   "metadata": {},
   "outputs": [],
   "source": [
    "snomed.to_csv('../data/snomed.csv', index=False)"
   ]
  },
  {
   "cell_type": "code",
   "execution_count": 47,
   "metadata": {},
   "outputs": [
    {
     "data": {
      "text/html": [
       "<div>\n",
       "<style scoped>\n",
       "    .dataframe tbody tr th:only-of-type {\n",
       "        vertical-align: middle;\n",
       "    }\n",
       "\n",
       "    .dataframe tbody tr th {\n",
       "        vertical-align: top;\n",
       "    }\n",
       "\n",
       "    .dataframe thead th {\n",
       "        text-align: right;\n",
       "    }\n",
       "</style>\n",
       "<table border=\"1\" class=\"dataframe\">\n",
       "  <thead>\n",
       "    <tr style=\"text-align: right;\">\n",
       "      <th></th>\n",
       "      <th>code</th>\n",
       "      <th>term</th>\n",
       "    </tr>\n",
       "  </thead>\n",
       "  <tbody>\n",
       "    <tr>\n",
       "      <th>97166</th>\n",
       "      <td>34095006</td>\n",
       "      <td>deshidratación</td>\n",
       "    </tr>\n",
       "  </tbody>\n",
       "</table>\n",
       "</div>"
      ],
      "text/plain": [
       "           code            term\n",
       "97166  34095006  deshidratación"
      ]
     },
     "execution_count": 47,
     "metadata": {},
     "output_type": "execute_result"
    }
   ],
   "source": [
    "snomed.query(\"code=='34095006'\").drop_duplicates('code')"
   ]
  },
  {
   "cell_type": "code",
   "execution_count": 37,
   "metadata": {},
   "outputs": [
    {
     "data": {
      "text/html": [
       "<div>\n",
       "<style scoped>\n",
       "    .dataframe tbody tr th:only-of-type {\n",
       "        vertical-align: middle;\n",
       "    }\n",
       "\n",
       "    .dataframe tbody tr th {\n",
       "        vertical-align: top;\n",
       "    }\n",
       "\n",
       "    .dataframe thead th {\n",
       "        text-align: right;\n",
       "    }\n",
       "</style>\n",
       "<table border=\"1\" class=\"dataframe\">\n",
       "  <thead>\n",
       "    <tr style=\"text-align: right;\">\n",
       "      <th></th>\n",
       "      <th>filename</th>\n",
       "      <th>label</th>\n",
       "      <th>span_start</th>\n",
       "      <th>span_end</th>\n",
       "      <th>span_text</th>\n",
       "      <th>code</th>\n",
       "    </tr>\n",
       "  </thead>\n",
       "  <tbody>\n",
       "    <tr>\n",
       "      <th>0</th>\n",
       "      <td>es-S0210-56912007000900007-3</td>\n",
       "      <td>ENFERMEDAD</td>\n",
       "      <td>164</td>\n",
       "      <td>166</td>\n",
       "      <td>DM</td>\n",
       "      <td>73211009</td>\n",
       "    </tr>\n",
       "    <tr>\n",
       "      <th>1</th>\n",
       "      <td>es-S0210-56912007000900007-3</td>\n",
       "      <td>ENFERMEDAD</td>\n",
       "      <td>362</td>\n",
       "      <td>376</td>\n",
       "      <td>deshidratación</td>\n",
       "      <td>34095006</td>\n",
       "    </tr>\n",
       "    <tr>\n",
       "      <th>2</th>\n",
       "      <td>es-S0210-56912007000900007-3</td>\n",
       "      <td>ENFERMEDAD</td>\n",
       "      <td>575</td>\n",
       "      <td>590</td>\n",
       "      <td>hiperamilasemia</td>\n",
       "      <td>275739007</td>\n",
       "    </tr>\n",
       "    <tr>\n",
       "      <th>3</th>\n",
       "      <td>es-S0210-56912007000900007-3</td>\n",
       "      <td>ENFERMEDAD</td>\n",
       "      <td>715</td>\n",
       "      <td>733</td>\n",
       "      <td>pancreatitis aguda</td>\n",
       "      <td>197456007</td>\n",
       "    </tr>\n",
       "    <tr>\n",
       "      <th>4</th>\n",
       "      <td>es-S0210-56912007000900007-3</td>\n",
       "      <td>ENFERMEDAD</td>\n",
       "      <td>1402</td>\n",
       "      <td>1459</td>\n",
       "      <td>formación polipoidea sésil situada junto al es...</td>\n",
       "      <td>88580009</td>\n",
       "    </tr>\n",
       "    <tr>\n",
       "      <th>...</th>\n",
       "      <td>...</td>\n",
       "      <td>...</td>\n",
       "      <td>...</td>\n",
       "      <td>...</td>\n",
       "      <td>...</td>\n",
       "      <td>...</td>\n",
       "    </tr>\n",
       "    <tr>\n",
       "      <th>26706</th>\n",
       "      <td>es-S2340-98942015000100005-1</td>\n",
       "      <td>PROCEDIMIENTO</td>\n",
       "      <td>1732</td>\n",
       "      <td>1795</td>\n",
       "      <td>quimioterapia con trabectedina y adriamicina l...</td>\n",
       "      <td>367336001</td>\n",
       "    </tr>\n",
       "    <tr>\n",
       "      <th>26707</th>\n",
       "      <td>es-S2340-98942015000100005-1</td>\n",
       "      <td>PROCEDIMIENTO</td>\n",
       "      <td>231</td>\n",
       "      <td>284</td>\n",
       "      <td>quimioterapia adyuvante con carboplatino y pac...</td>\n",
       "      <td>367336001</td>\n",
       "    </tr>\n",
       "    <tr>\n",
       "      <th>26708</th>\n",
       "      <td>es-S2340-98942015000100005-1</td>\n",
       "      <td>PROCEDIMIENTO</td>\n",
       "      <td>465</td>\n",
       "      <td>468</td>\n",
       "      <td>TAC</td>\n",
       "      <td>77477000</td>\n",
       "    </tr>\n",
       "    <tr>\n",
       "      <th>26709</th>\n",
       "      <td>es-S2340-98942015000100005-1</td>\n",
       "      <td>PROCEDIMIENTO</td>\n",
       "      <td>533</td>\n",
       "      <td>569</td>\n",
       "      <td>resección anterior de recto superior</td>\n",
       "      <td>172341002</td>\n",
       "    </tr>\n",
       "    <tr>\n",
       "      <th>26710</th>\n",
       "      <td>es-S2340-98942015000100005-1</td>\n",
       "      <td>PROCEDIMIENTO</td>\n",
       "      <td>574</td>\n",
       "      <td>620</td>\n",
       "      <td>biopsia intraoperatoria de una lesión hepática</td>\n",
       "      <td>274355008</td>\n",
       "    </tr>\n",
       "  </tbody>\n",
       "</table>\n",
       "<p>26711 rows × 6 columns</p>\n",
       "</div>"
      ],
      "text/plain": [
       "                           filename          label  span_start  span_end  \\\n",
       "0      es-S0210-56912007000900007-3     ENFERMEDAD         164       166   \n",
       "1      es-S0210-56912007000900007-3     ENFERMEDAD         362       376   \n",
       "2      es-S0210-56912007000900007-3     ENFERMEDAD         575       590   \n",
       "3      es-S0210-56912007000900007-3     ENFERMEDAD         715       733   \n",
       "4      es-S0210-56912007000900007-3     ENFERMEDAD        1402      1459   \n",
       "...                             ...            ...         ...       ...   \n",
       "26706  es-S2340-98942015000100005-1  PROCEDIMIENTO        1732      1795   \n",
       "26707  es-S2340-98942015000100005-1  PROCEDIMIENTO         231       284   \n",
       "26708  es-S2340-98942015000100005-1  PROCEDIMIENTO         465       468   \n",
       "26709  es-S2340-98942015000100005-1  PROCEDIMIENTO         533       569   \n",
       "26710  es-S2340-98942015000100005-1  PROCEDIMIENTO         574       620   \n",
       "\n",
       "                                               span_text       code  \n",
       "0                                                     DM   73211009  \n",
       "1                                         deshidratación   34095006  \n",
       "2                                        hiperamilasemia  275739007  \n",
       "3                                     pancreatitis aguda  197456007  \n",
       "4      formación polipoidea sésil situada junto al es...   88580009  \n",
       "...                                                  ...        ...  \n",
       "26706  quimioterapia con trabectedina y adriamicina l...  367336001  \n",
       "26707  quimioterapia adyuvante con carboplatino y pac...  367336001  \n",
       "26708                                                TAC   77477000  \n",
       "26709               resección anterior de recto superior  172341002  \n",
       "26710     biopsia intraoperatoria de una lesión hepática  274355008  \n",
       "\n",
       "[26711 rows x 6 columns]"
      ]
     },
     "execution_count": 37,
     "metadata": {},
     "output_type": "execute_result"
    }
   ],
   "source": [
    "annotations"
   ]
  },
  {
   "cell_type": "code",
   "execution_count": 49,
   "metadata": {},
   "outputs": [],
   "source": [
    "snomed_es = snomed.drop_duplicates('code')"
   ]
  },
  {
   "cell_type": "code",
   "execution_count": 50,
   "metadata": {},
   "outputs": [
    {
     "data": {
      "text/html": [
       "<div>\n",
       "<style scoped>\n",
       "    .dataframe tbody tr th:only-of-type {\n",
       "        vertical-align: middle;\n",
       "    }\n",
       "\n",
       "    .dataframe tbody tr th {\n",
       "        vertical-align: top;\n",
       "    }\n",
       "\n",
       "    .dataframe thead th {\n",
       "        text-align: right;\n",
       "    }\n",
       "</style>\n",
       "<table border=\"1\" class=\"dataframe\">\n",
       "  <thead>\n",
       "    <tr style=\"text-align: right;\">\n",
       "      <th></th>\n",
       "      <th>filename</th>\n",
       "      <th>label</th>\n",
       "      <th>span_start</th>\n",
       "      <th>span_end</th>\n",
       "      <th>span_text</th>\n",
       "      <th>code</th>\n",
       "      <th>term</th>\n",
       "    </tr>\n",
       "  </thead>\n",
       "  <tbody>\n",
       "    <tr>\n",
       "      <th>0</th>\n",
       "      <td>es-S0210-56912007000900007-3</td>\n",
       "      <td>ENFERMEDAD</td>\n",
       "      <td>164</td>\n",
       "      <td>166</td>\n",
       "      <td>DM</td>\n",
       "      <td>73211009</td>\n",
       "      <td>diabetes mellitus</td>\n",
       "    </tr>\n",
       "    <tr>\n",
       "      <th>1</th>\n",
       "      <td>es-S0210-56912007000900007-3</td>\n",
       "      <td>ENFERMEDAD</td>\n",
       "      <td>164</td>\n",
       "      <td>166</td>\n",
       "      <td>DM</td>\n",
       "      <td>73211009</td>\n",
       "      <td>diabetes sacarina</td>\n",
       "    </tr>\n",
       "    <tr>\n",
       "      <th>2</th>\n",
       "      <td>es-S0210-56912007000900007-3</td>\n",
       "      <td>ENFERMEDAD</td>\n",
       "      <td>164</td>\n",
       "      <td>166</td>\n",
       "      <td>DM</td>\n",
       "      <td>73211009</td>\n",
       "      <td>diabetes mellitus (trastorno)</td>\n",
       "    </tr>\n",
       "    <tr>\n",
       "      <th>3</th>\n",
       "      <td>es-S0210-56912007000900007-3</td>\n",
       "      <td>ENFERMEDAD</td>\n",
       "      <td>362</td>\n",
       "      <td>376</td>\n",
       "      <td>deshidratación</td>\n",
       "      <td>34095006</td>\n",
       "      <td>deshidratación</td>\n",
       "    </tr>\n",
       "    <tr>\n",
       "      <th>4</th>\n",
       "      <td>es-S0210-56912007000900007-3</td>\n",
       "      <td>ENFERMEDAD</td>\n",
       "      <td>362</td>\n",
       "      <td>376</td>\n",
       "      <td>deshidratación</td>\n",
       "      <td>34095006</td>\n",
       "      <td>síndrome de depleción de agua libre</td>\n",
       "    </tr>\n",
       "    <tr>\n",
       "      <th>...</th>\n",
       "      <td>...</td>\n",
       "      <td>...</td>\n",
       "      <td>...</td>\n",
       "      <td>...</td>\n",
       "      <td>...</td>\n",
       "      <td>...</td>\n",
       "      <td>...</td>\n",
       "    </tr>\n",
       "    <tr>\n",
       "      <th>94950</th>\n",
       "      <td>es-S2340-98942015000100005-1</td>\n",
       "      <td>PROCEDIMIENTO</td>\n",
       "      <td>533</td>\n",
       "      <td>569</td>\n",
       "      <td>resección anterior de recto superior</td>\n",
       "      <td>172341002</td>\n",
       "      <td>resección del músculo recto superior (procedim...</td>\n",
       "    </tr>\n",
       "    <tr>\n",
       "      <th>94951</th>\n",
       "      <td>es-S2340-98942015000100005-1</td>\n",
       "      <td>PROCEDIMIENTO</td>\n",
       "      <td>533</td>\n",
       "      <td>569</td>\n",
       "      <td>resección anterior de recto superior</td>\n",
       "      <td>172341002</td>\n",
       "      <td>resección del recto superior</td>\n",
       "    </tr>\n",
       "    <tr>\n",
       "      <th>94952</th>\n",
       "      <td>es-S2340-98942015000100005-1</td>\n",
       "      <td>PROCEDIMIENTO</td>\n",
       "      <td>533</td>\n",
       "      <td>569</td>\n",
       "      <td>resección anterior de recto superior</td>\n",
       "      <td>172341002</td>\n",
       "      <td>resección del músculo recto superior</td>\n",
       "    </tr>\n",
       "    <tr>\n",
       "      <th>94953</th>\n",
       "      <td>es-S2340-98942015000100005-1</td>\n",
       "      <td>PROCEDIMIENTO</td>\n",
       "      <td>574</td>\n",
       "      <td>620</td>\n",
       "      <td>biopsia intraoperatoria de una lesión hepática</td>\n",
       "      <td>274355008</td>\n",
       "      <td>biopsia quirúrgica de hígado (procedimiento)</td>\n",
       "    </tr>\n",
       "    <tr>\n",
       "      <th>94954</th>\n",
       "      <td>es-S2340-98942015000100005-1</td>\n",
       "      <td>PROCEDIMIENTO</td>\n",
       "      <td>574</td>\n",
       "      <td>620</td>\n",
       "      <td>biopsia intraoperatoria de una lesión hepática</td>\n",
       "      <td>274355008</td>\n",
       "      <td>biopsia quirúrgica de hígado</td>\n",
       "    </tr>\n",
       "  </tbody>\n",
       "</table>\n",
       "<p>94955 rows × 7 columns</p>\n",
       "</div>"
      ],
      "text/plain": [
       "                           filename          label  span_start  span_end  \\\n",
       "0      es-S0210-56912007000900007-3     ENFERMEDAD         164       166   \n",
       "1      es-S0210-56912007000900007-3     ENFERMEDAD         164       166   \n",
       "2      es-S0210-56912007000900007-3     ENFERMEDAD         164       166   \n",
       "3      es-S0210-56912007000900007-3     ENFERMEDAD         362       376   \n",
       "4      es-S0210-56912007000900007-3     ENFERMEDAD         362       376   \n",
       "...                             ...            ...         ...       ...   \n",
       "94950  es-S2340-98942015000100005-1  PROCEDIMIENTO         533       569   \n",
       "94951  es-S2340-98942015000100005-1  PROCEDIMIENTO         533       569   \n",
       "94952  es-S2340-98942015000100005-1  PROCEDIMIENTO         533       569   \n",
       "94953  es-S2340-98942015000100005-1  PROCEDIMIENTO         574       620   \n",
       "94954  es-S2340-98942015000100005-1  PROCEDIMIENTO         574       620   \n",
       "\n",
       "                                            span_text       code  \\\n",
       "0                                                  DM   73211009   \n",
       "1                                                  DM   73211009   \n",
       "2                                                  DM   73211009   \n",
       "3                                      deshidratación   34095006   \n",
       "4                                      deshidratación   34095006   \n",
       "...                                               ...        ...   \n",
       "94950            resección anterior de recto superior  172341002   \n",
       "94951            resección anterior de recto superior  172341002   \n",
       "94952            resección anterior de recto superior  172341002   \n",
       "94953  biopsia intraoperatoria de una lesión hepática  274355008   \n",
       "94954  biopsia intraoperatoria de una lesión hepática  274355008   \n",
       "\n",
       "                                                    term  \n",
       "0                                      diabetes mellitus  \n",
       "1                                      diabetes sacarina  \n",
       "2                          diabetes mellitus (trastorno)  \n",
       "3                                         deshidratación  \n",
       "4                    síndrome de depleción de agua libre  \n",
       "...                                                  ...  \n",
       "94950  resección del músculo recto superior (procedim...  \n",
       "94951                       resección del recto superior  \n",
       "94952               resección del músculo recto superior  \n",
       "94953       biopsia quirúrgica de hígado (procedimiento)  \n",
       "94954                       biopsia quirúrgica de hígado  \n",
       "\n",
       "[94955 rows x 7 columns]"
      ]
     },
     "execution_count": 50,
     "metadata": {},
     "output_type": "execute_result"
    }
   ],
   "source": [
    "annotations.merge(snomed_es, on='code')"
   ]
  },
  {
   "cell_type": "code",
   "execution_count": 14,
   "metadata": {},
   "outputs": [],
   "source": [
    "filename='es-S2340-98942015000100005-1'"
   ]
  },
  {
   "cell_type": "code",
   "execution_count": 20,
   "metadata": {},
   "outputs": [
    {
     "data": {
      "text/plain": [
       "'filename = \"es-S2340-98942015000100005-1\"'"
      ]
     },
     "execution_count": 20,
     "metadata": {},
     "output_type": "execute_result"
    }
   ],
   "source": [
    "f'filename = \"{filename}\"'"
   ]
  },
  {
   "cell_type": "code",
   "execution_count": 60,
   "metadata": {},
   "outputs": [],
   "source": [
    "import json"
   ]
  },
  {
   "cell_type": "code",
   "execution_count": 75,
   "metadata": {},
   "outputs": [
    {
     "data": {
      "text/html": [
       "<div>\n",
       "<style scoped>\n",
       "    .dataframe tbody tr th:only-of-type {\n",
       "        vertical-align: middle;\n",
       "    }\n",
       "\n",
       "    .dataframe tbody tr th {\n",
       "        vertical-align: top;\n",
       "    }\n",
       "\n",
       "    .dataframe thead th {\n",
       "        text-align: right;\n",
       "    }\n",
       "</style>\n",
       "<table border=\"1\" class=\"dataframe\">\n",
       "  <thead>\n",
       "    <tr style=\"text-align: right;\">\n",
       "      <th></th>\n",
       "      <th>label</th>\n",
       "      <th>term</th>\n",
       "    </tr>\n",
       "  </thead>\n",
       "  <tbody>\n",
       "    <tr>\n",
       "      <th>8720</th>\n",
       "      <td>SINTOMA</td>\n",
       "      <td>temperatura corporal normal</td>\n",
       "    </tr>\n",
       "    <tr>\n",
       "      <th>9220</th>\n",
       "      <td>SINTOMA</td>\n",
       "      <td>colección pancreática</td>\n",
       "    </tr>\n",
       "    <tr>\n",
       "      <th>9225</th>\n",
       "      <td>SINTOMA</td>\n",
       "      <td>colección pancreática</td>\n",
       "    </tr>\n",
       "    <tr>\n",
       "      <th>9226</th>\n",
       "      <td>SINTOMA</td>\n",
       "      <td>trastorno de compartimiento retroperitoneal</td>\n",
       "    </tr>\n",
       "    <tr>\n",
       "      <th>9369</th>\n",
       "      <td>SINTOMA</td>\n",
       "      <td>cultivo microbiológico positivo (hallazgo)</td>\n",
       "    </tr>\n",
       "    <tr>\n",
       "      <th>9399</th>\n",
       "      <td>SINTOMA</td>\n",
       "      <td>balance de líquidos de drenaje - hallazgo</td>\n",
       "    </tr>\n",
       "    <tr>\n",
       "      <th>9504</th>\n",
       "      <td>SINTOMA</td>\n",
       "      <td>deterioro general de la salud</td>\n",
       "    </tr>\n",
       "    <tr>\n",
       "      <th>10174</th>\n",
       "      <td>SINTOMA</td>\n",
       "      <td>fiebre</td>\n",
       "    </tr>\n",
       "    <tr>\n",
       "      <th>10752</th>\n",
       "      <td>SINTOMA</td>\n",
       "      <td>colección intrabdominal</td>\n",
       "    </tr>\n",
       "    <tr>\n",
       "      <th>11555</th>\n",
       "      <td>SINTOMA</td>\n",
       "      <td>fiebre</td>\n",
       "    </tr>\n",
       "  </tbody>\n",
       "</table>\n",
       "</div>"
      ],
      "text/plain": [
       "         label                                         term\n",
       "8720   SINTOMA                  temperatura corporal normal\n",
       "9220   SINTOMA                        colección pancreática\n",
       "9225   SINTOMA                        colección pancreática\n",
       "9226   SINTOMA  trastorno de compartimiento retroperitoneal\n",
       "9369   SINTOMA   cultivo microbiológico positivo (hallazgo)\n",
       "9399   SINTOMA    balance de líquidos de drenaje - hallazgo\n",
       "9504   SINTOMA                deterioro general de la salud\n",
       "10174  SINTOMA                                       fiebre\n",
       "10752  SINTOMA                      colección intrabdominal\n",
       "11555  SINTOMA                                       fiebre"
      ]
     },
     "execution_count": 75,
     "metadata": {},
     "output_type": "execute_result"
    }
   ],
   "source": [
    "annotations[annotations['filename'] == filename][['label','term']]"
   ]
  },
  {
   "cell_type": "markdown",
   "metadata": {},
   "source": []
  },
  {
   "cell_type": "code",
   "execution_count": 11,
   "metadata": {},
   "outputs": [],
   "source": [
    "from tqdm import tqdm "
   ]
  },
  {
   "cell_type": "code",
   "execution_count": 55,
   "metadata": {},
   "outputs": [],
   "source": [
    "annotations = annotations.merge(snomed_es, on='code')"
   ]
  },
  {
   "cell_type": "code",
   "execution_count": 78,
   "metadata": {},
   "outputs": [
    {
     "data": {
      "text/plain": [
       "'SINTOMA : temperatura corporal normal| SINTOMA : colección pancreática| SINTOMA : colección pancreática| SINTOMA : trastorno de compartimiento retroperitoneal| SINTOMA : cultivo microbiológico positivo (hallazgo)| SINTOMA : balance de líquidos de drenaje - hallazgo| SINTOMA : deterioro general de la salud| SINTOMA : fiebre| SINTOMA : colección intrabdominal| SINTOMA : fiebre'"
      ]
     },
     "execution_count": 78,
     "metadata": {},
     "output_type": "execute_result"
    }
   ],
   "source": [
    "'| '.join([f\"{row['label']} : {row['term']}\" for i, row in annot.iterrows()])"
   ]
  },
  {
   "cell_type": "code",
   "execution_count": 79,
   "metadata": {},
   "outputs": [
    {
     "name": "stderr",
     "output_type": "stream",
     "text": [
      "1000it [00:03, 315.03it/s]\n"
     ]
    }
   ],
   "source": [
    "# Process each unique filename\n",
    "messages = []\n",
    "\n",
    "for i, row in tqdm(clinical_notes.iterrows()):\n",
    "    filename = row['filename']\n",
    "    text = row['text']\n",
    "    annot = annotations[annotations['filename'] == filename][['label', 'term']]\n",
    "    \n",
    "    query = json.dumps(annot.groupby('label').agg('; '.join).to_dict().get('term'))\n",
    "    input = '| '.join([f\"{row['label']} : {row['term']}\" for i, row in annot.iterrows()])\n",
    "    messages.append(\n",
    "    {\n",
    "        \"messages\": [\n",
    "            {\"role\": \"user\", \n",
    "             \"content\": input\n",
    "            },\n",
    "            {\"role\": \"assistant\", \n",
    "             \"content\": text\n",
    "            },\n",
    "        ]\n",
    "    }\n",
    "\n",
    "    )\n",
    "\n",
    "\n",
    "\n",
    "   \n",
    "\n"
   ]
  },
  {
   "cell_type": "code",
   "execution_count": 72,
   "metadata": {},
   "outputs": [
    {
     "data": {
      "text/plain": [
       "1000"
      ]
     },
     "execution_count": 72,
     "metadata": {},
     "output_type": "execute_result"
    }
   ],
   "source": [
    "len(messages)"
   ]
  },
  {
   "cell_type": "code",
   "execution_count": 92,
   "metadata": {},
   "outputs": [],
   "source": [
    "# Write data to a JSONL file\n",
    "with open('training_file.jsonl', 'w') as file:\n",
    "    for entry in messages[:900]:\n",
    "        json.dump(entry, file)\n",
    "        file.write('\\n')\n"
   ]
  },
  {
   "cell_type": "code",
   "execution_count": 93,
   "metadata": {},
   "outputs": [],
   "source": [
    "# Write data to a JSONL file\n",
    "with open('test_file.jsonl', 'w') as file:\n",
    "    for entry in messages[900:]:\n",
    "        json.dump(entry, file)\n",
    "        file.write('\\n')"
   ]
  },
  {
   "cell_type": "code",
   "execution_count": 94,
   "metadata": {},
   "outputs": [],
   "source": [
    "with open(\"training_file.jsonl\", \"rb\") as f:\n",
    "    training_data = client.files.create(file=(\"training_file.jsonl\", f))    "
   ]
  },
  {
   "cell_type": "code",
   "execution_count": 95,
   "metadata": {},
   "outputs": [],
   "source": [
    "with open(\"test_file.jsonl\", \"rb\") as f:\n",
    "    validation_data = client.files.create(file=(\"test_file.jsonl\", f))  "
   ]
  },
  {
   "cell_type": "code",
   "execution_count": 96,
   "metadata": {},
   "outputs": [
    {
     "data": {
      "text/plain": [
       "Job(id='e98cba77-acf3-4e20-ab56-5f62ca77eb57', hyperparameters=TrainingParameters(training_steps=10, learning_rate=0.0001), fine_tuned_model=None, model='open-mistral-7b', status='QUEUED', job_type='FT', created_at=1719666118, modified_at=1719666118, training_files=['7f75f5d5-32c5-4478-912e-3462ef4d7e62'], validation_files=['d3fc2c99-b992-47cc-8091-79016d0dbcc6'], object='job', integrations=[])"
      ]
     },
     "execution_count": 96,
     "metadata": {},
     "output_type": "execute_result"
    }
   ],
   "source": [
    "created_job = client.jobs.create(\n",
    "    model=\"open-mistral-7b\",\n",
    "    training_files=[training_data.id],\n",
    "    validation_files=[validation_data.id],\n",
    "    hyperparameters=TrainingParameters(\n",
    "        training_steps=10,\n",
    "        learning_rate=0.0001,\n",
    "        )\n",
    ")\n",
    "created_job"
   ]
  },
  {
   "cell_type": "code",
   "execution_count": 98,
   "metadata": {},
   "outputs": [
    {
     "name": "stdout",
     "output_type": "stream",
     "text": [
      "id='e98cba77-acf3-4e20-ab56-5f62ca77eb57' hyperparameters=TrainingParameters(training_steps=10, learning_rate=0.0001) fine_tuned_model='ft:open-mistral-7b:953eb039:20240629:e98cba77' model='open-mistral-7b' status='SUCCESS' job_type='FT' created_at=1719666118 modified_at=1719666204 training_files=['7f75f5d5-32c5-4478-912e-3462ef4d7e62'] validation_files=['d3fc2c99-b992-47cc-8091-79016d0dbcc6'] object='job' integrations=[] events=[Event(name='status-updated', data={'status': 'SUCCESS'}, created_at=1719666204), Event(name='status-updated', data={'status': 'RUNNING'}, created_at=1719666118), Event(name='status-updated', data={'status': 'QUEUED'}, created_at=1719666118)] checkpoints=[Checkpoint(metrics=Metric(train_loss=1.59191, valid_loss=1.607452, valid_mean_token_accuracy=3.047133), step_number=10, created_at=1719666191)] estimated_start_time=None\n"
     ]
    }
   ],
   "source": [
    "retrieved_job = client.jobs.retrieve(created_job.id)\n",
    "print(retrieved_job)"
   ]
  },
  {
   "cell_type": "code",
   "execution_count": 100,
   "metadata": {},
   "outputs": [],
   "source": [
    "fine_tuned_model = retrieved_job.fine_tuned_model\n"
   ]
  },
  {
   "cell_type": "code",
   "execution_count": 101,
   "metadata": {},
   "outputs": [
    {
     "data": {
      "text/plain": [
       "'ft:open-mistral-7b:953eb039:20240629:e98cba77'"
      ]
     },
     "execution_count": 101,
     "metadata": {},
     "output_type": "execute_result"
    }
   ],
   "source": [
    "fine_tuned_model"
   ]
  },
  {
   "cell_type": "code",
   "execution_count": 112,
   "metadata": {},
   "outputs": [],
   "source": [
    "from mistralai.models.chat_completion import ChatMessage"
   ]
  },
  {
   "cell_type": "code",
   "execution_count": 103,
   "metadata": {},
   "outputs": [],
   "source": [
    "import random"
   ]
  },
  {
   "cell_type": "code",
   "execution_count": 105,
   "metadata": {},
   "outputs": [],
   "source": [
    "test = random.choice(messages)"
   ]
  },
  {
   "cell_type": "code",
   "execution_count": 107,
   "metadata": {},
   "outputs": [
    {
     "data": {
      "text/plain": [
       "'ENFERMEDAD : herida de entrada de disparo de arma de fuego (trastorno)| ENFERMEDAD : herida de bala| ENFERMEDAD : hiperplasia de próstata| ENFERMEDAD : cuerpo extraño de una estructura corporal| ENFERMEDAD : fractura de la rama inferior del pubis| ENFERMEDAD : perforación del recto| ENFERMEDAD : lesión traumática Y/O atraumática| ENFERMEDAD : lesión traumática Y/O atraumática| ENFERMEDAD : perforación del recto| SINTOMA : ausencia de síntomas| SINTOMA : completamente consciente| SINTOMA : orientado (hallazgo)| SINTOMA : defensa abdominal| SINTOMA : fiebre| SINTOMA : escalofríos| SINTOMA : ausencia de síntomas| SINTOMA : función sexual normal| SINTOMA : hallazgo uretral| SINTOMA : retención de orina| SINTOMA : ecografía normal| PROCEDIMIENTO : procedimiento quirúrgico (procedimiento)| PROCEDIMIENTO : colonoscopia| PROCEDIMIENTO : endoscopia de la uretra (procedimiento)| PROCEDIMIENTO : colocación de sonda uretral (procedimiento)| PROCEDIMIENTO : procedimiento quirúrgico (procedimiento)| PROCEDIMIENTO : incisión y reexploración| PROCEDIMIENTO : incisión del espacio de Retzius| PROCEDIMIENTO : procedimiento con guía radiológica (procedimiento)| PROCEDIMIENTO : procedimiento con guía radiológica (procedimiento)| PROCEDIMIENTO : colonoscopia| PROCEDIMIENTO : cierre de una colostomía| PROCEDIMIENTO : inserción de una sonda| PROCEDIMIENTO : uretrografía| PROCEDIMIENTO : remoción de sonda vesical| PROCEDIMIENTO : ecografía| PROCEDIMIENTO : radiografía simple del abdomen (procedimiento)| PROCEDIMIENTO : inserción de una sonda| PROCEDIMIENTO : procedimiento que involucra a un catéter suprapúbico| PROCEDIMIENTO : laparotomía| PROCEDIMIENTO : colostomía| PROCEDIMIENTO : uretrografía'"
      ]
     },
     "execution_count": 107,
     "metadata": {},
     "output_type": "execute_result"
    }
   ],
   "source": [
    "test['messages'][0]['content']"
   ]
  },
  {
   "cell_type": "code",
   "execution_count": 109,
   "metadata": {},
   "outputs": [
    {
     "data": {
      "text/plain": [
       "'Se trata de un paciente de 59 años que ingresa con una herida de arma de fuego con orificio de entrada en la nalga, de unos 4 milímetros de diámetro y sin orificio de salida. Además presenta otra herida de bala en el muslo derecho con orificio de entrada por detrás y salida por delante, sin afectación de estructuras importantes. El paciente está consciente, orientado y con una ligera defensa abdominal. En la radiografía simple de abdomen aparece una bala situada a la altura de la sínfisis del pubis, así como una fractura de la rama descendente derecha del mismo. El enfermo llega en retención, siendo imposible el sondaje, por lo que se pone un catéter suprapúbico. Después se efectúa una laparotomía, no encontrándose ninguna otra lesión, realizándose una colostomía izquierda. Al día siguiente se realiza una uretrografía, comprobándose que hay paso de contraste desde la uretra hasta el recto, lo que provoca fiebre alta con escalofríos que se mantiene durante unos días. Posteriormente, cinco días después de la primera intervención, se lleva el paciente al quirófano, se realiza una colonoscopia evidenciándose la perforación rectal. Seguidamente se introduce un uretrotomo endoscópico hasta la uretra prostática visualizándose el orificio, aparentemente grande, que une la uretra con el recto. A pesar de todo se consigue encontrar el camino que lleva hasta la vejiga y por último se deja una sonda del dieciocho.\\n\\nActo seguido, en el mismo acto quirúrgico, se hace una laparotomía hasta la sínfisis del pubis, se revisa de nuevo el abdomen comprobándose que no hay ninguna lesión. A continuación se diseca el espacio de Retzius y mediante control radiológico, se palpa la cara anterior de la próstata, que está hiperplásica, hasta conseguir tocar el proyectil. Seguidamente con una pinza de anillo y siempre bajo control radiológico se consigue agarrar y extraer la bala. El postoperatorio cursa sin incidencias y el paciente es dado de alta a los pocos días con la sonda.\\n\\nA los tres meses el paciente está asintomático, se le hace una nueva colonoscopia, se comprueba que el orificio rectal ha desaparecido y se cierra la colostomía, sin incidencias. Sin embargo la sonda se le deja tres meses más, es decir un total de seis meses. Transcurrido este tiempo se realiza de nuevo una uretrografía, se comprueba que la brecha se ha cerrado y se retira la sonda. Seis meses más tarde, el paciente vuelve para control, está asintomático y con una función sexual normal; esta vez se realiza tan sólo un ultrasonido, que es normal y es dado de alta definitiva.\\n\\n'"
      ]
     },
     "execution_count": 109,
     "metadata": {},
     "output_type": "execute_result"
    }
   ],
   "source": [
    "test['messages'][1]['content']"
   ]
  },
  {
   "cell_type": "code",
   "execution_count": null,
   "metadata": {},
   "outputs": [],
   "source": [
    "\n",
    "\n",
    "chat_response = client.chat(\n",
    "    model=fine_tuned_model,\n",
    "    messages=[ChatMessage(role='user', \n",
    "                          content='What is the best French cheese?'\n",
    "                          )\n",
    "                ]\n",
    ")"
   ]
  },
  {
   "cell_type": "code",
   "execution_count": null,
   "metadata": {},
   "outputs": [],
   "source": [
    "from mistralai.models.chat_completion import ChatMessage\n",
    "fine_tuned_model = 'ft:open-mistral-7b:953eb039:20240629:e98cba77'\n",
    "input = 'SINTOMA : temperatura corporal normal| SINTOMA : colección pancreática| SINTOMA : colección pancreática| SINTOMA : trastorno de compartimiento retroperitoneal| SINTOMA : cultivo microbiológico positivo (hallazgo)| SINTOMA : balance de líquidos de drenaje - hallazgo| SINTOMA : deterioro general de la salud| SINTOMA : fiebre| SINTOMA : colección intrabdominal| SINTOMA : fiebre'\n",
    "def mistral_call(input):\n",
    "    chat_response = client.chat(\n",
    "    model=fine_tuned_model,\n",
    "    messages=[ChatMessage(role='user', \n",
    "                          content=input\n",
    "                          )\n",
    "                ]\n",
    "    )\n",
    "\n",
    "    return chat_response.choices[0].message.content\n"
   ]
  },
  {
   "cell_type": "code",
   "execution_count": 135,
   "metadata": {},
   "outputs": [
    {
     "data": {
      "text/plain": [
       "'SINTOMA : temperatura corporal normal| SINTOMA : colección pancreática| SINTOMA : colección pancreática| SINTOMA : trastorno de compartimiento retroperitoneal| SINTOMA : cultivo microbiológico positivo (hallazgo)| SINTOMA : balance de líquidos de drenaje - hallazgo| SINTOMA : deterioro general de la salud| SINTOMA : fiebre| SINTOMA : colección intrabdominal| SINTOMA : fiebre'"
      ]
     },
     "execution_count": 135,
     "metadata": {},
     "output_type": "execute_result"
    }
   ],
   "source": [
    "input"
   ]
  },
  {
   "cell_type": "code",
   "execution_count": null,
   "metadata": {},
   "outputs": [],
   "source": [
    "from pprint import pprint"
   ]
  },
  {
   "cell_type": "code",
   "execution_count": 136,
   "metadata": {},
   "outputs": [],
   "source": [
    "def test():\n",
    "    test = random.choice(messages)\n",
    "    input = test['messages'][0]['content']\n",
    "    expected = test['messages'][1]['content']\n",
    "    chat_response = client.chat(\n",
    "    model=fine_tuned_model,\n",
    "    messages=[ChatMessage(role='user', \n",
    "                          content=input\n",
    "                          )\n",
    "                ]\n",
    "    )\n",
    "\n",
    "    response = chat_response.choices[0].message.content\n",
    "    pprint(f'Original: {expected}')\n",
    "    pprint(f'Model: {response}')\n",
    "\n",
    "    return response\n"
   ]
  },
  {
   "cell_type": "code",
   "execution_count": 144,
   "metadata": {},
   "outputs": [],
   "source": [
    "def explain(input):\n",
    "    client = MistralClient(api_key=api_key)\n",
    "    model = \"mistral-large-latest\"\n",
    "\n",
    "    sys_message = \"\"\"\n",
    "        You are physician. You have been given the clinical record for a patient. Summarize the report so that it is easily understood for a non expert, avoiding difficult medical terms.\n",
    "    \"\"\"\n",
    "\n",
    "    messages = [\n",
    "        ChatMessage(role=\"system\", content=sys_message),\n",
    "        ChatMessage(role=\"user\", content=input)\n",
    "    ]\n",
    "    chat_response = client.chat(\n",
    "        model=model,\n",
    "        messages=messages\n",
    "    )\n",
    "    return chat_response.choices[0].message.content\n",
    "\n"
   ]
  },
  {
   "cell_type": "code",
   "execution_count": 143,
   "metadata": {},
   "outputs": [
    {
     "ename": "MistralException",
     "evalue": "Unexpected exception (ReadTimeout): The read operation timed out",
     "output_type": "error",
     "traceback": [
      "\u001b[0;31m---------------------------------------------------------------------------\u001b[0m",
      "\u001b[0;31mReadTimeout\u001b[0m                               Traceback (most recent call last)",
      "File \u001b[0;32m~/BSC/code/hackbcn-2024/.env/lib/python3.10/site-packages/httpx/_transports/default.py:69\u001b[0m, in \u001b[0;36mmap_httpcore_exceptions\u001b[0;34m()\u001b[0m\n\u001b[1;32m     68\u001b[0m \u001b[38;5;28;01mtry\u001b[39;00m:\n\u001b[0;32m---> 69\u001b[0m     \u001b[38;5;28;01myield\u001b[39;00m\n\u001b[1;32m     70\u001b[0m \u001b[38;5;28;01mexcept\u001b[39;00m \u001b[38;5;167;01mException\u001b[39;00m \u001b[38;5;28;01mas\u001b[39;00m exc:\n",
      "File \u001b[0;32m~/BSC/code/hackbcn-2024/.env/lib/python3.10/site-packages/httpx/_transports/default.py:233\u001b[0m, in \u001b[0;36mHTTPTransport.handle_request\u001b[0;34m(self, request)\u001b[0m\n\u001b[1;32m    232\u001b[0m \u001b[38;5;28;01mwith\u001b[39;00m map_httpcore_exceptions():\n\u001b[0;32m--> 233\u001b[0m     resp \u001b[38;5;241m=\u001b[39m \u001b[38;5;28;43mself\u001b[39;49m\u001b[38;5;241;43m.\u001b[39;49m\u001b[43m_pool\u001b[49m\u001b[38;5;241;43m.\u001b[39;49m\u001b[43mhandle_request\u001b[49m\u001b[43m(\u001b[49m\u001b[43mreq\u001b[49m\u001b[43m)\u001b[49m\n\u001b[1;32m    235\u001b[0m \u001b[38;5;28;01massert\u001b[39;00m \u001b[38;5;28misinstance\u001b[39m(resp\u001b[38;5;241m.\u001b[39mstream, typing\u001b[38;5;241m.\u001b[39mIterable)\n",
      "File \u001b[0;32m~/BSC/code/hackbcn-2024/.env/lib/python3.10/site-packages/httpcore/_sync/connection_pool.py:216\u001b[0m, in \u001b[0;36mConnectionPool.handle_request\u001b[0;34m(self, request)\u001b[0m\n\u001b[1;32m    215\u001b[0m     \u001b[38;5;28mself\u001b[39m\u001b[38;5;241m.\u001b[39m_close_connections(closing)\n\u001b[0;32m--> 216\u001b[0m     \u001b[38;5;28;01mraise\u001b[39;00m exc \u001b[38;5;28;01mfrom\u001b[39;00m \u001b[38;5;28;01mNone\u001b[39;00m\n\u001b[1;32m    218\u001b[0m \u001b[38;5;66;03m# Return the response. Note that in this case we still have to manage\u001b[39;00m\n\u001b[1;32m    219\u001b[0m \u001b[38;5;66;03m# the point at which the response is closed.\u001b[39;00m\n",
      "File \u001b[0;32m~/BSC/code/hackbcn-2024/.env/lib/python3.10/site-packages/httpcore/_sync/connection_pool.py:196\u001b[0m, in \u001b[0;36mConnectionPool.handle_request\u001b[0;34m(self, request)\u001b[0m\n\u001b[1;32m    194\u001b[0m \u001b[38;5;28;01mtry\u001b[39;00m:\n\u001b[1;32m    195\u001b[0m     \u001b[38;5;66;03m# Send the request on the assigned connection.\u001b[39;00m\n\u001b[0;32m--> 196\u001b[0m     response \u001b[38;5;241m=\u001b[39m \u001b[43mconnection\u001b[49m\u001b[38;5;241;43m.\u001b[39;49m\u001b[43mhandle_request\u001b[49m\u001b[43m(\u001b[49m\n\u001b[1;32m    197\u001b[0m \u001b[43m        \u001b[49m\u001b[43mpool_request\u001b[49m\u001b[38;5;241;43m.\u001b[39;49m\u001b[43mrequest\u001b[49m\n\u001b[1;32m    198\u001b[0m \u001b[43m    \u001b[49m\u001b[43m)\u001b[49m\n\u001b[1;32m    199\u001b[0m \u001b[38;5;28;01mexcept\u001b[39;00m ConnectionNotAvailable:\n\u001b[1;32m    200\u001b[0m     \u001b[38;5;66;03m# In some cases a connection may initially be available to\u001b[39;00m\n\u001b[1;32m    201\u001b[0m     \u001b[38;5;66;03m# handle a request, but then become unavailable.\u001b[39;00m\n\u001b[1;32m    202\u001b[0m     \u001b[38;5;66;03m#\u001b[39;00m\n\u001b[1;32m    203\u001b[0m     \u001b[38;5;66;03m# In this case we clear the connection and try again.\u001b[39;00m\n",
      "File \u001b[0;32m~/BSC/code/hackbcn-2024/.env/lib/python3.10/site-packages/httpcore/_sync/connection.py:101\u001b[0m, in \u001b[0;36mHTTPConnection.handle_request\u001b[0;34m(self, request)\u001b[0m\n\u001b[1;32m     99\u001b[0m     \u001b[38;5;28;01mraise\u001b[39;00m exc\n\u001b[0;32m--> 101\u001b[0m \u001b[38;5;28;01mreturn\u001b[39;00m \u001b[38;5;28;43mself\u001b[39;49m\u001b[38;5;241;43m.\u001b[39;49m\u001b[43m_connection\u001b[49m\u001b[38;5;241;43m.\u001b[39;49m\u001b[43mhandle_request\u001b[49m\u001b[43m(\u001b[49m\u001b[43mrequest\u001b[49m\u001b[43m)\u001b[49m\n",
      "File \u001b[0;32m~/BSC/code/hackbcn-2024/.env/lib/python3.10/site-packages/httpcore/_sync/http11.py:143\u001b[0m, in \u001b[0;36mHTTP11Connection.handle_request\u001b[0;34m(self, request)\u001b[0m\n\u001b[1;32m    142\u001b[0m         \u001b[38;5;28mself\u001b[39m\u001b[38;5;241m.\u001b[39m_response_closed()\n\u001b[0;32m--> 143\u001b[0m \u001b[38;5;28;01mraise\u001b[39;00m exc\n",
      "File \u001b[0;32m~/BSC/code/hackbcn-2024/.env/lib/python3.10/site-packages/httpcore/_sync/http11.py:113\u001b[0m, in \u001b[0;36mHTTP11Connection.handle_request\u001b[0;34m(self, request)\u001b[0m\n\u001b[1;32m    104\u001b[0m \u001b[38;5;28;01mwith\u001b[39;00m Trace(\n\u001b[1;32m    105\u001b[0m     \u001b[38;5;124m\"\u001b[39m\u001b[38;5;124mreceive_response_headers\u001b[39m\u001b[38;5;124m\"\u001b[39m, logger, request, kwargs\n\u001b[1;32m    106\u001b[0m ) \u001b[38;5;28;01mas\u001b[39;00m trace:\n\u001b[1;32m    107\u001b[0m     (\n\u001b[1;32m    108\u001b[0m         http_version,\n\u001b[1;32m    109\u001b[0m         status,\n\u001b[1;32m    110\u001b[0m         reason_phrase,\n\u001b[1;32m    111\u001b[0m         headers,\n\u001b[1;32m    112\u001b[0m         trailing_data,\n\u001b[0;32m--> 113\u001b[0m     ) \u001b[38;5;241m=\u001b[39m \u001b[38;5;28;43mself\u001b[39;49m\u001b[38;5;241;43m.\u001b[39;49m\u001b[43m_receive_response_headers\u001b[49m\u001b[43m(\u001b[49m\u001b[38;5;241;43m*\u001b[39;49m\u001b[38;5;241;43m*\u001b[39;49m\u001b[43mkwargs\u001b[49m\u001b[43m)\u001b[49m\n\u001b[1;32m    114\u001b[0m     trace\u001b[38;5;241m.\u001b[39mreturn_value \u001b[38;5;241m=\u001b[39m (\n\u001b[1;32m    115\u001b[0m         http_version,\n\u001b[1;32m    116\u001b[0m         status,\n\u001b[1;32m    117\u001b[0m         reason_phrase,\n\u001b[1;32m    118\u001b[0m         headers,\n\u001b[1;32m    119\u001b[0m     )\n",
      "File \u001b[0;32m~/BSC/code/hackbcn-2024/.env/lib/python3.10/site-packages/httpcore/_sync/http11.py:186\u001b[0m, in \u001b[0;36mHTTP11Connection._receive_response_headers\u001b[0;34m(self, request)\u001b[0m\n\u001b[1;32m    185\u001b[0m \u001b[38;5;28;01mwhile\u001b[39;00m \u001b[38;5;28;01mTrue\u001b[39;00m:\n\u001b[0;32m--> 186\u001b[0m     event \u001b[38;5;241m=\u001b[39m \u001b[38;5;28;43mself\u001b[39;49m\u001b[38;5;241;43m.\u001b[39;49m\u001b[43m_receive_event\u001b[49m\u001b[43m(\u001b[49m\u001b[43mtimeout\u001b[49m\u001b[38;5;241;43m=\u001b[39;49m\u001b[43mtimeout\u001b[49m\u001b[43m)\u001b[49m\n\u001b[1;32m    187\u001b[0m     \u001b[38;5;28;01mif\u001b[39;00m \u001b[38;5;28misinstance\u001b[39m(event, h11\u001b[38;5;241m.\u001b[39mResponse):\n",
      "File \u001b[0;32m~/BSC/code/hackbcn-2024/.env/lib/python3.10/site-packages/httpcore/_sync/http11.py:224\u001b[0m, in \u001b[0;36mHTTP11Connection._receive_event\u001b[0;34m(self, timeout)\u001b[0m\n\u001b[1;32m    223\u001b[0m \u001b[38;5;28;01mif\u001b[39;00m event \u001b[38;5;129;01mis\u001b[39;00m h11\u001b[38;5;241m.\u001b[39mNEED_DATA:\n\u001b[0;32m--> 224\u001b[0m     data \u001b[38;5;241m=\u001b[39m \u001b[38;5;28;43mself\u001b[39;49m\u001b[38;5;241;43m.\u001b[39;49m\u001b[43m_network_stream\u001b[49m\u001b[38;5;241;43m.\u001b[39;49m\u001b[43mread\u001b[49m\u001b[43m(\u001b[49m\n\u001b[1;32m    225\u001b[0m \u001b[43m        \u001b[49m\u001b[38;5;28;43mself\u001b[39;49m\u001b[38;5;241;43m.\u001b[39;49m\u001b[43mREAD_NUM_BYTES\u001b[49m\u001b[43m,\u001b[49m\u001b[43m \u001b[49m\u001b[43mtimeout\u001b[49m\u001b[38;5;241;43m=\u001b[39;49m\u001b[43mtimeout\u001b[49m\n\u001b[1;32m    226\u001b[0m \u001b[43m    \u001b[49m\u001b[43m)\u001b[49m\n\u001b[1;32m    228\u001b[0m     \u001b[38;5;66;03m# If we feed this case through h11 we'll raise an exception like:\u001b[39;00m\n\u001b[1;32m    229\u001b[0m     \u001b[38;5;66;03m#\u001b[39;00m\n\u001b[1;32m    230\u001b[0m     \u001b[38;5;66;03m#     httpcore.RemoteProtocolError: can't handle event type\u001b[39;00m\n\u001b[0;32m   (...)\u001b[0m\n\u001b[1;32m    234\u001b[0m     \u001b[38;5;66;03m# perspective. Instead we handle this case distinctly and treat\u001b[39;00m\n\u001b[1;32m    235\u001b[0m     \u001b[38;5;66;03m# it as a ConnectError.\u001b[39;00m\n",
      "File \u001b[0;32m~/BSC/code/hackbcn-2024/.env/lib/python3.10/site-packages/httpcore/_backends/sync.py:124\u001b[0m, in \u001b[0;36mSyncStream.read\u001b[0;34m(self, max_bytes, timeout)\u001b[0m\n\u001b[1;32m    123\u001b[0m exc_map: ExceptionMapping \u001b[38;5;241m=\u001b[39m {socket\u001b[38;5;241m.\u001b[39mtimeout: ReadTimeout, \u001b[38;5;167;01mOSError\u001b[39;00m: ReadError}\n\u001b[0;32m--> 124\u001b[0m \u001b[38;5;28;01mwith\u001b[39;00m map_exceptions(exc_map):\n\u001b[1;32m    125\u001b[0m     \u001b[38;5;28mself\u001b[39m\u001b[38;5;241m.\u001b[39m_sock\u001b[38;5;241m.\u001b[39msettimeout(timeout)\n",
      "File \u001b[0;32m/usr/lib/python3.10/contextlib.py:153\u001b[0m, in \u001b[0;36m_GeneratorContextManager.__exit__\u001b[0;34m(self, typ, value, traceback)\u001b[0m\n\u001b[1;32m    152\u001b[0m \u001b[38;5;28;01mtry\u001b[39;00m:\n\u001b[0;32m--> 153\u001b[0m     \u001b[38;5;28;43mself\u001b[39;49m\u001b[38;5;241;43m.\u001b[39;49m\u001b[43mgen\u001b[49m\u001b[38;5;241;43m.\u001b[39;49m\u001b[43mthrow\u001b[49m\u001b[43m(\u001b[49m\u001b[43mtyp\u001b[49m\u001b[43m,\u001b[49m\u001b[43m \u001b[49m\u001b[43mvalue\u001b[49m\u001b[43m,\u001b[49m\u001b[43m \u001b[49m\u001b[43mtraceback\u001b[49m\u001b[43m)\u001b[49m\n\u001b[1;32m    154\u001b[0m \u001b[38;5;28;01mexcept\u001b[39;00m \u001b[38;5;167;01mStopIteration\u001b[39;00m \u001b[38;5;28;01mas\u001b[39;00m exc:\n\u001b[1;32m    155\u001b[0m     \u001b[38;5;66;03m# Suppress StopIteration *unless* it's the same exception that\u001b[39;00m\n\u001b[1;32m    156\u001b[0m     \u001b[38;5;66;03m# was passed to throw().  This prevents a StopIteration\u001b[39;00m\n\u001b[1;32m    157\u001b[0m     \u001b[38;5;66;03m# raised inside the \"with\" statement from being suppressed.\u001b[39;00m\n",
      "File \u001b[0;32m~/BSC/code/hackbcn-2024/.env/lib/python3.10/site-packages/httpcore/_exceptions.py:14\u001b[0m, in \u001b[0;36mmap_exceptions\u001b[0;34m(map)\u001b[0m\n\u001b[1;32m     13\u001b[0m     \u001b[38;5;28;01mif\u001b[39;00m \u001b[38;5;28misinstance\u001b[39m(exc, from_exc):\n\u001b[0;32m---> 14\u001b[0m         \u001b[38;5;28;01mraise\u001b[39;00m to_exc(exc) \u001b[38;5;28;01mfrom\u001b[39;00m \u001b[38;5;21;01mexc\u001b[39;00m\n\u001b[1;32m     15\u001b[0m \u001b[38;5;28;01mraise\u001b[39;00m\n",
      "\u001b[0;31mReadTimeout\u001b[0m: The read operation timed out",
      "\nThe above exception was the direct cause of the following exception:\n",
      "\u001b[0;31mReadTimeout\u001b[0m                               Traceback (most recent call last)",
      "File \u001b[0;32m~/BSC/code/hackbcn-2024/.env/lib/python3.10/site-packages/mistralai/client.py:133\u001b[0m, in \u001b[0;36mMistralClient._request\u001b[0;34m(self, method, json, path, stream, attempt, data, **kwargs)\u001b[0m\n\u001b[1;32m    132\u001b[0m \u001b[38;5;28;01melse\u001b[39;00m:\n\u001b[0;32m--> 133\u001b[0m     response \u001b[38;5;241m=\u001b[39m \u001b[38;5;28;43mself\u001b[39;49m\u001b[38;5;241;43m.\u001b[39;49m\u001b[43m_client\u001b[49m\u001b[38;5;241;43m.\u001b[39;49m\u001b[43mrequest\u001b[49m\u001b[43m(\u001b[49m\n\u001b[1;32m    134\u001b[0m \u001b[43m        \u001b[49m\u001b[43mmethod\u001b[49m\u001b[43m,\u001b[49m\n\u001b[1;32m    135\u001b[0m \u001b[43m        \u001b[49m\u001b[43murl\u001b[49m\u001b[43m,\u001b[49m\n\u001b[1;32m    136\u001b[0m \u001b[43m        \u001b[49m\u001b[43mheaders\u001b[49m\u001b[38;5;241;43m=\u001b[39;49m\u001b[43mheaders\u001b[49m\u001b[43m,\u001b[49m\n\u001b[1;32m    137\u001b[0m \u001b[43m        \u001b[49m\u001b[43mjson\u001b[49m\u001b[38;5;241;43m=\u001b[39;49m\u001b[43mjson\u001b[49m\u001b[43m,\u001b[49m\n\u001b[1;32m    138\u001b[0m \u001b[43m        \u001b[49m\u001b[43mdata\u001b[49m\u001b[38;5;241;43m=\u001b[39;49m\u001b[43mdata\u001b[49m\u001b[43m,\u001b[49m\n\u001b[1;32m    139\u001b[0m \u001b[43m        \u001b[49m\u001b[38;5;241;43m*\u001b[39;49m\u001b[38;5;241;43m*\u001b[39;49m\u001b[43mkwargs\u001b[49m\u001b[43m,\u001b[49m\n\u001b[1;32m    140\u001b[0m \u001b[43m    \u001b[49m\u001b[43m)\u001b[49m\n\u001b[1;32m    142\u001b[0m     \u001b[38;5;28;01myield\u001b[39;00m \u001b[38;5;28mself\u001b[39m\u001b[38;5;241m.\u001b[39m_check_response(response)\n",
      "File \u001b[0;32m~/BSC/code/hackbcn-2024/.env/lib/python3.10/site-packages/httpx/_client.py:827\u001b[0m, in \u001b[0;36mClient.request\u001b[0;34m(self, method, url, content, data, files, json, params, headers, cookies, auth, follow_redirects, timeout, extensions)\u001b[0m\n\u001b[1;32m    814\u001b[0m request \u001b[38;5;241m=\u001b[39m \u001b[38;5;28mself\u001b[39m\u001b[38;5;241m.\u001b[39mbuild_request(\n\u001b[1;32m    815\u001b[0m     method\u001b[38;5;241m=\u001b[39mmethod,\n\u001b[1;32m    816\u001b[0m     url\u001b[38;5;241m=\u001b[39murl,\n\u001b[0;32m   (...)\u001b[0m\n\u001b[1;32m    825\u001b[0m     extensions\u001b[38;5;241m=\u001b[39mextensions,\n\u001b[1;32m    826\u001b[0m )\n\u001b[0;32m--> 827\u001b[0m \u001b[38;5;28;01mreturn\u001b[39;00m \u001b[38;5;28;43mself\u001b[39;49m\u001b[38;5;241;43m.\u001b[39;49m\u001b[43msend\u001b[49m\u001b[43m(\u001b[49m\u001b[43mrequest\u001b[49m\u001b[43m,\u001b[49m\u001b[43m \u001b[49m\u001b[43mauth\u001b[49m\u001b[38;5;241;43m=\u001b[39;49m\u001b[43mauth\u001b[49m\u001b[43m,\u001b[49m\u001b[43m \u001b[49m\u001b[43mfollow_redirects\u001b[49m\u001b[38;5;241;43m=\u001b[39;49m\u001b[43mfollow_redirects\u001b[49m\u001b[43m)\u001b[49m\n",
      "File \u001b[0;32m~/BSC/code/hackbcn-2024/.env/lib/python3.10/site-packages/httpx/_client.py:914\u001b[0m, in \u001b[0;36mClient.send\u001b[0;34m(self, request, stream, auth, follow_redirects)\u001b[0m\n\u001b[1;32m    912\u001b[0m auth \u001b[38;5;241m=\u001b[39m \u001b[38;5;28mself\u001b[39m\u001b[38;5;241m.\u001b[39m_build_request_auth(request, auth)\n\u001b[0;32m--> 914\u001b[0m response \u001b[38;5;241m=\u001b[39m \u001b[38;5;28;43mself\u001b[39;49m\u001b[38;5;241;43m.\u001b[39;49m\u001b[43m_send_handling_auth\u001b[49m\u001b[43m(\u001b[49m\n\u001b[1;32m    915\u001b[0m \u001b[43m    \u001b[49m\u001b[43mrequest\u001b[49m\u001b[43m,\u001b[49m\n\u001b[1;32m    916\u001b[0m \u001b[43m    \u001b[49m\u001b[43mauth\u001b[49m\u001b[38;5;241;43m=\u001b[39;49m\u001b[43mauth\u001b[49m\u001b[43m,\u001b[49m\n\u001b[1;32m    917\u001b[0m \u001b[43m    \u001b[49m\u001b[43mfollow_redirects\u001b[49m\u001b[38;5;241;43m=\u001b[39;49m\u001b[43mfollow_redirects\u001b[49m\u001b[43m,\u001b[49m\n\u001b[1;32m    918\u001b[0m \u001b[43m    \u001b[49m\u001b[43mhistory\u001b[49m\u001b[38;5;241;43m=\u001b[39;49m\u001b[43m[\u001b[49m\u001b[43m]\u001b[49m\u001b[43m,\u001b[49m\n\u001b[1;32m    919\u001b[0m \u001b[43m\u001b[49m\u001b[43m)\u001b[49m\n\u001b[1;32m    920\u001b[0m \u001b[38;5;28;01mtry\u001b[39;00m:\n",
      "File \u001b[0;32m~/BSC/code/hackbcn-2024/.env/lib/python3.10/site-packages/httpx/_client.py:942\u001b[0m, in \u001b[0;36mClient._send_handling_auth\u001b[0;34m(self, request, auth, follow_redirects, history)\u001b[0m\n\u001b[1;32m    941\u001b[0m \u001b[38;5;28;01mwhile\u001b[39;00m \u001b[38;5;28;01mTrue\u001b[39;00m:\n\u001b[0;32m--> 942\u001b[0m     response \u001b[38;5;241m=\u001b[39m \u001b[38;5;28;43mself\u001b[39;49m\u001b[38;5;241;43m.\u001b[39;49m\u001b[43m_send_handling_redirects\u001b[49m\u001b[43m(\u001b[49m\n\u001b[1;32m    943\u001b[0m \u001b[43m        \u001b[49m\u001b[43mrequest\u001b[49m\u001b[43m,\u001b[49m\n\u001b[1;32m    944\u001b[0m \u001b[43m        \u001b[49m\u001b[43mfollow_redirects\u001b[49m\u001b[38;5;241;43m=\u001b[39;49m\u001b[43mfollow_redirects\u001b[49m\u001b[43m,\u001b[49m\n\u001b[1;32m    945\u001b[0m \u001b[43m        \u001b[49m\u001b[43mhistory\u001b[49m\u001b[38;5;241;43m=\u001b[39;49m\u001b[43mhistory\u001b[49m\u001b[43m,\u001b[49m\n\u001b[1;32m    946\u001b[0m \u001b[43m    \u001b[49m\u001b[43m)\u001b[49m\n\u001b[1;32m    947\u001b[0m     \u001b[38;5;28;01mtry\u001b[39;00m:\n",
      "File \u001b[0;32m~/BSC/code/hackbcn-2024/.env/lib/python3.10/site-packages/httpx/_client.py:979\u001b[0m, in \u001b[0;36mClient._send_handling_redirects\u001b[0;34m(self, request, follow_redirects, history)\u001b[0m\n\u001b[1;32m    977\u001b[0m     hook(request)\n\u001b[0;32m--> 979\u001b[0m response \u001b[38;5;241m=\u001b[39m \u001b[38;5;28;43mself\u001b[39;49m\u001b[38;5;241;43m.\u001b[39;49m\u001b[43m_send_single_request\u001b[49m\u001b[43m(\u001b[49m\u001b[43mrequest\u001b[49m\u001b[43m)\u001b[49m\n\u001b[1;32m    980\u001b[0m \u001b[38;5;28;01mtry\u001b[39;00m:\n",
      "File \u001b[0;32m~/BSC/code/hackbcn-2024/.env/lib/python3.10/site-packages/httpx/_client.py:1015\u001b[0m, in \u001b[0;36mClient._send_single_request\u001b[0;34m(self, request)\u001b[0m\n\u001b[1;32m   1014\u001b[0m \u001b[38;5;28;01mwith\u001b[39;00m request_context(request\u001b[38;5;241m=\u001b[39mrequest):\n\u001b[0;32m-> 1015\u001b[0m     response \u001b[38;5;241m=\u001b[39m \u001b[43mtransport\u001b[49m\u001b[38;5;241;43m.\u001b[39;49m\u001b[43mhandle_request\u001b[49m\u001b[43m(\u001b[49m\u001b[43mrequest\u001b[49m\u001b[43m)\u001b[49m\n\u001b[1;32m   1017\u001b[0m \u001b[38;5;28;01massert\u001b[39;00m \u001b[38;5;28misinstance\u001b[39m(response\u001b[38;5;241m.\u001b[39mstream, SyncByteStream)\n",
      "File \u001b[0;32m~/BSC/code/hackbcn-2024/.env/lib/python3.10/site-packages/httpx/_transports/default.py:232\u001b[0m, in \u001b[0;36mHTTPTransport.handle_request\u001b[0;34m(self, request)\u001b[0m\n\u001b[1;32m    220\u001b[0m req \u001b[38;5;241m=\u001b[39m httpcore\u001b[38;5;241m.\u001b[39mRequest(\n\u001b[1;32m    221\u001b[0m     method\u001b[38;5;241m=\u001b[39mrequest\u001b[38;5;241m.\u001b[39mmethod,\n\u001b[1;32m    222\u001b[0m     url\u001b[38;5;241m=\u001b[39mhttpcore\u001b[38;5;241m.\u001b[39mURL(\n\u001b[0;32m   (...)\u001b[0m\n\u001b[1;32m    230\u001b[0m     extensions\u001b[38;5;241m=\u001b[39mrequest\u001b[38;5;241m.\u001b[39mextensions,\n\u001b[1;32m    231\u001b[0m )\n\u001b[0;32m--> 232\u001b[0m \u001b[38;5;28;01mwith\u001b[39;00m map_httpcore_exceptions():\n\u001b[1;32m    233\u001b[0m     resp \u001b[38;5;241m=\u001b[39m \u001b[38;5;28mself\u001b[39m\u001b[38;5;241m.\u001b[39m_pool\u001b[38;5;241m.\u001b[39mhandle_request(req)\n",
      "File \u001b[0;32m/usr/lib/python3.10/contextlib.py:153\u001b[0m, in \u001b[0;36m_GeneratorContextManager.__exit__\u001b[0;34m(self, typ, value, traceback)\u001b[0m\n\u001b[1;32m    152\u001b[0m \u001b[38;5;28;01mtry\u001b[39;00m:\n\u001b[0;32m--> 153\u001b[0m     \u001b[38;5;28;43mself\u001b[39;49m\u001b[38;5;241;43m.\u001b[39;49m\u001b[43mgen\u001b[49m\u001b[38;5;241;43m.\u001b[39;49m\u001b[43mthrow\u001b[49m\u001b[43m(\u001b[49m\u001b[43mtyp\u001b[49m\u001b[43m,\u001b[49m\u001b[43m \u001b[49m\u001b[43mvalue\u001b[49m\u001b[43m,\u001b[49m\u001b[43m \u001b[49m\u001b[43mtraceback\u001b[49m\u001b[43m)\u001b[49m\n\u001b[1;32m    154\u001b[0m \u001b[38;5;28;01mexcept\u001b[39;00m \u001b[38;5;167;01mStopIteration\u001b[39;00m \u001b[38;5;28;01mas\u001b[39;00m exc:\n\u001b[1;32m    155\u001b[0m     \u001b[38;5;66;03m# Suppress StopIteration *unless* it's the same exception that\u001b[39;00m\n\u001b[1;32m    156\u001b[0m     \u001b[38;5;66;03m# was passed to throw().  This prevents a StopIteration\u001b[39;00m\n\u001b[1;32m    157\u001b[0m     \u001b[38;5;66;03m# raised inside the \"with\" statement from being suppressed.\u001b[39;00m\n",
      "File \u001b[0;32m~/BSC/code/hackbcn-2024/.env/lib/python3.10/site-packages/httpx/_transports/default.py:86\u001b[0m, in \u001b[0;36mmap_httpcore_exceptions\u001b[0;34m()\u001b[0m\n\u001b[1;32m     85\u001b[0m message \u001b[38;5;241m=\u001b[39m \u001b[38;5;28mstr\u001b[39m(exc)\n\u001b[0;32m---> 86\u001b[0m \u001b[38;5;28;01mraise\u001b[39;00m mapped_exc(message) \u001b[38;5;28;01mfrom\u001b[39;00m \u001b[38;5;21;01mexc\u001b[39;00m\n",
      "\u001b[0;31mReadTimeout\u001b[0m: The read operation timed out",
      "\nThe above exception was the direct cause of the following exception:\n",
      "\u001b[0;31mMistralException\u001b[0m                          Traceback (most recent call last)",
      "File \u001b[0;32m<timed exec>:1\u001b[0m\n",
      "Cell \u001b[0;32mIn[136], line 5\u001b[0m, in \u001b[0;36mtest\u001b[0;34m()\u001b[0m\n\u001b[1;32m      3\u001b[0m \u001b[38;5;28minput\u001b[39m \u001b[38;5;241m=\u001b[39m test[\u001b[38;5;124m'\u001b[39m\u001b[38;5;124mmessages\u001b[39m\u001b[38;5;124m'\u001b[39m][\u001b[38;5;241m0\u001b[39m][\u001b[38;5;124m'\u001b[39m\u001b[38;5;124mcontent\u001b[39m\u001b[38;5;124m'\u001b[39m]\n\u001b[1;32m      4\u001b[0m expected \u001b[38;5;241m=\u001b[39m test[\u001b[38;5;124m'\u001b[39m\u001b[38;5;124mmessages\u001b[39m\u001b[38;5;124m'\u001b[39m][\u001b[38;5;241m1\u001b[39m][\u001b[38;5;124m'\u001b[39m\u001b[38;5;124mcontent\u001b[39m\u001b[38;5;124m'\u001b[39m]\n\u001b[0;32m----> 5\u001b[0m chat_response \u001b[38;5;241m=\u001b[39m \u001b[43mclient\u001b[49m\u001b[38;5;241;43m.\u001b[39;49m\u001b[43mchat\u001b[49m\u001b[43m(\u001b[49m\n\u001b[1;32m      6\u001b[0m \u001b[43m\u001b[49m\u001b[43mmodel\u001b[49m\u001b[38;5;241;43m=\u001b[39;49m\u001b[43mfine_tuned_model\u001b[49m\u001b[43m,\u001b[49m\n\u001b[1;32m      7\u001b[0m \u001b[43m\u001b[49m\u001b[43mmessages\u001b[49m\u001b[38;5;241;43m=\u001b[39;49m\u001b[43m[\u001b[49m\u001b[43mChatMessage\u001b[49m\u001b[43m(\u001b[49m\u001b[43mrole\u001b[49m\u001b[38;5;241;43m=\u001b[39;49m\u001b[38;5;124;43m'\u001b[39;49m\u001b[38;5;124;43muser\u001b[39;49m\u001b[38;5;124;43m'\u001b[39;49m\u001b[43m,\u001b[49m\u001b[43m \u001b[49m\n\u001b[1;32m      8\u001b[0m \u001b[43m                      \u001b[49m\u001b[43mcontent\u001b[49m\u001b[38;5;241;43m=\u001b[39;49m\u001b[38;5;28;43minput\u001b[39;49m\n\u001b[1;32m      9\u001b[0m \u001b[43m                      \u001b[49m\u001b[43m)\u001b[49m\n\u001b[1;32m     10\u001b[0m \u001b[43m            \u001b[49m\u001b[43m]\u001b[49m\n\u001b[1;32m     11\u001b[0m \u001b[43m\u001b[49m\u001b[43m)\u001b[49m\n\u001b[1;32m     13\u001b[0m pprint(\u001b[38;5;124mf\u001b[39m\u001b[38;5;124m'\u001b[39m\u001b[38;5;124mOriginal: \u001b[39m\u001b[38;5;132;01m{\u001b[39;00mexpected\u001b[38;5;132;01m}\u001b[39;00m\u001b[38;5;124m'\u001b[39m)\n\u001b[1;32m     14\u001b[0m pprint(\u001b[38;5;124mf\u001b[39m\u001b[38;5;124m'\u001b[39m\u001b[38;5;124mModel: \u001b[39m\u001b[38;5;132;01m{\u001b[39;00mchat_response\u001b[38;5;241m.\u001b[39mchoices[\u001b[38;5;241m0\u001b[39m]\u001b[38;5;241m.\u001b[39mmessage\u001b[38;5;241m.\u001b[39mcontent\u001b[38;5;132;01m}\u001b[39;00m\u001b[38;5;124m'\u001b[39m)\n",
      "File \u001b[0;32m~/BSC/code/hackbcn-2024/.env/lib/python3.10/site-packages/mistralai/client.py:212\u001b[0m, in \u001b[0;36mMistralClient.chat\u001b[0;34m(self, messages, model, tools, temperature, max_tokens, top_p, random_seed, safe_mode, safe_prompt, tool_choice, response_format)\u001b[0m\n\u001b[1;32m    196\u001b[0m request \u001b[38;5;241m=\u001b[39m \u001b[38;5;28mself\u001b[39m\u001b[38;5;241m.\u001b[39m_make_chat_request(\n\u001b[1;32m    197\u001b[0m     messages,\n\u001b[1;32m    198\u001b[0m     model,\n\u001b[0;32m   (...)\u001b[0m\n\u001b[1;32m    207\u001b[0m     response_format\u001b[38;5;241m=\u001b[39mresponse_format,\n\u001b[1;32m    208\u001b[0m )\n\u001b[1;32m    210\u001b[0m single_response \u001b[38;5;241m=\u001b[39m \u001b[38;5;28mself\u001b[39m\u001b[38;5;241m.\u001b[39m_request(\u001b[38;5;124m\"\u001b[39m\u001b[38;5;124mpost\u001b[39m\u001b[38;5;124m\"\u001b[39m, request, \u001b[38;5;124m\"\u001b[39m\u001b[38;5;124mv1/chat/completions\u001b[39m\u001b[38;5;124m\"\u001b[39m)\n\u001b[0;32m--> 212\u001b[0m \u001b[38;5;28;01mfor\u001b[39;00m response \u001b[38;5;129;01min\u001b[39;00m single_response:\n\u001b[1;32m    213\u001b[0m     \u001b[38;5;28;01mreturn\u001b[39;00m ChatCompletionResponse(\u001b[38;5;241m*\u001b[39m\u001b[38;5;241m*\u001b[39mresponse)\n\u001b[1;32m    215\u001b[0m \u001b[38;5;28;01mraise\u001b[39;00m MistralException(\u001b[38;5;124m\"\u001b[39m\u001b[38;5;124mNo response received\u001b[39m\u001b[38;5;124m\"\u001b[39m)\n",
      "File \u001b[0;32m~/BSC/code/hackbcn-2024/.env/lib/python3.10/site-packages/mistralai/client.py:147\u001b[0m, in \u001b[0;36mMistralClient._request\u001b[0;34m(self, method, json, path, stream, attempt, data, **kwargs)\u001b[0m\n\u001b[1;32m    145\u001b[0m     \u001b[38;5;28;01mraise\u001b[39;00m MistralConnectionException(\u001b[38;5;28mstr\u001b[39m(e)) \u001b[38;5;28;01mfrom\u001b[39;00m \u001b[38;5;21;01me\u001b[39;00m\n\u001b[1;32m    146\u001b[0m \u001b[38;5;28;01mexcept\u001b[39;00m RequestError \u001b[38;5;28;01mas\u001b[39;00m e:\n\u001b[0;32m--> 147\u001b[0m     \u001b[38;5;28;01mraise\u001b[39;00m MistralException(\u001b[38;5;124mf\u001b[39m\u001b[38;5;124m\"\u001b[39m\u001b[38;5;124mUnexpected exception (\u001b[39m\u001b[38;5;132;01m{\u001b[39;00me\u001b[38;5;241m.\u001b[39m\u001b[38;5;18m__class__\u001b[39m\u001b[38;5;241m.\u001b[39m\u001b[38;5;18m__name__\u001b[39m\u001b[38;5;132;01m}\u001b[39;00m\u001b[38;5;124m): \u001b[39m\u001b[38;5;132;01m{\u001b[39;00me\u001b[38;5;132;01m}\u001b[39;00m\u001b[38;5;124m\"\u001b[39m) \u001b[38;5;28;01mfrom\u001b[39;00m \u001b[38;5;21;01me\u001b[39;00m\n\u001b[1;32m    148\u001b[0m \u001b[38;5;28;01mexcept\u001b[39;00m JSONDecodeError \u001b[38;5;28;01mas\u001b[39;00m e:\n\u001b[1;32m    149\u001b[0m     \u001b[38;5;28;01mraise\u001b[39;00m MistralAPIException\u001b[38;5;241m.\u001b[39mfrom_response(\n\u001b[1;32m    150\u001b[0m         response,\n\u001b[1;32m    151\u001b[0m         message\u001b[38;5;241m=\u001b[39m\u001b[38;5;124mf\u001b[39m\u001b[38;5;124m\"\u001b[39m\u001b[38;5;124mFailed to decode json body: \u001b[39m\u001b[38;5;132;01m{\u001b[39;00mresponse\u001b[38;5;241m.\u001b[39mtext\u001b[38;5;132;01m}\u001b[39;00m\u001b[38;5;124m\"\u001b[39m,\n\u001b[1;32m    152\u001b[0m     ) \u001b[38;5;28;01mfrom\u001b[39;00m \u001b[38;5;21;01me\u001b[39;00m\n",
      "\u001b[0;31mMistralException\u001b[0m: Unexpected exception (ReadTimeout): The read operation timed out"
     ]
    }
   ],
   "source": [
    "%%time\n",
    "resp = test()"
   ]
  },
  {
   "cell_type": "code",
   "execution_count": 145,
   "metadata": {},
   "outputs": [
    {
     "ename": "NameError",
     "evalue": "name 'expected' is not defined",
     "output_type": "error",
     "traceback": [
      "\u001b[0;31m---------------------------------------------------------------------------\u001b[0m",
      "\u001b[0;31mNameError\u001b[0m                                 Traceback (most recent call last)",
      "Cell \u001b[0;32mIn[145], line 1\u001b[0m\n\u001b[0;32m----> 1\u001b[0m \u001b[43mexpected\u001b[49m\n",
      "\u001b[0;31mNameError\u001b[0m: name 'expected' is not defined"
     ]
    }
   ],
   "source": [
    "expected\n"
   ]
  },
  {
   "cell_type": "code",
   "execution_count": 142,
   "metadata": {},
   "outputs": [
    {
     "name": "stdout",
     "output_type": "stream",
     "text": [
      "('Explanation: Un hombre de 53 años fue diagnosticado de mieloma de IgG y '\n",
      " 'tratado con prednisona, melphalán y bortezomib. Presentó un tumor en la '\n",
      " 'cámara anterior de ojo derecho, que fue diagnosticado como retinoblastoma '\n",
      " 'plasmocitario. El paciente falleció tras radioterapia. El diagnóstico de '\n",
      " 'autopsia fue de retinoblastoma plasmocitario, con fibrosis. En su paciente '\n",
      " 'reciente, el diagnóstico de biopsia fue de tumor retinoblástico, pero en la '\n",
      " 'autopsia se apreció una infiltración de células plasmáticas.')\n",
      "CPU times: user 47.6 ms, sys: 321 μs, total: 48 ms\n",
      "Wall time: 2.29 s\n"
     ]
    }
   ],
   "source": [
    "%%time\n",
    "exp = explain(resp)\n",
    "pprint(f'Explanation: {exp}')"
   ]
  },
  {
   "cell_type": "code",
   "execution_count": null,
   "metadata": {},
   "outputs": [],
   "source": [
    "\n",
    "from mistralai.models.chat_completion import ChatMessage"
   ]
  },
  {
   "cell_type": "code",
   "execution_count": 138,
   "metadata": {},
   "outputs": [],
   "source": []
  },
  {
   "cell_type": "code",
   "execution_count": null,
   "metadata": {},
   "outputs": [],
   "source": [
    "\n",
    "def run_mistral(sys_message, user_message, model=\"mistral-large-latest\"):\n",
    "    client = MistralClient(api_key=api_key)\n",
    "    messages = [\n",
    "        ChatMessage(role=\"system\", content=sys_message),\n",
    "        ChatMessage(role=\"user\", content=user_message)\n",
    "    ]\n",
    "    chat_response = client.chat(\n",
    "        model=model,\n",
    "        messages=messages\n",
    "    )\n",
    "    return chat_response.choices[0].message.content\n",
    "\n",
    "# Adapted from character.ai\n",
    "sys_message = \"\"\"\n",
    "    You are Albus Dumbledore. You are the headmaster of Hogwarts School of Witchcraft and \n",
    "    Wizardry and are widely regarded as one of the most powerful and knowledgeable wizards\n",
    "    of all time. You are known for your eccentricities, such as your love of sweets and \n",
    "    your quirky sense of humor. You often using riddles, metaphors, and wise sayings to \n",
    "    convey your thoughts and teach important lessons. Despite your gentle demeanor, you\n",
    "    can be firm and assertive when necessary, and your words often carry a great deal of \n",
    "    weight and authority. Respond succinctly in Dumbledore's distinctive tone.\n",
    "\"\"\"\n",
    "resp = run_mistral(sys_message, \"How are you?\")\n",
    "print(resp)"
   ]
  },
  {
   "cell_type": "code",
   "execution_count": null,
   "metadata": {},
   "outputs": [],
   "source": []
  },
  {
   "cell_type": "code",
   "execution_count": null,
   "metadata": {},
   "outputs": [],
   "source": []
  }
 ],
 "metadata": {
  "kernelspec": {
   "display_name": ".env",
   "language": "python",
   "name": "python3"
  },
  "language_info": {
   "codemirror_mode": {
    "name": "ipython",
    "version": 3
   },
   "file_extension": ".py",
   "mimetype": "text/x-python",
   "name": "python",
   "nbconvert_exporter": "python",
   "pygments_lexer": "ipython3",
   "version": "3.10.12"
  }
 },
 "nbformat": 4,
 "nbformat_minor": 2
}
