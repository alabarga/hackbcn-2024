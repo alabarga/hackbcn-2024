{
 "cells": [
  {
   "cell_type": "code",
   "execution_count": 4,
   "metadata": {},
   "outputs": [],
   "source": [
    "from pathlib import Path\n",
    "import pandas as pd"
   ]
  },
  {
   "cell_type": "code",
   "execution_count": 5,
   "metadata": {},
   "outputs": [],
   "source": [
    "from tqdm import tqdm\n",
    "import random\n",
    "import pickle"
   ]
  },
  {
   "cell_type": "code",
   "execution_count": 6,
   "metadata": {},
   "outputs": [],
   "source": [
    "import spacy\n",
    "from spacy.tokens import Span\n",
    "from spacy import displacy"
   ]
  },
  {
   "cell_type": "code",
   "execution_count": 154,
   "metadata": {},
   "outputs": [],
   "source": [
    "# Define the colors for different labels\n",
    "colors = {\n",
    "    \"SINTOMA\": \"linear-gradient(90deg, #aa9cfc, #fc9ce7)\",\n",
    "    \"ENFERMEDAD\": \"linear-gradient(90deg, #ffcc00, #ff66cc)\",\n",
    "    \"PROCEDIMIENTO\": \"linear-gradient(90deg, #00ccff, #0099cc)\"\n",
    "}\n",
    "\n",
    "# Define the options with colors\n",
    "options = {\"ents\": [\"SINTOMA\", \"ENFERMEDAD\", \"PROCEDIMIENTO\"], \"colors\": colors}\n"
   ]
  },
  {
   "cell_type": "code",
   "execution_count": null,
   "metadata": {},
   "outputs": [],
   "source": [
    "# Load the annotations into a DataFrame\n",
    "data = {\n",
    "    'filename': ['doc1.txt', 'doc1.txt', 'doc1.txt', 'doc2.txt', 'doc2.txt'],\n",
    "    'ann_id': ['T1', 'T2', 'T3', 'T1', 'T2'],\n",
    "    'label': ['SINTOMA', 'SINTOMA', 'SINTOMA', 'SINTOMA', 'SINTOMA'],\n",
    "    'start_span': [48, 100, 118, 20, 40],\n",
    "    'end_span': [60, 115, 125, 35, 50],\n",
    "    'text': ['obnubilación', 'dolor abdominal', 'vómitos', 'fiebre', 'mareo']\n",
    "}\n",
    "\n",
    "df = pd.DataFrame(data)\n"
   ]
  },
  {
   "cell_type": "code",
   "execution_count": 7,
   "metadata": {},
   "outputs": [],
   "source": [
    "# Define the path to the folder containing the text files\n",
    "\n",
    "clinical_notes_folder = '/home/alabarga/BSC/code/hackbcn-2024/data/clinical_notes/'"
   ]
  },
  {
   "cell_type": "code",
   "execution_count": 8,
   "metadata": {},
   "outputs": [],
   "source": [
    "clinical_notes_path = Path(clinical_notes_folder)"
   ]
  },
  {
   "cell_type": "code",
   "execution_count": 9,
   "metadata": {},
   "outputs": [],
   "source": [
    "# Create a dictionary to store the content of each file\n",
    "texts = []\n",
    "\n",
    "# Iterate over all text files in the folder and read their content\n",
    "for text_file in clinical_notes_path.glob('*.txt'):\n",
    "    with open(text_file, 'r', encoding='utf-8') as file:\n",
    "        texts.append(\n",
    "            {'filename': text_file.stem,\n",
    "           'text': file.read()\n",
    "            }\n",
    "        )"
   ]
  },
  {
   "cell_type": "code",
   "execution_count": 10,
   "metadata": {},
   "outputs": [
    {
     "data": {
      "text/html": [
       "<div>\n",
       "<style scoped>\n",
       "    .dataframe tbody tr th:only-of-type {\n",
       "        vertical-align: middle;\n",
       "    }\n",
       "\n",
       "    .dataframe tbody tr th {\n",
       "        vertical-align: top;\n",
       "    }\n",
       "\n",
       "    .dataframe thead th {\n",
       "        text-align: right;\n",
       "    }\n",
       "</style>\n",
       "<table border=\"1\" class=\"dataframe\">\n",
       "  <thead>\n",
       "    <tr style=\"text-align: right;\">\n",
       "      <th></th>\n",
       "      <th>filename</th>\n",
       "      <th>text</th>\n",
       "    </tr>\n",
       "  </thead>\n",
       "  <tbody>\n",
       "    <tr>\n",
       "      <th>0</th>\n",
       "      <td>es-S0004-06142009000200013-1</td>\n",
       "      <td>Mujer de 30 años, fumadora de unos seis cigarr...</td>\n",
       "    </tr>\n",
       "    <tr>\n",
       "      <th>1</th>\n",
       "      <td>es-S0210-48062006000900012-2</td>\n",
       "      <td>Varón de 63 años. Consultó por hematuria macro...</td>\n",
       "    </tr>\n",
       "    <tr>\n",
       "      <th>2</th>\n",
       "      <td>es-S1130-05582016000100005-1</td>\n",
       "      <td>Presentamos el caso de un varón de 24 años ref...</td>\n",
       "    </tr>\n",
       "    <tr>\n",
       "      <th>3</th>\n",
       "      <td>es-S1139-76322009000700014-2</td>\n",
       "      <td>Paciente de 14 años que acude a la consulta po...</td>\n",
       "    </tr>\n",
       "    <tr>\n",
       "      <th>4</th>\n",
       "      <td>es-S1130-05582014000400008-1</td>\n",
       "      <td>Mujer de 63 años sin antecedentes de importanc...</td>\n",
       "    </tr>\n",
       "    <tr>\n",
       "      <th>...</th>\n",
       "      <td>...</td>\n",
       "      <td>...</td>\n",
       "    </tr>\n",
       "    <tr>\n",
       "      <th>995</th>\n",
       "      <td>es-S1130-14732008000500005-2</td>\n",
       "      <td>Mujer de 77 años de edad con único antecedente...</td>\n",
       "    </tr>\n",
       "    <tr>\n",
       "      <th>996</th>\n",
       "      <td>es-S0212-16112007000700016-1</td>\n",
       "      <td>Varón de 32 años, sin antecedentes patológicos...</td>\n",
       "    </tr>\n",
       "    <tr>\n",
       "      <th>997</th>\n",
       "      <td>es-S0210-48062005000600012-1</td>\n",
       "      <td>Mujer de 68 años con antecedentes de hipertens...</td>\n",
       "    </tr>\n",
       "    <tr>\n",
       "      <th>998</th>\n",
       "      <td>es-S1130-01082009000400009-1</td>\n",
       "      <td>Varón de 50 años, diagnosticado de enfermedad ...</td>\n",
       "    </tr>\n",
       "    <tr>\n",
       "      <th>999</th>\n",
       "      <td>es-S0210-48062006000700010-1</td>\n",
       "      <td>Paciente masculino de 56 años de edad con ante...</td>\n",
       "    </tr>\n",
       "  </tbody>\n",
       "</table>\n",
       "<p>1000 rows × 2 columns</p>\n",
       "</div>"
      ],
      "text/plain": [
       "                         filename  \\\n",
       "0    es-S0004-06142009000200013-1   \n",
       "1    es-S0210-48062006000900012-2   \n",
       "2    es-S1130-05582016000100005-1   \n",
       "3    es-S1139-76322009000700014-2   \n",
       "4    es-S1130-05582014000400008-1   \n",
       "..                            ...   \n",
       "995  es-S1130-14732008000500005-2   \n",
       "996  es-S0212-16112007000700016-1   \n",
       "997  es-S0210-48062005000600012-1   \n",
       "998  es-S1130-01082009000400009-1   \n",
       "999  es-S0210-48062006000700010-1   \n",
       "\n",
       "                                                  text  \n",
       "0    Mujer de 30 años, fumadora de unos seis cigarr...  \n",
       "1    Varón de 63 años. Consultó por hematuria macro...  \n",
       "2    Presentamos el caso de un varón de 24 años ref...  \n",
       "3    Paciente de 14 años que acude a la consulta po...  \n",
       "4    Mujer de 63 años sin antecedentes de importanc...  \n",
       "..                                                 ...  \n",
       "995  Mujer de 77 años de edad con único antecedente...  \n",
       "996  Varón de 32 años, sin antecedentes patológicos...  \n",
       "997  Mujer de 68 años con antecedentes de hipertens...  \n",
       "998  Varón de 50 años, diagnosticado de enfermedad ...  \n",
       "999  Paciente masculino de 56 años de edad con ante...  \n",
       "\n",
       "[1000 rows x 2 columns]"
      ]
     },
     "execution_count": 10,
     "metadata": {},
     "output_type": "execute_result"
    }
   ],
   "source": [
    "clinical_notes = pd.DataFrame(texts)\n",
    "clinical_notes"
   ]
  },
  {
   "cell_type": "code",
   "execution_count": 11,
   "metadata": {},
   "outputs": [],
   "source": [
    "clinical_notes.to_csv('../data/annotations/clinical_notes.csv', index=False)"
   ]
  },
  {
   "cell_type": "code",
   "execution_count": null,
   "metadata": {},
   "outputs": [],
   "source": [
    "annotation_file_symptoms_train = '/home/alabarga/BSC/code/hackbcn-2024/data/symptemist-complete_240208/symptemist_train/subtask2-linking/symptemist_tsv_train_subtask2_complete+COMPOSITE.tsv'"
   ]
  },
  {
   "cell_type": "code",
   "execution_count": 102,
   "metadata": {},
   "outputs": [],
   "source": [
    "annotation_file_symptoms_test = '/home/alabarga/BSC/code/hackbcn-2024/data/symptemist-complete_240208/symptemist_test/subtask2-linking/symptemist_tsv_test_subtask2+COMPOSITE.tsv'"
   ]
  },
  {
   "cell_type": "code",
   "execution_count": 104,
   "metadata": {},
   "outputs": [],
   "source": [
    "annotation_file_diseases_train = '/home/alabarga/BSC/code/hackbcn-2024/data/distemist_zenodo/training/subtrack2_linking/distemist_subtrack2_training2_linking.tsv'"
   ]
  },
  {
   "cell_type": "code",
   "execution_count": 127,
   "metadata": {},
   "outputs": [],
   "source": [
    "annotation_file_diseases_test = '/home/alabarga/BSC/code/hackbcn-2024/data/distemist_zenodo/test_annotated/subtrack2_linking/distemist_subtrack2_test_linking.tsv'"
   ]
  },
  {
   "cell_type": "code",
   "execution_count": 142,
   "metadata": {},
   "outputs": [],
   "source": [
    "annotation_file_procedures_test ='/home/alabarga/BSC/code/hackbcn-2024/data/medprocner_gs_train+test+gazz+multilingual+crossmap_230808/medprocner_test/tsv/medprocner_tsv_test_subtask2.tsv'"
   ]
  },
  {
   "cell_type": "code",
   "execution_count": 141,
   "metadata": {},
   "outputs": [],
   "source": [
    "annotation_file_procedures_train ='/home/alabarga/BSC/code/hackbcn-2024/data/medprocner_gs_train+test+gazz+multilingual+crossmap_230808/medprocner_train/tsv/medprocner_tsv_train_subtask2.tsv'"
   ]
  },
  {
   "cell_type": "code",
   "execution_count": 100,
   "metadata": {},
   "outputs": [],
   "source": [
    "df_symtoms_train = pd.read_csv(annotation_file_symptoms_train, sep='\\t')\n"
   ]
  },
  {
   "cell_type": "code",
   "execution_count": 110,
   "metadata": {},
   "outputs": [],
   "source": [
    "df_symtoms_train = df_symtoms_train.get(['filename', 'label', 'span_ini', 'span_end', 'text', 'code'])\n",
    "df_symtoms_train.columns = ['filename', 'label', 'span_start', 'span_end', 'span_text', 'code']"
   ]
  },
  {
   "cell_type": "code",
   "execution_count": 147,
   "metadata": {},
   "outputs": [
    {
     "data": {
      "text/html": [
       "<div>\n",
       "<style scoped>\n",
       "    .dataframe tbody tr th:only-of-type {\n",
       "        vertical-align: middle;\n",
       "    }\n",
       "\n",
       "    .dataframe tbody tr th {\n",
       "        vertical-align: top;\n",
       "    }\n",
       "\n",
       "    .dataframe thead th {\n",
       "        text-align: right;\n",
       "    }\n",
       "</style>\n",
       "<table border=\"1\" class=\"dataframe\">\n",
       "  <thead>\n",
       "    <tr style=\"text-align: right;\">\n",
       "      <th></th>\n",
       "      <th>filename</th>\n",
       "      <th>label</th>\n",
       "      <th>span_start</th>\n",
       "      <th>span_end</th>\n",
       "      <th>span_text</th>\n",
       "      <th>code</th>\n",
       "    </tr>\n",
       "  </thead>\n",
       "  <tbody>\n",
       "    <tr>\n",
       "      <th>0</th>\n",
       "      <td>es-S0365-66912011000600005-2</td>\n",
       "      <td>SINTOMA</td>\n",
       "      <td>333</td>\n",
       "      <td>361</td>\n",
       "      <td>«manchas» en el campo visual</td>\n",
       "      <td>246658005</td>\n",
       "    </tr>\n",
       "    <tr>\n",
       "      <th>1</th>\n",
       "      <td>es-S0004-06142010000300011-1</td>\n",
       "      <td>SINTOMA</td>\n",
       "      <td>649</td>\n",
       "      <td>716</td>\n",
       "      <td>5HIAA en orina de 24 horas estaba dentro de lo...</td>\n",
       "      <td>171250001</td>\n",
       "    </tr>\n",
       "    <tr>\n",
       "      <th>2</th>\n",
       "      <td>es-S1130-01082007000700011-2</td>\n",
       "      <td>SINTOMA</td>\n",
       "      <td>1463</td>\n",
       "      <td>1505</td>\n",
       "      <td>A nivel analítico no presentaba alteración</td>\n",
       "      <td>166315009</td>\n",
       "    </tr>\n",
       "    <tr>\n",
       "      <th>3</th>\n",
       "      <td>es-S0210-48062009000300017-1</td>\n",
       "      <td>SINTOMA</td>\n",
       "      <td>2713</td>\n",
       "      <td>2759</td>\n",
       "      <td>a nivel del cardias masa mamelonada y ulcerada</td>\n",
       "      <td>126825008</td>\n",
       "    </tr>\n",
       "    <tr>\n",
       "      <th>4</th>\n",
       "      <td>es-S1130-01082006000100014-1</td>\n",
       "      <td>SINTOMA</td>\n",
       "      <td>2282</td>\n",
       "      <td>2295</td>\n",
       "      <td>abdomen agudo</td>\n",
       "      <td>9209005</td>\n",
       "    </tr>\n",
       "    <tr>\n",
       "      <th>...</th>\n",
       "      <td>...</td>\n",
       "      <td>...</td>\n",
       "      <td>...</td>\n",
       "      <td>...</td>\n",
       "      <td>...</td>\n",
       "      <td>...</td>\n",
       "    </tr>\n",
       "    <tr>\n",
       "      <th>8975</th>\n",
       "      <td>es-S1134-80462009000800005-1</td>\n",
       "      <td>SINTOMA</td>\n",
       "      <td>745</td>\n",
       "      <td>750</td>\n",
       "      <td>dolor</td>\n",
       "      <td>22253000</td>\n",
       "    </tr>\n",
       "    <tr>\n",
       "      <th>8976</th>\n",
       "      <td>es-S1134-80462009000800005-1</td>\n",
       "      <td>SINTOMA</td>\n",
       "      <td>2587</td>\n",
       "      <td>2598</td>\n",
       "      <td>somnolencia</td>\n",
       "      <td>271782001</td>\n",
       "    </tr>\n",
       "    <tr>\n",
       "      <th>8977</th>\n",
       "      <td>es-S1134-80462009000800005-1</td>\n",
       "      <td>SINTOMA</td>\n",
       "      <td>2136</td>\n",
       "      <td>2143</td>\n",
       "      <td>vómitos</td>\n",
       "      <td>422400008</td>\n",
       "    </tr>\n",
       "    <tr>\n",
       "      <th>8978</th>\n",
       "      <td>es-S1134-80462009000800005-1</td>\n",
       "      <td>SINTOMA</td>\n",
       "      <td>2988</td>\n",
       "      <td>3006</td>\n",
       "      <td>sensación nauseosa</td>\n",
       "      <td>422587007</td>\n",
       "    </tr>\n",
       "    <tr>\n",
       "      <th>8979</th>\n",
       "      <td>es-S1134-80462009000800005-1</td>\n",
       "      <td>SINTOMA</td>\n",
       "      <td>1299</td>\n",
       "      <td>1304</td>\n",
       "      <td>dolor</td>\n",
       "      <td>22253000</td>\n",
       "    </tr>\n",
       "  </tbody>\n",
       "</table>\n",
       "<p>8980 rows × 6 columns</p>\n",
       "</div>"
      ],
      "text/plain": [
       "                          filename    label  span_start  span_end  \\\n",
       "0     es-S0365-66912011000600005-2  SINTOMA         333       361   \n",
       "1     es-S0004-06142010000300011-1  SINTOMA         649       716   \n",
       "2     es-S1130-01082007000700011-2  SINTOMA        1463      1505   \n",
       "3     es-S0210-48062009000300017-1  SINTOMA        2713      2759   \n",
       "4     es-S1130-01082006000100014-1  SINTOMA        2282      2295   \n",
       "...                            ...      ...         ...       ...   \n",
       "8975  es-S1134-80462009000800005-1  SINTOMA         745       750   \n",
       "8976  es-S1134-80462009000800005-1  SINTOMA        2587      2598   \n",
       "8977  es-S1134-80462009000800005-1  SINTOMA        2136      2143   \n",
       "8978  es-S1134-80462009000800005-1  SINTOMA        2988      3006   \n",
       "8979  es-S1134-80462009000800005-1  SINTOMA        1299      1304   \n",
       "\n",
       "                                              span_text       code  \n",
       "0                          «manchas» en el campo visual  246658005  \n",
       "1     5HIAA en orina de 24 horas estaba dentro de lo...  171250001  \n",
       "2            A nivel analítico no presentaba alteración  166315009  \n",
       "3        a nivel del cardias masa mamelonada y ulcerada  126825008  \n",
       "4                                         abdomen agudo    9209005  \n",
       "...                                                 ...        ...  \n",
       "8975                                              dolor   22253000  \n",
       "8976                                        somnolencia  271782001  \n",
       "8977                                            vómitos  422400008  \n",
       "8978                                 sensación nauseosa  422587007  \n",
       "8979                                              dolor   22253000  \n",
       "\n",
       "[8980 rows x 6 columns]"
      ]
     },
     "execution_count": 147,
     "metadata": {},
     "output_type": "execute_result"
    }
   ],
   "source": [
    "df_symtoms_train"
   ]
  },
  {
   "cell_type": "code",
   "execution_count": 148,
   "metadata": {},
   "outputs": [],
   "source": [
    "df_symtoms_test = pd.read_csv(annotation_file_symptoms_test, sep='\\t')"
   ]
  },
  {
   "cell_type": "code",
   "execution_count": 149,
   "metadata": {},
   "outputs": [],
   "source": [
    "df_symtoms_test = df_symtoms_test.get(['filename', 'label', 'span_ini', 'span_end', 'text', 'code'])\n",
    "df_symtoms_test.columns = ['filename', 'label', 'span_start', 'span_end', 'span_text', 'code']"
   ]
  },
  {
   "cell_type": "code",
   "execution_count": 105,
   "metadata": {},
   "outputs": [],
   "source": [
    "df_diseases_train = pd.read_csv(annotation_file_diseases_train, sep='\\t')"
   ]
  },
  {
   "cell_type": "code",
   "execution_count": 111,
   "metadata": {},
   "outputs": [],
   "source": [
    "df_diseases_train = df_diseases_train.get(['filename', 'label', 'off0', 'off1', 'span', 'code'])\n",
    "df_diseases_train.columns = ['filename', 'label', 'span_start', 'span_end', 'span_text', 'code']"
   ]
  },
  {
   "cell_type": "code",
   "execution_count": 128,
   "metadata": {},
   "outputs": [],
   "source": [
    "df_diseases_test = pd.read_csv(annotation_file_diseases_test, sep='\\t')"
   ]
  },
  {
   "cell_type": "code",
   "execution_count": 129,
   "metadata": {},
   "outputs": [],
   "source": [
    "df_diseases_test = df_diseases_test.get(['filename', 'label', 'off0', 'off1', 'span', 'code'])\n",
    "df_diseases_test.columns = ['filename', 'label', 'span_start', 'span_end', 'span_text', 'code']"
   ]
  },
  {
   "cell_type": "code",
   "execution_count": 175,
   "metadata": {},
   "outputs": [
    {
     "data": {
      "text/html": [
       "<div>\n",
       "<style scoped>\n",
       "    .dataframe tbody tr th:only-of-type {\n",
       "        vertical-align: middle;\n",
       "    }\n",
       "\n",
       "    .dataframe tbody tr th {\n",
       "        vertical-align: top;\n",
       "    }\n",
       "\n",
       "    .dataframe thead th {\n",
       "        text-align: right;\n",
       "    }\n",
       "</style>\n",
       "<table border=\"1\" class=\"dataframe\">\n",
       "  <thead>\n",
       "    <tr style=\"text-align: right;\">\n",
       "      <th></th>\n",
       "      <th>filename</th>\n",
       "      <th>label</th>\n",
       "      <th>start_span</th>\n",
       "      <th>end_span</th>\n",
       "      <th>text</th>\n",
       "      <th>code</th>\n",
       "      <th>sem_rel</th>\n",
       "      <th>is_abbrev</th>\n",
       "      <th>is_composite</th>\n",
       "      <th>need_context</th>\n",
       "    </tr>\n",
       "  </thead>\n",
       "  <tbody>\n",
       "    <tr>\n",
       "      <th>0</th>\n",
       "      <td>S0004-06142006000100010-1</td>\n",
       "      <td>PROCEDIMIENTO</td>\n",
       "      <td>1298</td>\n",
       "      <td>1320</td>\n",
       "      <td>examen histopatológico</td>\n",
       "      <td>252416005</td>\n",
       "      <td>EXACT</td>\n",
       "      <td>False</td>\n",
       "      <td>False</td>\n",
       "      <td>False</td>\n",
       "    </tr>\n",
       "    <tr>\n",
       "      <th>1</th>\n",
       "      <td>S0004-06142006000100010-1</td>\n",
       "      <td>PROCEDIMIENTO</td>\n",
       "      <td>174</td>\n",
       "      <td>192</td>\n",
       "      <td>exploración física</td>\n",
       "      <td>5880005</td>\n",
       "      <td>EXACT</td>\n",
       "      <td>False</td>\n",
       "      <td>False</td>\n",
       "      <td>False</td>\n",
       "    </tr>\n",
       "    <tr>\n",
       "      <th>2</th>\n",
       "      <td>S0004-06142006000100010-1</td>\n",
       "      <td>PROCEDIMIENTO</td>\n",
       "      <td>216</td>\n",
       "      <td>237</td>\n",
       "      <td>ultrasonido abdominal</td>\n",
       "      <td>45036003</td>\n",
       "      <td>EXACT</td>\n",
       "      <td>False</td>\n",
       "      <td>False</td>\n",
       "      <td>False</td>\n",
       "    </tr>\n",
       "    <tr>\n",
       "      <th>3</th>\n",
       "      <td>S0004-06142006000100010-1</td>\n",
       "      <td>PROCEDIMIENTO</td>\n",
       "      <td>348</td>\n",
       "      <td>368</td>\n",
       "      <td>Urograma descendente</td>\n",
       "      <td>32265006</td>\n",
       "      <td>EXACT</td>\n",
       "      <td>False</td>\n",
       "      <td>False</td>\n",
       "      <td>False</td>\n",
       "    </tr>\n",
       "    <tr>\n",
       "      <th>4</th>\n",
       "      <td>S0004-06142006000100010-1</td>\n",
       "      <td>PROCEDIMIENTO</td>\n",
       "      <td>479</td>\n",
       "      <td>493</td>\n",
       "      <td>TAC helicoidal</td>\n",
       "      <td>116152004</td>\n",
       "      <td>EXACT</td>\n",
       "      <td>False</td>\n",
       "      <td>False</td>\n",
       "      <td>True</td>\n",
       "    </tr>\n",
       "    <tr>\n",
       "      <th>...</th>\n",
       "      <td>...</td>\n",
       "      <td>...</td>\n",
       "      <td>...</td>\n",
       "      <td>...</td>\n",
       "      <td>...</td>\n",
       "      <td>...</td>\n",
       "      <td>...</td>\n",
       "      <td>...</td>\n",
       "      <td>...</td>\n",
       "      <td>...</td>\n",
       "    </tr>\n",
       "    <tr>\n",
       "      <th>3613</th>\n",
       "      <td>es-S2340-98942015000100005-1</td>\n",
       "      <td>PROCEDIMIENTO</td>\n",
       "      <td>1732</td>\n",
       "      <td>1795</td>\n",
       "      <td>quimioterapia con trabectedina y adriamicina l...</td>\n",
       "      <td>367336001</td>\n",
       "      <td>NARROW</td>\n",
       "      <td>False</td>\n",
       "      <td>False</td>\n",
       "      <td>False</td>\n",
       "    </tr>\n",
       "    <tr>\n",
       "      <th>3614</th>\n",
       "      <td>es-S2340-98942015000100005-1</td>\n",
       "      <td>PROCEDIMIENTO</td>\n",
       "      <td>231</td>\n",
       "      <td>284</td>\n",
       "      <td>quimioterapia adyuvante con carboplatino y pac...</td>\n",
       "      <td>367336001</td>\n",
       "      <td>NARROW</td>\n",
       "      <td>False</td>\n",
       "      <td>False</td>\n",
       "      <td>False</td>\n",
       "    </tr>\n",
       "    <tr>\n",
       "      <th>3615</th>\n",
       "      <td>es-S2340-98942015000100005-1</td>\n",
       "      <td>PROCEDIMIENTO</td>\n",
       "      <td>465</td>\n",
       "      <td>468</td>\n",
       "      <td>TAC</td>\n",
       "      <td>77477000</td>\n",
       "      <td>EXACT</td>\n",
       "      <td>True</td>\n",
       "      <td>False</td>\n",
       "      <td>False</td>\n",
       "    </tr>\n",
       "    <tr>\n",
       "      <th>3616</th>\n",
       "      <td>es-S2340-98942015000100005-1</td>\n",
       "      <td>PROCEDIMIENTO</td>\n",
       "      <td>533</td>\n",
       "      <td>569</td>\n",
       "      <td>resección anterior de recto superior</td>\n",
       "      <td>172341002</td>\n",
       "      <td>EXACT</td>\n",
       "      <td>False</td>\n",
       "      <td>False</td>\n",
       "      <td>False</td>\n",
       "    </tr>\n",
       "    <tr>\n",
       "      <th>3617</th>\n",
       "      <td>es-S2340-98942015000100005-1</td>\n",
       "      <td>PROCEDIMIENTO</td>\n",
       "      <td>574</td>\n",
       "      <td>620</td>\n",
       "      <td>biopsia intraoperatoria de una lesión hepática</td>\n",
       "      <td>274355008</td>\n",
       "      <td>EXACT</td>\n",
       "      <td>False</td>\n",
       "      <td>False</td>\n",
       "      <td>False</td>\n",
       "    </tr>\n",
       "  </tbody>\n",
       "</table>\n",
       "<p>3618 rows × 10 columns</p>\n",
       "</div>"
      ],
      "text/plain": [
       "                          filename          label  start_span  end_span  \\\n",
       "0        S0004-06142006000100010-1  PROCEDIMIENTO        1298      1320   \n",
       "1        S0004-06142006000100010-1  PROCEDIMIENTO         174       192   \n",
       "2        S0004-06142006000100010-1  PROCEDIMIENTO         216       237   \n",
       "3        S0004-06142006000100010-1  PROCEDIMIENTO         348       368   \n",
       "4        S0004-06142006000100010-1  PROCEDIMIENTO         479       493   \n",
       "...                            ...            ...         ...       ...   \n",
       "3613  es-S2340-98942015000100005-1  PROCEDIMIENTO        1732      1795   \n",
       "3614  es-S2340-98942015000100005-1  PROCEDIMIENTO         231       284   \n",
       "3615  es-S2340-98942015000100005-1  PROCEDIMIENTO         465       468   \n",
       "3616  es-S2340-98942015000100005-1  PROCEDIMIENTO         533       569   \n",
       "3617  es-S2340-98942015000100005-1  PROCEDIMIENTO         574       620   \n",
       "\n",
       "                                                   text       code sem_rel  \\\n",
       "0                                examen histopatológico  252416005   EXACT   \n",
       "1                                    exploración física    5880005   EXACT   \n",
       "2                                 ultrasonido abdominal   45036003   EXACT   \n",
       "3                                  Urograma descendente   32265006   EXACT   \n",
       "4                                        TAC helicoidal  116152004   EXACT   \n",
       "...                                                 ...        ...     ...   \n",
       "3613  quimioterapia con trabectedina y adriamicina l...  367336001  NARROW   \n",
       "3614  quimioterapia adyuvante con carboplatino y pac...  367336001  NARROW   \n",
       "3615                                                TAC   77477000   EXACT   \n",
       "3616               resección anterior de recto superior  172341002   EXACT   \n",
       "3617     biopsia intraoperatoria de una lesión hepática  274355008   EXACT   \n",
       "\n",
       "      is_abbrev  is_composite  need_context  \n",
       "0         False         False         False  \n",
       "1         False         False         False  \n",
       "2         False         False         False  \n",
       "3         False         False         False  \n",
       "4         False         False          True  \n",
       "...         ...           ...           ...  \n",
       "3613      False         False         False  \n",
       "3614      False         False         False  \n",
       "3615       True         False         False  \n",
       "3616      False         False         False  \n",
       "3617      False         False         False  \n",
       "\n",
       "[3618 rows x 10 columns]"
      ]
     },
     "execution_count": 175,
     "metadata": {},
     "output_type": "execute_result"
    }
   ],
   "source": [
    "df_procedures_test = pd.read_csv(annotation_file_procedures_test, sep='\\t')\n",
    "df_procedures_test"
   ]
  },
  {
   "cell_type": "code",
   "execution_count": 176,
   "metadata": {},
   "outputs": [],
   "source": [
    "df_procedures_test = df_procedures_test.get(['filename', 'label', 'start_span', 'end_span', 'text', 'code'])\n",
    "df_procedures_test.columns = ['filename', 'label', 'span_start', 'span_end', 'span_text', 'code']"
   ]
  },
  {
   "cell_type": "code",
   "execution_count": 177,
   "metadata": {},
   "outputs": [
    {
     "data": {
      "text/html": [
       "<div>\n",
       "<style scoped>\n",
       "    .dataframe tbody tr th:only-of-type {\n",
       "        vertical-align: middle;\n",
       "    }\n",
       "\n",
       "    .dataframe tbody tr th {\n",
       "        vertical-align: top;\n",
       "    }\n",
       "\n",
       "    .dataframe thead th {\n",
       "        text-align: right;\n",
       "    }\n",
       "</style>\n",
       "<table border=\"1\" class=\"dataframe\">\n",
       "  <thead>\n",
       "    <tr style=\"text-align: right;\">\n",
       "      <th></th>\n",
       "      <th>filename</th>\n",
       "      <th>label</th>\n",
       "      <th>start_span</th>\n",
       "      <th>end_span</th>\n",
       "      <th>text</th>\n",
       "      <th>code</th>\n",
       "      <th>sem_rel</th>\n",
       "      <th>is_abbrev</th>\n",
       "      <th>is_composite</th>\n",
       "      <th>need_context</th>\n",
       "    </tr>\n",
       "  </thead>\n",
       "  <tbody>\n",
       "    <tr>\n",
       "      <th>0</th>\n",
       "      <td>S0004-06142005000700014-1</td>\n",
       "      <td>PROCEDIMIENTO</td>\n",
       "      <td>1023</td>\n",
       "      <td>1044</td>\n",
       "      <td>Auscultación pulmonar</td>\n",
       "      <td>449264008</td>\n",
       "      <td>EXACT</td>\n",
       "      <td>False</td>\n",
       "      <td>False</td>\n",
       "      <td>False</td>\n",
       "    </tr>\n",
       "    <tr>\n",
       "      <th>1</th>\n",
       "      <td>S0004-06142005000700014-1</td>\n",
       "      <td>PROCEDIMIENTO</td>\n",
       "      <td>1143</td>\n",
       "      <td>1166</td>\n",
       "      <td>exploración neurológica</td>\n",
       "      <td>84728005</td>\n",
       "      <td>EXACT</td>\n",
       "      <td>False</td>\n",
       "      <td>False</td>\n",
       "      <td>False</td>\n",
       "    </tr>\n",
       "    <tr>\n",
       "      <th>2</th>\n",
       "      <td>S0004-06142005000700014-1</td>\n",
       "      <td>PROCEDIMIENTO</td>\n",
       "      <td>1307</td>\n",
       "      <td>1328</td>\n",
       "      <td>exploración urológica</td>\n",
       "      <td>302778005</td>\n",
       "      <td>EXACT</td>\n",
       "      <td>False</td>\n",
       "      <td>False</td>\n",
       "      <td>False</td>\n",
       "    </tr>\n",
       "    <tr>\n",
       "      <th>3</th>\n",
       "      <td>S0004-06142005000700014-1</td>\n",
       "      <td>PROCEDIMIENTO</td>\n",
       "      <td>1452</td>\n",
       "      <td>1461</td>\n",
       "      <td>palpación</td>\n",
       "      <td>113011001</td>\n",
       "      <td>EXACT</td>\n",
       "      <td>False</td>\n",
       "      <td>False</td>\n",
       "      <td>False</td>\n",
       "    </tr>\n",
       "    <tr>\n",
       "      <th>4</th>\n",
       "      <td>S0004-06142005000700014-1</td>\n",
       "      <td>PROCEDIMIENTO</td>\n",
       "      <td>1509</td>\n",
       "      <td>1525</td>\n",
       "      <td>transiluminación</td>\n",
       "      <td>103741002</td>\n",
       "      <td>EXACT</td>\n",
       "      <td>False</td>\n",
       "      <td>False</td>\n",
       "      <td>False</td>\n",
       "    </tr>\n",
       "    <tr>\n",
       "      <th>...</th>\n",
       "      <td>...</td>\n",
       "      <td>...</td>\n",
       "      <td>...</td>\n",
       "      <td>...</td>\n",
       "      <td>...</td>\n",
       "      <td>...</td>\n",
       "      <td>...</td>\n",
       "      <td>...</td>\n",
       "      <td>...</td>\n",
       "      <td>...</td>\n",
       "    </tr>\n",
       "    <tr>\n",
       "      <th>4852</th>\n",
       "      <td>es-S2254-28842014000300010-1</td>\n",
       "      <td>PROCEDIMIENTO</td>\n",
       "      <td>536</td>\n",
       "      <td>564</td>\n",
       "      <td>FAVI radiocefálica izquierda</td>\n",
       "      <td>439846009</td>\n",
       "      <td>EXACT</td>\n",
       "      <td>True</td>\n",
       "      <td>False</td>\n",
       "      <td>False</td>\n",
       "    </tr>\n",
       "    <tr>\n",
       "      <th>4853</th>\n",
       "      <td>es-S2254-28842014000300010-1</td>\n",
       "      <td>PROCEDIMIENTO</td>\n",
       "      <td>565</td>\n",
       "      <td>615</td>\n",
       "      <td>se le coloca un catéter temporal yugular izqui...</td>\n",
       "      <td>164780005</td>\n",
       "      <td>NARROW</td>\n",
       "      <td>False</td>\n",
       "      <td>False</td>\n",
       "      <td>False</td>\n",
       "    </tr>\n",
       "    <tr>\n",
       "      <th>4854</th>\n",
       "      <td>es-S2254-28842014000300010-1</td>\n",
       "      <td>PROCEDIMIENTO</td>\n",
       "      <td>728</td>\n",
       "      <td>758</td>\n",
       "      <td>FAVI húmero cefálica izquierda</td>\n",
       "      <td>27929005</td>\n",
       "      <td>NARROW</td>\n",
       "      <td>True</td>\n",
       "      <td>False</td>\n",
       "      <td>False</td>\n",
       "    </tr>\n",
       "    <tr>\n",
       "      <th>4855</th>\n",
       "      <td>es-S2254-28842014000300010-1</td>\n",
       "      <td>PROCEDIMIENTO</td>\n",
       "      <td>770</td>\n",
       "      <td>792</td>\n",
       "      <td>colocación del catéter</td>\n",
       "      <td>45211000</td>\n",
       "      <td>EXACT</td>\n",
       "      <td>False</td>\n",
       "      <td>False</td>\n",
       "      <td>False</td>\n",
       "    </tr>\n",
       "    <tr>\n",
       "      <th>4856</th>\n",
       "      <td>es-S2254-28842014000300010-1</td>\n",
       "      <td>PROCEDIMIENTO</td>\n",
       "      <td>943</td>\n",
       "      <td>963</td>\n",
       "      <td>retirada del catéter</td>\n",
       "      <td>103715008</td>\n",
       "      <td>EXACT</td>\n",
       "      <td>False</td>\n",
       "      <td>False</td>\n",
       "      <td>False</td>\n",
       "    </tr>\n",
       "  </tbody>\n",
       "</table>\n",
       "<p>4857 rows × 10 columns</p>\n",
       "</div>"
      ],
      "text/plain": [
       "                          filename          label  start_span  end_span  \\\n",
       "0        S0004-06142005000700014-1  PROCEDIMIENTO        1023      1044   \n",
       "1        S0004-06142005000700014-1  PROCEDIMIENTO        1143      1166   \n",
       "2        S0004-06142005000700014-1  PROCEDIMIENTO        1307      1328   \n",
       "3        S0004-06142005000700014-1  PROCEDIMIENTO        1452      1461   \n",
       "4        S0004-06142005000700014-1  PROCEDIMIENTO        1509      1525   \n",
       "...                            ...            ...         ...       ...   \n",
       "4852  es-S2254-28842014000300010-1  PROCEDIMIENTO         536       564   \n",
       "4853  es-S2254-28842014000300010-1  PROCEDIMIENTO         565       615   \n",
       "4854  es-S2254-28842014000300010-1  PROCEDIMIENTO         728       758   \n",
       "4855  es-S2254-28842014000300010-1  PROCEDIMIENTO         770       792   \n",
       "4856  es-S2254-28842014000300010-1  PROCEDIMIENTO         943       963   \n",
       "\n",
       "                                                   text       code sem_rel  \\\n",
       "0                                 Auscultación pulmonar  449264008   EXACT   \n",
       "1                               exploración neurológica   84728005   EXACT   \n",
       "2                                 exploración urológica  302778005   EXACT   \n",
       "3                                             palpación  113011001   EXACT   \n",
       "4                                      transiluminación  103741002   EXACT   \n",
       "...                                                 ...        ...     ...   \n",
       "4852                       FAVI radiocefálica izquierda  439846009   EXACT   \n",
       "4853  se le coloca un catéter temporal yugular izqui...  164780005  NARROW   \n",
       "4854                     FAVI húmero cefálica izquierda   27929005  NARROW   \n",
       "4855                             colocación del catéter   45211000   EXACT   \n",
       "4856                               retirada del catéter  103715008   EXACT   \n",
       "\n",
       "      is_abbrev  is_composite  need_context  \n",
       "0         False         False         False  \n",
       "1         False         False         False  \n",
       "2         False         False         False  \n",
       "3         False         False         False  \n",
       "4         False         False         False  \n",
       "...         ...           ...           ...  \n",
       "4852       True         False         False  \n",
       "4853      False         False         False  \n",
       "4854       True         False         False  \n",
       "4855      False         False         False  \n",
       "4856      False         False         False  \n",
       "\n",
       "[4857 rows x 10 columns]"
      ]
     },
     "execution_count": 177,
     "metadata": {},
     "output_type": "execute_result"
    }
   ],
   "source": [
    "df_procedures_train = pd.read_csv(annotation_file_procedures_train, sep='\\t')\n",
    "df_procedures_train"
   ]
  },
  {
   "cell_type": "code",
   "execution_count": 178,
   "metadata": {},
   "outputs": [],
   "source": [
    "df_procedures_train = df_procedures_train.get(['filename', 'label', 'start_span', 'end_span', 'text', 'code'])\n",
    "df_procedures_train.columns = ['filename', 'label', 'span_start', 'span_end', 'span_text', 'code']"
   ]
  },
  {
   "cell_type": "code",
   "execution_count": 181,
   "metadata": {},
   "outputs": [],
   "source": [
    "# Load spaCy model\n",
    "nlp = spacy.blank(\"es\")\n",
    "\n",
    "def create_doc_with_annotations(text, annotations):\n",
    "    doc = nlp(text)\n",
    "    \n",
    "    # Convert character-based annotations to token-based annotations\n",
    "    token_annotations = []\n",
    "    for start_char, end_char, label in annotations:\n",
    "        start_token = None\n",
    "        end_token = None\n",
    "        for token in doc:\n",
    "            if token.idx == start_char:\n",
    "                start_token = token.i\n",
    "            if token.idx + len(token) == end_char:\n",
    "                end_token = token.i + 1\n",
    "        \n",
    "        if start_token is not None and end_token is not None:\n",
    "            token_annotations.append((start_token, end_token, label))\n",
    "        else:\n",
    "            # Handle cases where tokenization doesn't align with annotation boundaries\n",
    "            for token in doc:\n",
    "                if token.idx >= start_char and token.idx + len(token) <= end_char:\n",
    "                    if start_token is None:\n",
    "                        start_token = token.i\n",
    "                    end_token = token.i + 1\n",
    "            token_annotations.append((start_token, end_token, label))\n",
    "\n",
    "    # Create spans and add them to doc.ents\n",
    "    spans = [Span(doc, start, end, label=label) for start, end, label in token_annotations]\n",
    "    doc.ents = spans\n",
    "    \n",
    "    return doc\n"
   ]
  },
  {
   "cell_type": "code",
   "execution_count": 179,
   "metadata": {},
   "outputs": [],
   "source": [
    "annotations = pd.concat([df_diseases_train, \n",
    "                         df_diseases_test, \n",
    "                         df_symtoms_test, \n",
    "                         df_symtoms_train,\n",
    "                         df_procedures_train,\n",
    "                         df_procedures_test])"
   ]
  },
  {
   "cell_type": "code",
   "execution_count": 186,
   "metadata": {},
   "outputs": [
    {
     "data": {
      "text/html": [
       "<div>\n",
       "<style scoped>\n",
       "    .dataframe tbody tr th:only-of-type {\n",
       "        vertical-align: middle;\n",
       "    }\n",
       "\n",
       "    .dataframe tbody tr th {\n",
       "        vertical-align: top;\n",
       "    }\n",
       "\n",
       "    .dataframe thead th {\n",
       "        text-align: right;\n",
       "    }\n",
       "</style>\n",
       "<table border=\"1\" class=\"dataframe\">\n",
       "  <thead>\n",
       "    <tr style=\"text-align: right;\">\n",
       "      <th></th>\n",
       "      <th>filename</th>\n",
       "      <th>label</th>\n",
       "      <th>span_start</th>\n",
       "      <th>span_end</th>\n",
       "      <th>span_text</th>\n",
       "      <th>code</th>\n",
       "    </tr>\n",
       "  </thead>\n",
       "  <tbody>\n",
       "    <tr>\n",
       "      <th>0</th>\n",
       "      <td>es-S0210-56912007000900007-3</td>\n",
       "      <td>ENFERMEDAD</td>\n",
       "      <td>164</td>\n",
       "      <td>166</td>\n",
       "      <td>DM</td>\n",
       "      <td>73211009</td>\n",
       "    </tr>\n",
       "    <tr>\n",
       "      <th>1</th>\n",
       "      <td>es-S0210-56912007000900007-3</td>\n",
       "      <td>ENFERMEDAD</td>\n",
       "      <td>362</td>\n",
       "      <td>376</td>\n",
       "      <td>deshidratación</td>\n",
       "      <td>34095006</td>\n",
       "    </tr>\n",
       "    <tr>\n",
       "      <th>2</th>\n",
       "      <td>es-S0210-56912007000900007-3</td>\n",
       "      <td>ENFERMEDAD</td>\n",
       "      <td>575</td>\n",
       "      <td>590</td>\n",
       "      <td>hiperamilasemia</td>\n",
       "      <td>275739007</td>\n",
       "    </tr>\n",
       "    <tr>\n",
       "      <th>3</th>\n",
       "      <td>es-S0210-56912007000900007-3</td>\n",
       "      <td>ENFERMEDAD</td>\n",
       "      <td>715</td>\n",
       "      <td>733</td>\n",
       "      <td>pancreatitis aguda</td>\n",
       "      <td>197456007</td>\n",
       "    </tr>\n",
       "    <tr>\n",
       "      <th>4</th>\n",
       "      <td>es-S0210-56912007000900007-3</td>\n",
       "      <td>ENFERMEDAD</td>\n",
       "      <td>1402</td>\n",
       "      <td>1459</td>\n",
       "      <td>formación polipoidea sésil situada junto al es...</td>\n",
       "      <td>88580009</td>\n",
       "    </tr>\n",
       "    <tr>\n",
       "      <th>...</th>\n",
       "      <td>...</td>\n",
       "      <td>...</td>\n",
       "      <td>...</td>\n",
       "      <td>...</td>\n",
       "      <td>...</td>\n",
       "      <td>...</td>\n",
       "    </tr>\n",
       "    <tr>\n",
       "      <th>3613</th>\n",
       "      <td>es-S2340-98942015000100005-1</td>\n",
       "      <td>PROCEDIMIENTO</td>\n",
       "      <td>1732</td>\n",
       "      <td>1795</td>\n",
       "      <td>quimioterapia con trabectedina y adriamicina l...</td>\n",
       "      <td>367336001</td>\n",
       "    </tr>\n",
       "    <tr>\n",
       "      <th>3614</th>\n",
       "      <td>es-S2340-98942015000100005-1</td>\n",
       "      <td>PROCEDIMIENTO</td>\n",
       "      <td>231</td>\n",
       "      <td>284</td>\n",
       "      <td>quimioterapia adyuvante con carboplatino y pac...</td>\n",
       "      <td>367336001</td>\n",
       "    </tr>\n",
       "    <tr>\n",
       "      <th>3615</th>\n",
       "      <td>es-S2340-98942015000100005-1</td>\n",
       "      <td>PROCEDIMIENTO</td>\n",
       "      <td>465</td>\n",
       "      <td>468</td>\n",
       "      <td>TAC</td>\n",
       "      <td>77477000</td>\n",
       "    </tr>\n",
       "    <tr>\n",
       "      <th>3616</th>\n",
       "      <td>es-S2340-98942015000100005-1</td>\n",
       "      <td>PROCEDIMIENTO</td>\n",
       "      <td>533</td>\n",
       "      <td>569</td>\n",
       "      <td>resección anterior de recto superior</td>\n",
       "      <td>172341002</td>\n",
       "    </tr>\n",
       "    <tr>\n",
       "      <th>3617</th>\n",
       "      <td>es-S2340-98942015000100005-1</td>\n",
       "      <td>PROCEDIMIENTO</td>\n",
       "      <td>574</td>\n",
       "      <td>620</td>\n",
       "      <td>biopsia intraoperatoria de una lesión hepática</td>\n",
       "      <td>274355008</td>\n",
       "    </tr>\n",
       "  </tbody>\n",
       "</table>\n",
       "<p>26711 rows × 6 columns</p>\n",
       "</div>"
      ],
      "text/plain": [
       "                          filename          label  span_start  span_end  \\\n",
       "0     es-S0210-56912007000900007-3     ENFERMEDAD         164       166   \n",
       "1     es-S0210-56912007000900007-3     ENFERMEDAD         362       376   \n",
       "2     es-S0210-56912007000900007-3     ENFERMEDAD         575       590   \n",
       "3     es-S0210-56912007000900007-3     ENFERMEDAD         715       733   \n",
       "4     es-S0210-56912007000900007-3     ENFERMEDAD        1402      1459   \n",
       "...                            ...            ...         ...       ...   \n",
       "3613  es-S2340-98942015000100005-1  PROCEDIMIENTO        1732      1795   \n",
       "3614  es-S2340-98942015000100005-1  PROCEDIMIENTO         231       284   \n",
       "3615  es-S2340-98942015000100005-1  PROCEDIMIENTO         465       468   \n",
       "3616  es-S2340-98942015000100005-1  PROCEDIMIENTO         533       569   \n",
       "3617  es-S2340-98942015000100005-1  PROCEDIMIENTO         574       620   \n",
       "\n",
       "                                              span_text       code  \n",
       "0                                                    DM   73211009  \n",
       "1                                        deshidratación   34095006  \n",
       "2                                       hiperamilasemia  275739007  \n",
       "3                                    pancreatitis aguda  197456007  \n",
       "4     formación polipoidea sésil situada junto al es...   88580009  \n",
       "...                                                 ...        ...  \n",
       "3613  quimioterapia con trabectedina y adriamicina l...  367336001  \n",
       "3614  quimioterapia adyuvante con carboplatino y pac...  367336001  \n",
       "3615                                                TAC   77477000  \n",
       "3616               resección anterior de recto superior  172341002  \n",
       "3617     biopsia intraoperatoria de una lesión hepática  274355008  \n",
       "\n",
       "[26711 rows x 6 columns]"
      ]
     },
     "execution_count": 186,
     "metadata": {},
     "output_type": "execute_result"
    }
   ],
   "source": [
    "annotations"
   ]
  },
  {
   "cell_type": "code",
   "execution_count": 155,
   "metadata": {},
   "outputs": [
    {
     "data": {
      "text/plain": [
       "label\n",
       "SINTOMA          12014\n",
       "PROCEDIMIENTO     8475\n",
       "ENFERMEDAD        6222\n",
       "Name: count, dtype: int64"
      ]
     },
     "execution_count": 155,
     "metadata": {},
     "output_type": "execute_result"
    }
   ],
   "source": [
    "annotations['label'].value_counts()"
   ]
  },
  {
   "cell_type": "code",
   "execution_count": 182,
   "metadata": {},
   "outputs": [
    {
     "name": "stderr",
     "output_type": "stream",
     "text": [
      "1000it [00:07, 135.79it/s]"
     ]
    },
    {
     "name": "stdout",
     "output_type": "stream",
     "text": [
      "0 errors\n"
     ]
    },
    {
     "name": "stderr",
     "output_type": "stream",
     "text": [
      "\n"
     ]
    }
   ],
   "source": [
    "# Process each unique filename\n",
    "docs = []\n",
    "error = 0\n",
    "for i, row in tqdm(clinical_notes.iterrows()):\n",
    "    filename = row['filename']\n",
    "    text = row['text']\n",
    "    annot = annotations[annotations['filename'] == filename][['span_start', 'span_end', 'label']].values.tolist()\n",
    "    try:\n",
    "        doc = create_doc_with_annotations(text, annot)\n",
    "        docs.append({'filename':filename, 'doc':doc})\n",
    "    except:\n",
    "        errors =+ 1\n",
    "\n",
    "print(f'{error} errors')        \n",
    "    \n",
    "    "
   ]
  },
  {
   "cell_type": "code",
   "execution_count": 183,
   "metadata": {},
   "outputs": [
    {
     "data": {
      "text/html": [
       "<span class=\"tex2jax_ignore\"><div class=\"entities\" style=\"line-height: 2.5; direction: ltr\">El primer caso, se trata de una mujer de 25 años diagnosticada de síndrome de Laurence-Moon-Biell que se manifiesta con hipogonadismo con obesidad, retraso mental, polidactilia, retinitis pigmentaria e insuficiencia renal. Inició tratamiento de \n",
       "<mark class=\"entity\" style=\"background: linear-gradient(90deg, #00ccff, #0099cc); padding: 0.45em 0.6em; margin: 0 0.25em; line-height: 1; border-radius: 0.35em;\">\n",
       "    HD\n",
       "    <span style=\"font-size: 0.8em; font-weight: bold; line-height: 1; border-radius: 0.35em; vertical-align: middle; margin-left: 0.5rem\">PROCEDIMIENTO</span>\n",
       "</mark>\n",
       " a los 11 años, recibió su primer \n",
       "<mark class=\"entity\" style=\"background: linear-gradient(90deg, #00ccff, #0099cc); padding: 0.45em 0.6em; margin: 0 0.25em; line-height: 1; border-radius: 0.35em;\">\n",
       "    trasplante renal\n",
       "    <span style=\"font-size: 0.8em; font-weight: bold; line-height: 1; border-radius: 0.35em; vertical-align: middle; margin-left: 0.5rem\">PROCEDIMIENTO</span>\n",
       "</mark>\n",
       " al año siguiente, que falló a causa de una trombosis venosa, por lo que retornó a \n",
       "<mark class=\"entity\" style=\"background: linear-gradient(90deg, #00ccff, #0099cc); padding: 0.45em 0.6em; margin: 0 0.25em; line-height: 1; border-radius: 0.35em;\">\n",
       "    HD\n",
       "    <span style=\"font-size: 0.8em; font-weight: bold; line-height: 1; border-radius: 0.35em; vertical-align: middle; margin-left: 0.5rem\">PROCEDIMIENTO</span>\n",
       "</mark>\n",
       " y precisó \n",
       "<mark class=\"entity\" style=\"background: linear-gradient(90deg, #00ccff, #0099cc); padding: 0.45em 0.6em; margin: 0 0.25em; line-height: 1; border-radius: 0.35em;\">\n",
       "    trasplantectomía\n",
       "    <span style=\"font-size: 0.8em; font-weight: bold; line-height: 1; border-radius: 0.35em; vertical-align: middle; margin-left: 0.5rem\">PROCEDIMIENTO</span>\n",
       "</mark>\n",
       " 9 meses más tarde.<br>Debido a dificultades de \n",
       "<mark class=\"entity\" style=\"background: linear-gradient(90deg, #00ccff, #0099cc); padding: 0.45em 0.6em; margin: 0 0.25em; line-height: 1; border-radius: 0.35em;\">\n",
       "    acceso vascular\n",
       "    <span style=\"font-size: 0.8em; font-weight: bold; line-height: 1; border-radius: 0.35em; vertical-align: middle; margin-left: 0.5rem\">PROCEDIMIENTO</span>\n",
       "</mark>\n",
       ", necesitó ser derivada a \n",
       "<mark class=\"entity\" style=\"background: linear-gradient(90deg, #00ccff, #0099cc); padding: 0.45em 0.6em; margin: 0 0.25em; line-height: 1; border-radius: 0.35em;\">\n",
       "    DP\n",
       "    <span style=\"font-size: 0.8em; font-weight: bold; line-height: 1; border-radius: 0.35em; vertical-align: middle; margin-left: 0.5rem\">PROCEDIMIENTO</span>\n",
       "</mark>\n",
       ". En la evolución la paciente sufrió varios episodios de peritonitis y padeció un hiperparatiroidismo grave. Su membrana peritoneal, se clasificó como medio-alta transportadora. Tras 12 años en programa de \n",
       "<mark class=\"entity\" style=\"background: linear-gradient(90deg, #00ccff, #0099cc); padding: 0.45em 0.6em; margin: 0 0.25em; line-height: 1; border-radius: 0.35em;\">\n",
       "    DP\n",
       "    <span style=\"font-size: 0.8em; font-weight: bold; line-height: 1; border-radius: 0.35em; vertical-align: middle; margin-left: 0.5rem\">PROCEDIMIENTO</span>\n",
       "</mark>\n",
       ", la paciente muestra un \n",
       "<mark class=\"entity\" style=\"background: linear-gradient(90deg, #aa9cfc, #fc9ce7); padding: 0.45em 0.6em; margin: 0 0.25em; line-height: 1; border-radius: 0.35em;\">\n",
       "    mal estado general\n",
       "    <span style=\"font-size: 0.8em; font-weight: bold; line-height: 1; border-radius: 0.35em; vertical-align: middle; margin-left: 0.5rem\">SINTOMA</span>\n",
       "</mark>\n",
       " y una peritonitis, causada por dos gérmenes (Staphilococcus epidermidis y Pseudomona aeruginosa), junto con infección de túnel por el estafilococo. En la \n",
       "<mark class=\"entity\" style=\"background: linear-gradient(90deg, #00ccff, #0099cc); padding: 0.45em 0.6em; margin: 0 0.25em; line-height: 1; border-radius: 0.35em;\">\n",
       "    exploración\n",
       "    <span style=\"font-size: 0.8em; font-weight: bold; line-height: 1; border-radius: 0.35em; vertical-align: middle; margin-left: 0.5rem\">PROCEDIMIENTO</span>\n",
       "</mark>\n",
       " se apreció un \n",
       "<mark class=\"entity\" style=\"background: linear-gradient(90deg, #aa9cfc, #fc9ce7); padding: 0.45em 0.6em; margin: 0 0.25em; line-height: 1; border-radius: 0.35em;\">\n",
       "    &quot;efecto masa&quot; en la zona del túnel subcutáneo\n",
       "    <span style=\"font-size: 0.8em; font-weight: bold; line-height: 1; border-radius: 0.35em; vertical-align: middle; margin-left: 0.5rem\">SINTOMA</span>\n",
       "</mark>\n",
       ", no fluctuante, sin \n",
       "<mark class=\"entity\" style=\"background: linear-gradient(90deg, #aa9cfc, #fc9ce7); padding: 0.45em 0.6em; margin: 0 0.25em; line-height: 1; border-radius: 0.35em;\">\n",
       "    signos inflamatorios\n",
       "    <span style=\"font-size: 0.8em; font-weight: bold; line-height: 1; border-radius: 0.35em; vertical-align: middle; margin-left: 0.5rem\">SINTOMA</span>\n",
       "</mark>\n",
       ", de consistencia dura y contorno mamelonado, produciendo una eventración peritoneal en el orificio del catéter.<br>En las \n",
       "<mark class=\"entity\" style=\"background: linear-gradient(90deg, #00ccff, #0099cc); padding: 0.45em 0.6em; margin: 0 0.25em; line-height: 1; border-radius: 0.35em;\">\n",
       "    imágenes radiológicas\n",
       "    <span style=\"font-size: 0.8em; font-weight: bold; line-height: 1; border-radius: 0.35em; vertical-align: middle; margin-left: 0.5rem\">PROCEDIMIENTO</span>\n",
       "</mark>\n",
       " se apreció la esclerosis y calcificación de toda la membrana peritoneal, \n",
       "<mark class=\"entity\" style=\"background: linear-gradient(90deg, #aa9cfc, #fc9ce7); padding: 0.45em 0.6em; margin: 0 0.25em; line-height: 1; border-radius: 0.35em;\">\n",
       "    comprimiendo todas las estructuras viscerales abdominales\n",
       "    <span style=\"font-size: 0.8em; font-weight: bold; line-height: 1; border-radius: 0.35em; vertical-align: middle; margin-left: 0.5rem\">SINTOMA</span>\n",
       "</mark>\n",
       ". Se procedió a \n",
       "<mark class=\"entity\" style=\"background: linear-gradient(90deg, #00ccff, #0099cc); padding: 0.45em 0.6em; margin: 0 0.25em; line-height: 1; border-radius: 0.35em;\">\n",
       "    tratamiento antibiótico\n",
       "    <span style=\"font-size: 0.8em; font-weight: bold; line-height: 1; border-radius: 0.35em; vertical-align: middle; margin-left: 0.5rem\">PROCEDIMIENTO</span>\n",
       "</mark>\n",
       " específico, \n",
       "<mark class=\"entity\" style=\"background: linear-gradient(90deg, #00ccff, #0099cc); padding: 0.45em 0.6em; margin: 0 0.25em; line-height: 1; border-radius: 0.35em;\">\n",
       "    retirada de catéter de DP\n",
       "    <span style=\"font-size: 0.8em; font-weight: bold; line-height: 1; border-radius: 0.35em; vertical-align: middle; margin-left: 0.5rem\">PROCEDIMIENTO</span>\n",
       "</mark>\n",
       ", y \n",
       "<mark class=\"entity\" style=\"background: linear-gradient(90deg, #00ccff, #0099cc); padding: 0.45em 0.6em; margin: 0 0.25em; line-height: 1; border-radius: 0.35em;\">\n",
       "    transferencia a HD\n",
       "    <span style=\"font-size: 0.8em; font-weight: bold; line-height: 1; border-radius: 0.35em; vertical-align: middle; margin-left: 0.5rem\">PROCEDIMIENTO</span>\n",
       "</mark>\n",
       ". Más tarde, la paciente presenta \n",
       "<mark class=\"entity\" style=\"background: linear-gradient(90deg, #aa9cfc, #fc9ce7); padding: 0.45em 0.6em; margin: 0 0.25em; line-height: 1; border-radius: 0.35em;\">\n",
       "    dificultad para la ingesta\n",
       "    <span style=\"font-size: 0.8em; font-weight: bold; line-height: 1; border-radius: 0.35em; vertical-align: middle; margin-left: 0.5rem\">SINTOMA</span>\n",
       "</mark>\n",
       " por \n",
       "<mark class=\"entity\" style=\"background: linear-gradient(90deg, #aa9cfc, #fc9ce7); padding: 0.45em 0.6em; margin: 0 0.25em; line-height: 1; border-radius: 0.35em;\">\n",
       "    vómitos\n",
       "    <span style=\"font-size: 0.8em; font-weight: bold; line-height: 1; border-radius: 0.35em; vertical-align: middle; margin-left: 0.5rem\">SINTOMA</span>\n",
       "</mark>\n",
       ". Una vez en \n",
       "<mark class=\"entity\" style=\"background: linear-gradient(90deg, #00ccff, #0099cc); padding: 0.45em 0.6em; margin: 0 0.25em; line-height: 1; border-radius: 0.35em;\">\n",
       "    HD\n",
       "    <span style=\"font-size: 0.8em; font-weight: bold; line-height: 1; border-radius: 0.35em; vertical-align: middle; margin-left: 0.5rem\">PROCEDIMIENTO</span>\n",
       "</mark>\n",
       " desarrolló dos nuevos episodios de ascitis, secundaria a peritonitis por Echerichia coli, que precisó evacuación mediante \n",
       "<mark class=\"entity\" style=\"background: linear-gradient(90deg, #00ccff, #0099cc); padding: 0.45em 0.6em; margin: 0 0.25em; line-height: 1; border-radius: 0.35em;\">\n",
       "    paracentesis\n",
       "    <span style=\"font-size: 0.8em; font-weight: bold; line-height: 1; border-radius: 0.35em; vertical-align: middle; margin-left: 0.5rem\">PROCEDIMIENTO</span>\n",
       "</mark>\n",
       ". Posteriormente, presentó una isquemia aguda en miembro inferior derecho, por obstrucción femoropoplítea.<br><br>Se desestimó el \n",
       "<mark class=\"entity\" style=\"background: linear-gradient(90deg, #00ccff, #0099cc); padding: 0.45em 0.6em; margin: 0 0.25em; line-height: 1; border-radius: 0.35em;\">\n",
       "    tratamiento quirúrgico de la calcificación peritoneal\n",
       "    <span style=\"font-size: 0.8em; font-weight: bold; line-height: 1; border-radius: 0.35em; vertical-align: middle; margin-left: 0.5rem\">PROCEDIMIENTO</span>\n",
       "</mark>\n",
       " y la \n",
       "<mark class=\"entity\" style=\"background: linear-gradient(90deg, #00ccff, #0099cc); padding: 0.45em 0.6em; margin: 0 0.25em; line-height: 1; border-radius: 0.35em;\">\n",
       "    amputación del miembro isquémico\n",
       "    <span style=\"font-size: 0.8em; font-weight: bold; line-height: 1; border-radius: 0.35em; vertical-align: middle; margin-left: 0.5rem\">PROCEDIMIENTO</span>\n",
       "</mark>\n",
       ". La evolución fue insatisfactoria \n",
       "<mark class=\"entity\" style=\"background: linear-gradient(90deg, #aa9cfc, #fc9ce7); padding: 0.45em 0.6em; margin: 0 0.25em; line-height: 1; border-radius: 0.35em;\">\n",
       "    falleciendo\n",
       "    <span style=\"font-size: 0.8em; font-weight: bold; line-height: 1; border-radius: 0.35em; vertical-align: middle; margin-left: 0.5rem\">SINTOMA</span>\n",
       "</mark>\n",
       " poco después.<br><br></div></span>"
      ],
      "text/plain": [
       "<IPython.core.display.HTML object>"
      ]
     },
     "metadata": {},
     "output_type": "display_data"
    }
   ],
   "source": [
    "doc = random.choice(docs).get('doc')\n",
    "displacy.render(doc, style='ent', jupyter=True, options=options)"
   ]
  },
  {
   "cell_type": "markdown",
   "metadata": {},
   "source": [
    "## Save results"
   ]
  },
  {
   "cell_type": "code",
   "execution_count": 184,
   "metadata": {},
   "outputs": [],
   "source": [
    "with open('spacy_documents.pkl', 'wb') as f:\n",
    "    pickle.dump(docs, f)"
   ]
  },
  {
   "cell_type": "code",
   "execution_count": 185,
   "metadata": {},
   "outputs": [],
   "source": [
    "annotations.to_csv('annotations.csv', index=False)"
   ]
  },
  {
   "cell_type": "code",
   "execution_count": 1,
   "metadata": {},
   "outputs": [
    {
     "ename": "NameError",
     "evalue": "name 'texts' is not defined",
     "output_type": "error",
     "traceback": [
      "\u001b[0;31m---------------------------------------------------------------------------\u001b[0m",
      "\u001b[0;31mNameError\u001b[0m                                 Traceback (most recent call last)",
      "Cell \u001b[0;32mIn[1], line 1\u001b[0m\n\u001b[0;32m----> 1\u001b[0m \u001b[43mtexts\u001b[49m\n",
      "\u001b[0;31mNameError\u001b[0m: name 'texts' is not defined"
     ]
    }
   ],
   "source": [
    "texts"
   ]
  },
  {
   "cell_type": "code",
   "execution_count": null,
   "metadata": {},
   "outputs": [],
   "source": [
    "annotations[annotations['filename'] == filename]"
   ]
  },
  {
   "cell_type": "code",
   "execution_count": null,
   "metadata": {},
   "outputs": [],
   "source": [
    "annot"
   ]
  },
  {
   "cell_type": "code",
   "execution_count": null,
   "metadata": {},
   "outputs": [],
   "source": [
    "doc"
   ]
  },
  {
   "cell_type": "code",
   "execution_count": 72,
   "metadata": {},
   "outputs": [],
   "source": [
    "nlp = spacy.blank(\"es\")"
   ]
  },
  {
   "cell_type": "code",
   "execution_count": 85,
   "metadata": {},
   "outputs": [
    {
     "data": {
      "text/plain": [
       "1791"
      ]
     },
     "execution_count": 85,
     "metadata": {},
     "output_type": "execute_result"
    }
   ],
   "source": [
    "len(text)"
   ]
  },
  {
   "cell_type": "code",
   "execution_count": 83,
   "metadata": {},
   "outputs": [],
   "source": [
    "doc = nlp(text)"
   ]
  },
  {
   "cell_type": "code",
   "execution_count": 84,
   "metadata": {},
   "outputs": [
    {
     "data": {
      "text/plain": [
       "290"
      ]
     },
     "execution_count": 84,
     "metadata": {},
     "output_type": "execute_result"
    }
   ],
   "source": [
    "len(doc)"
   ]
  },
  {
   "cell_type": "code",
   "execution_count": 79,
   "metadata": {},
   "outputs": [
    {
     "data": {
      "text/plain": [
       "[210, 216, 641, 0, 157, 148, 0, 303, 106, 0, 0]"
      ]
     },
     "execution_count": 79,
     "metadata": {},
     "output_type": "execute_result"
    }
   ],
   "source": [
    "[len(chunk) for chunk in text.split('\\n')]"
   ]
  },
  {
   "cell_type": "code",
   "execution_count": 78,
   "metadata": {},
   "outputs": [
    {
     "data": {
      "text/plain": [
       "1791"
      ]
     },
     "execution_count": 78,
     "metadata": {},
     "output_type": "execute_result"
    }
   ],
   "source": [
    "len(text)"
   ]
  },
  {
   "cell_type": "code",
   "execution_count": 80,
   "metadata": {},
   "outputs": [
    {
     "data": {
      "text/plain": [
       "290"
      ]
     },
     "execution_count": 80,
     "metadata": {},
     "output_type": "execute_result"
    }
   ],
   "source": [
    "len(doc)"
   ]
  },
  {
   "cell_type": "code",
   "execution_count": 75,
   "metadata": {},
   "outputs": [
    {
     "data": {
      "text/plain": [
       "Paciente masculino de 56 años de edad con antecedentes de serologia positiva para HIV y Hepatitis B que presenta cuadro de colecistitis aguda por la cual se le realiza colecistectomia laparoscopica de urgencia.\n",
       "Durante el post-operatorio tardío, al mes de la cirugía, el paciente presenta un bilioma el cual es evacuado en forma percutánea. A su vez también se realiza una derivación biliar mediante colangiografia endoscopica.\n",
       "Producto de la anterior el paciente presenta una pancreatitis aguda asociándose a ésta una colección peri-pancreática. Dicha colección se evacua mediante un drenaje percutáneo inicial, el cual prueba ser insuficiente presentando el paciente una importante colección retroperitoneal. Sin presentar mejoría, y con un débito persistente por el drenaje asociado a fiebre y deterioro del estado general, se realiza tomografía computada de abdomen y pelvis. Ésta informa líquido encapsulado con nivel hidroaéreo en el flanco derecho adyacente a la pared abdominal extendiéndose 17 cm en el sentido cráneo-caudal y 11 x 3 cm en diámetro transverso.\n",
       "\n",
       "Con diagnostico de absceso parietocólico derecho extraperitoneal se realizo drenaje mediante lumboscopia, evacuando abundante material necrotico y purulento.\n",
       "Se colocaron dos drenajes de silicona pura enfrentados, confeccionando un sistema de lavado continuo, utilizando solución fisiológica a goteo lento.\n",
       "\n",
       "El paciente evolucionó en forma favorable con escasos registros febriles. Presentó un cultivo positivo para Pseudomona Aureaginosa, la cual fue tratada con Meropenem durante la hospitalización. Al cuarto día postoperatorio se reemplazó el lavado continuo por un sistema de hemosuctor y fue dado de alta.\n",
       "Durante los controles, el paciente continuó afebril retirándose el drenaje tras cesar el debito del mismo.\n"
      ]
     },
     "execution_count": 75,
     "metadata": {},
     "output_type": "execute_result"
    }
   ],
   "source": [
    "doc"
   ]
  },
  {
   "cell_type": "code",
   "execution_count": 20,
   "metadata": {},
   "outputs": [
    {
     "data": {
      "text/plain": [
       "(serologia positiva para HIV y Hepatitis B,\n",
       " colección peri-pancreática,\n",
       " colección,\n",
       " colección retroperitoneal,\n",
       " débito persistente por el drenaje,\n",
       " fiebre,\n",
       " deterioro del estado general,\n",
       " líquido encapsulado con nivel hidroaéreo en el flanco derecho,\n",
       " lumboscopia, evacuando abundante material necrotico y purulento,\n",
       " registros febriles,\n",
       " cultivo positivo para Pseudomona Aureaginosa,\n",
       " afebril)"
      ]
     },
     "execution_count": 20,
     "metadata": {},
     "output_type": "execute_result"
    }
   ],
   "source": [
    "doc.ents"
   ]
  },
  {
   "cell_type": "code",
   "execution_count": 124,
   "metadata": {},
   "outputs": [
    {
     "data": {
      "text/html": [
       "<span class=\"tex2jax_ignore\"><div class=\"entities\" style=\"line-height: 2.5; direction: ltr\">Varón de 70 años de raza blanca, con antecedentes de \n",
       "<mark class=\"entity\" style=\"background: linear-gradient(90deg, #ffcc00, #ff66cc); padding: 0.45em 0.6em; margin: 0 0.25em; line-height: 1; border-radius: 0.35em;\">\n",
       "    hiperplasia prostática benigna\n",
       "    <span style=\"font-size: 0.8em; font-weight: bold; line-height: 1; border-radius: 0.35em; vertical-align: middle; margin-left: 0.5rem\">ENFERMEDAD</span>\n",
       "</mark>\n",
       ", \n",
       "<mark class=\"entity\" style=\"background: linear-gradient(90deg, #ffcc00, #ff66cc); padding: 0.45em 0.6em; margin: 0 0.25em; line-height: 1; border-radius: 0.35em;\">\n",
       "    fibrilación auricular recurrente\n",
       "    <span style=\"font-size: 0.8em; font-weight: bold; line-height: 1; border-radius: 0.35em; vertical-align: middle; margin-left: 0.5rem\">ENFERMEDAD</span>\n",
       "</mark>\n",
       " y hemitiroidectomía derecha por hiperplasia nodular, así como \n",
       "<mark class=\"entity\" style=\"background: linear-gradient(90deg, #ffcc00, #ff66cc); padding: 0.45em 0.6em; margin: 0 0.25em; line-height: 1; border-radius: 0.35em;\">\n",
       "    insuficiencia renal crónica\n",
       "    <span style=\"font-size: 0.8em; font-weight: bold; line-height: 1; border-radius: 0.35em; vertical-align: middle; margin-left: 0.5rem\">ENFERMEDAD</span>\n",
       "</mark>\n",
       " no estudiada (creatinina basal 1,5 mg/dl).<br>Acude a Urgencias por clínica de tres meses de evolución de inestabilidad de la marcha y debilidad generalizada (ingreso previo en otro centro por estos síntomas). Al examen físico, el paciente está deshidratado, confuso, bradipsíquico y con temblor distal.<br>Los datos analíticos se resumen en la (tabla 1), destacando deterioro importante de la función renal, \n",
       "<mark class=\"entity\" style=\"background: linear-gradient(90deg, #ffcc00, #ff66cc); padding: 0.45em 0.6em; margin: 0 0.25em; line-height: 1; border-radius: 0.35em;\">\n",
       "    hipercalcemia severa\n",
       "    <span style=\"font-size: 0.8em; font-weight: bold; line-height: 1; border-radius: 0.35em; vertical-align: middle; margin-left: 0.5rem\">ENFERMEDAD</span>\n",
       "</mark>\n",
       " y elevación marcada de PTH (veinte veces sobre el valor de referencia del laboratorio). Se inicia sueroterapia, perfusión de furosemida y corticoides endovenosos, bifosfonatos y calcitonina. Debido a la severidad de la clínica neurológica, se indica simultáneamente terapia renal sustitutiva urgente mediante hemodiálisis con baja concentración de calcio en el dializado. Presenta mejoría clínica transitoria, pero debido a persistencia del \n",
       "<mark class=\"entity\" style=\"background: linear-gradient(90deg, #ffcc00, #ff66cc); padding: 0.45em 0.6em; margin: 0 0.25em; line-height: 1; border-radius: 0.35em;\">\n",
       "    fracaso renal\n",
       "    <span style=\"font-size: 0.8em; font-weight: bold; line-height: 1; border-radius: 0.35em; vertical-align: middle; margin-left: 0.5rem\">ENFERMEDAD</span>\n",
       "</mark>\n",
       " y a rebote de la \n",
       "<mark class=\"entity\" style=\"background: linear-gradient(90deg, #ffcc00, #ff66cc); padding: 0.45em 0.6em; margin: 0 0.25em; line-height: 1; border-radius: 0.35em;\">\n",
       "    hipercalcemia\n",
       "    <span style=\"font-size: 0.8em; font-weight: bold; line-height: 1; border-radius: 0.35em; vertical-align: middle; margin-left: 0.5rem\">ENFERMEDAD</span>\n",
       "</mark>\n",
       " (aumento de calcemia &gt; 2 mg/dl 24 horas post-hemodiálisis), requiere continuar con sesiones diarias.<br><br>Como parte del estudio etiológico, se descartan \n",
       "<mark class=\"entity\" style=\"background: linear-gradient(90deg, #ffcc00, #ff66cc); padding: 0.45em 0.6em; margin: 0 0.25em; line-height: 1; border-radius: 0.35em;\">\n",
       "    procesos mieloproliferativos\n",
       "    <span style=\"font-size: 0.8em; font-weight: bold; line-height: 1; border-radius: 0.35em; vertical-align: middle; margin-left: 0.5rem\">ENFERMEDAD</span>\n",
       "</mark>\n",
       " y otras \n",
       "<mark class=\"entity\" style=\"background: linear-gradient(90deg, #ffcc00, #ff66cc); padding: 0.45em 0.6em; margin: 0 0.25em; line-height: 1; border-radius: 0.35em;\">\n",
       "    neoplasias\n",
       "    <span style=\"font-size: 0.8em; font-weight: bold; line-height: 1; border-radius: 0.35em; vertical-align: middle; margin-left: 0.5rem\">ENFERMEDAD</span>\n",
       "</mark>\n",
       " (no componente monoclonal en proteinograma, proteinuria de Bence-Jones negativa), \n",
       "<mark class=\"entity\" style=\"background: linear-gradient(90deg, #ffcc00, #ff66cc); padding: 0.45em 0.6em; margin: 0 0.25em; line-height: 1; border-radius: 0.35em;\">\n",
       "    patología infecciosa\n",
       "    <span style=\"font-size: 0.8em; font-weight: bold; line-height: 1; border-radius: 0.35em; vertical-align: middle; margin-left: 0.5rem\">ENFERMEDAD</span>\n",
       "</mark>\n",
       " (serologías negativas) y \n",
       "<mark class=\"entity\" style=\"background: linear-gradient(90deg, #ffcc00, #ff66cc); padding: 0.45em 0.6em; margin: 0 0.25em; line-height: 1; border-radius: 0.35em;\">\n",
       "    enfermedades autoinmunes\n",
       "    <span style=\"font-size: 0.8em; font-weight: bold; line-height: 1; border-radius: 0.35em; vertical-align: middle; margin-left: 0.5rem\">ENFERMEDAD</span>\n",
       "</mark>\n",
       ". Ecografía urinaria con riñones de tamaño normal y adecuada diferenciación cortico-medular. La TAC toraco-abdominal informa de masa retroesofágica de 5,6 × 3,2 × 6,8 cm, sospechosa de \n",
       "<mark class=\"entity\" style=\"background: linear-gradient(90deg, #ffcc00, #ff66cc); padding: 0.45em 0.6em; margin: 0 0.25em; line-height: 1; border-radius: 0.35em;\">\n",
       "    tumor paratiroideo\n",
       "    <span style=\"font-size: 0.8em; font-weight: bold; line-height: 1; border-radius: 0.35em; vertical-align: middle; margin-left: 0.5rem\">ENFERMEDAD</span>\n",
       "</mark>\n",
       ", y la imagen se confirma mediante gammagrafía paratiroidea, además de nódulos hipodensos suprarrenales bilaterales: derecho 27 × 18 mm e izquierdo de 15 × 11 mm.<br>Con estos hallazgos se consulta con Endocrinología que descarta \n",
       "<mark class=\"entity\" style=\"background: linear-gradient(90deg, #ffcc00, #ff66cc); padding: 0.45em 0.6em; margin: 0 0.25em; line-height: 1; border-radius: 0.35em;\">\n",
       "    feocromocitoma\n",
       "    <span style=\"font-size: 0.8em; font-weight: bold; line-height: 1; border-radius: 0.35em; vertical-align: middle; margin-left: 0.5rem\">ENFERMEDAD</span>\n",
       "</mark>\n",
       " (catecolaminas y metanefrinas en orina negativas). En sesión conjunta con Cirugía General se decide manejo quirúrgico, resecando \n",
       "<mark class=\"entity\" style=\"background: linear-gradient(90deg, #ffcc00, #ff66cc); padding: 0.45em 0.6em; margin: 0 0.25em; line-height: 1; border-radius: 0.35em;\">\n",
       "    tumor paratiroideo\n",
       "    <span style=\"font-size: 0.8em; font-weight: bold; line-height: 1; border-radius: 0.35em; vertical-align: middle; margin-left: 0.5rem\">ENFERMEDAD</span>\n",
       "</mark>\n",
       " de 8 cm. La Anatomía Patológica informa de \n",
       "<mark class=\"entity\" style=\"background: linear-gradient(90deg, #ffcc00, #ff66cc); padding: 0.45em 0.6em; margin: 0 0.25em; line-height: 1; border-radius: 0.35em;\">\n",
       "    adenoma paratiroideo\n",
       "    <span style=\"font-size: 0.8em; font-weight: bold; line-height: 1; border-radius: 0.35em; vertical-align: middle; margin-left: 0.5rem\">ENFERMEDAD</span>\n",
       "</mark>\n",
       " sin invasión capsular o vascular.<br><br>En el post-operatorio inmediato se produce &quot;\n",
       "<mark class=\"entity\" style=\"background: linear-gradient(90deg, #ffcc00, #ff66cc); padding: 0.45em 0.6em; margin: 0 0.25em; line-height: 1; border-radius: 0.35em;\">\n",
       "    síndrome de hueso hambriento\n",
       "    <span style=\"font-size: 0.8em; font-weight: bold; line-height: 1; border-radius: 0.35em; vertical-align: middle; margin-left: 0.5rem\">ENFERMEDAD</span>\n",
       "</mark>\n",
       "&quot;, por lo que el paciente requiere suplemento endovenoso y oral de calcio por \n",
       "<mark class=\"entity\" style=\"background: linear-gradient(90deg, #ffcc00, #ff66cc); padding: 0.45em 0.6em; margin: 0 0.25em; line-height: 1; border-radius: 0.35em;\">\n",
       "    hipocalcemia severa\n",
       "    <span style=\"font-size: 0.8em; font-weight: bold; line-height: 1; border-radius: 0.35em; vertical-align: middle; margin-left: 0.5rem\">ENFERMEDAD</span>\n",
       "</mark>\n",
       ", y sesiones interdiarias de hemodiálisis hasta nueve días después de la cirugía.<br>Nueve meses después, el paciente está asintomático, con calcemia en rango sin necesidad de suplementos, y con recuperación parcial de la función renal (creatinina 2,7 mg/dl). Es de destacar que la función renal persiste alterada un año tras la cirugía, a pesar de la normalización de la calcemia.<br></div></span>"
      ],
      "text/plain": [
       "<IPython.core.display.HTML object>"
      ]
     },
     "metadata": {},
     "output_type": "display_data"
    }
   ],
   "source": [
    "displacy.render(doc, style='ent', jupyter=True, options=options)"
   ]
  }
 ],
 "metadata": {
  "kernelspec": {
   "display_name": ".env",
   "language": "python",
   "name": "python3"
  },
  "language_info": {
   "codemirror_mode": {
    "name": "ipython",
    "version": 3
   },
   "file_extension": ".py",
   "mimetype": "text/x-python",
   "name": "python",
   "nbconvert_exporter": "python",
   "pygments_lexer": "ipython3",
   "version": "3.10.12"
  }
 },
 "nbformat": 4,
 "nbformat_minor": 2
}
