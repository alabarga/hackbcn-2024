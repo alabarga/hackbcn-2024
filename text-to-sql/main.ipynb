{
 "cells": [
  {
   "cell_type": "code",
   "execution_count": 1,
   "metadata": {},
   "outputs": [],
   "source": [
    "\n",
    "import pandas as pd\n",
    "import numpy as np\n",
    "import os, sys, re\n",
    "\n",
    "# Obtén la ruta absoluta al directorio 'db'\n",
    "dir_path = os.path.realpath('db')\n",
    "# Agrega esta ruta a sys.path\n",
    "sys.path.insert(0, dir_path)\n",
    "\n",
    "# Ahora intenta importar DatabasePostgres\n",
    "from database_postgres import DatabasePostgres"
   ]
  },
  {
   "cell_type": "code",
   "execution_count": 95,
   "metadata": {},
   "outputs": [],
   "source": [
    "def get_file_ddl(file_path='omop-schema/ddl/0_omop_cdm_schema.sql'):\n",
    "    with open(file_path, 'r') as f:\n",
    "        ddl = f.read()\n",
    "    return ddl\n",
    "\n",
    "def get_files_by_table(table):\n",
    "    queries_path = f'omop-schema/queries/{table}'\n",
    "    queries_files = os.listdir(queries_path)\n",
    "    queries_file_pahts = [os.path.join(queries_path, file) for file in queries_files]\n",
    "    return queries_file_pahts\n",
    "\n",
    "def get_content_file(file_path):    \n",
    "    with open(file_path, 'r') as file:\n",
    "        content = file.read()\n",
    "    return content\n",
    "\n",
    "def get_query_code(content):\n",
    "    match = re.search('```sql(.*?)```', content, re.DOTALL)\n",
    "    if match:\n",
    "        sql_query = match.group(1).strip()\n",
    "        return sql_query\n",
    "    else:\n",
    "        return None\n",
    "    \n",
    "def get_queries_by_table(table):\n",
    "    queries_files = get_files_by_table(table)\n",
    "    queries = []\n",
    "    for file in queries_files:\n",
    "        content = get_content_file(file)\n",
    "        query = get_query_code(content)\n",
    "        if query:\n",
    "            queries.append(query)\n",
    "    return queries\n",
    "\n",
    "def get_queries_by_tables(tables= ['person','condition_occurence','drug_exposure','procedure','observation']):\n",
    "    queries = []\n",
    "    for table in tables:\n",
    "        queries.extend(get_queries_by_table(table))\n",
    "    return queries\n",
    "\n",
    "def get_content_by_table(table):\n",
    "    queries_files = get_files_by_table(table)\n",
    "    content_data = []\n",
    "    for file in queries_files:\n",
    "        content = get_content_file(file)\n",
    "        if content:\n",
    "            content_data.append(content)\n",
    "    return content\n",
    "\n",
    "def get_content_by_tables(tables= ['person','condition_occurence','drug_exposure','procedure','observation']):\n",
    "    content_data = []\n",
    "    for table in tables:\n",
    "        tmp  = get_content_by_table(table)\n",
    "        content_data.append(tmp)\n",
    "    content_data_str = ','.join(content_data) \n",
    "    return content_data_str"
   ]
  },
  {
   "cell_type": "code",
   "execution_count": 96,
   "metadata": {},
   "outputs": [],
   "source": [
    "ddl = get_file_ddl()\n",
    "content = get_content_by_tables()\n",
    "queries  = get_queries_by_tables()"
   ]
  },
  {
   "cell_type": "markdown",
   "metadata": {},
   "source": [
    "# Vanna Train"
   ]
  },
  {
   "cell_type": "markdown",
   "metadata": {},
   "source": [
    "### install library"
   ]
  },
  {
   "cell_type": "code",
   "execution_count": 59,
   "metadata": {},
   "outputs": [],
   "source": [
    "#!pip3.11 install vanna"
   ]
  },
  {
   "cell_type": "markdown",
   "metadata": {},
   "source": [
    "### set model"
   ]
  },
  {
   "cell_type": "code",
   "execution_count": 1,
   "metadata": {},
   "outputs": [],
   "source": [
    "import vanna as vn\n",
    "from vanna.remote import VannaDefault\n",
    "\n",
    "# STEP 01: This is a simple example of how to use the Vanna API\n",
    "api_key = 'xxxx'\n",
    "vanna_model_name = 'omop_hospital'# Your model name from https://vanna.ai/account/profile\n",
    "                    \n",
    "vn = VannaDefault(model=vanna_model_name, api_key=api_key)\n"
   ]
  },
  {
   "cell_type": "markdown",
   "metadata": {},
   "source": [
    "### Train model"
   ]
  },
  {
   "cell_type": "code",
   "execution_count": 106,
   "metadata": {},
   "outputs": [
    {
     "name": "stdout",
     "output_type": "stream",
     "text": [
      "Adding documentation....\n"
     ]
    },
    {
     "data": {
      "text/plain": [
       "'1192479-doc'"
      ]
     },
     "execution_count": 106,
     "metadata": {},
     "output_type": "execute_result"
    }
   ],
   "source": [
    "ddl = get_file_ddl()\n",
    "content = get_content_by_tables()\n",
    "queries  = get_queries_by_tables()\n",
    "\n",
    "# Train the model with the ddl\n",
    "vn.train\n",
    "\n",
    "vn.train(ddl=ddl, documentation=content, sql=queries)\n"
   ]
  },
  {
   "cell_type": "code",
   "execution_count": 112,
   "metadata": {},
   "outputs": [],
   "source": [
    "vn.connect_to_postgres('localhost','postgres','postgres','postgres',5432)\n",
    "\n",
    "# The information schema query may need some tweaking depending on your database. This is a good starting point.\n",
    "df_information_schema = vn.run_sql(\"SELECT * FROM INFORMATION_SCHEMA.COLUMNS where table_schema = 'cdm'\")\n",
    "\n",
    "# This will break up the information schema into bite-sized chunks that can be referenced by the LLM\n",
    "plan = vn.get_training_plan_generic(df_information_schema)\n",
    "vn.train(plan=plan)"
   ]
  },
  {
   "cell_type": "code",
   "execution_count": 119,
   "metadata": {},
   "outputs": [],
   "source": [
    "vn.connect_to_postgres('localhost','postgres','postgres','postgres',5432)\n",
    "\n",
    "# The information schema query may need some tweaking depending on your database. This is a good starting point.\n",
    "df_information_schema = vn.run_sql(\"SELECT * FROM INFORMATION_SCHEMA.COLUMNS where table_schema = 'vocabularies'\")\n",
    "\n",
    "# This will break up the information schema into bite-sized chunks that can be referenced by the LLM\n",
    "plan = vn.get_training_plan_generic(df_information_schema)\n",
    "vn.train(plan=plan)"
   ]
  },
  {
   "cell_type": "code",
   "execution_count": null,
   "metadata": {},
   "outputs": [],
   "source": [
    "# Train with ddls \n",
    "\n",
    "#ddl=\"\"\"create...\"\"\"\n",
    "#vn.add_ddl(ddl=ddl)"
   ]
  },
  {
   "cell_type": "code",
   "execution_count": 171,
   "metadata": {},
   "outputs": [],
   "source": [
    "# Train with queries\n",
    "\n",
    "def get_queries(path='omop-schema/queries/condition/C04.md'):\n",
    "    import re\n",
    "\n",
    "    with open(path, 'r') as file:\n",
    "        content = file.read()\n",
    "\n",
    "    description_match = re.search(r'## Description\\n(.+?)\\n##', content, re.DOTALL)\n",
    "    if description_match:\n",
    "        description = description_match.group(1).strip()\n",
    "\n",
    "    query_match = re.search(r'```sql\\n(.+?)\\n```', content, re.DOTALL)\n",
    "    if query_match:\n",
    "        query = query_match.group(1).strip()\n",
    "    return {'description': description, 'query': query.replace('\\n', ' ')}\n",
    "\n"
   ]
  },
  {
   "cell_type": "code",
   "execution_count": 176,
   "metadata": {},
   "outputs": [
    {
     "name": "stdout",
     "output_type": "stream",
     "text": [
      "9eefabc5bbe0f68d2e592dd266acb67a-sql\n",
      "1961c1562866c9ccbb1e57ac246cbc92-sql\n",
      "73b48891b582d353995521d43b7402ea-sql\n",
      "0725fd9974603e3629f43de4f09d44d8-sql\n",
      "a3e3475e11340bf7f129a018b99ca756-sql\n",
      "aec9f48e8ce4857aed24f11b5dea030e-sql\n",
      "f81bcbe6a39dbdec95a0225fc8ff400c-sql\n",
      "996573f11aabf20d54014e7007951859-sql\n",
      "812e1890341032011da52d4a3b1c03be-sql\n",
      "52f22020081819c1a65a0e2f1b9e8a93-sql\n",
      "aec9f48e8ce4857aed24f11b5dea030e-sql\n",
      "032715ba852e88b89ea6291c8d0b460e-sql\n"
     ]
    }
   ],
   "source": [
    "#tables = ['condition','drug','drug_exposure','general','observation','person','procedure']\n",
    "tables = ['observation','person','procedure']\n",
    "\n",
    "for table in tables :\n",
    "    try:\n",
    "        path=f'omop-schema/queries/{table}'\n",
    "        files = [path+'/'+item for item in os.listdir(path)]\n",
    "        for file in files:\n",
    "            response = vn.add_question_sql(\n",
    "                question=get_queries(file)['description'],\n",
    "                sql=get_queries(file)['query']\n",
    "            )\n",
    "            print(response)\n",
    "    except:\n",
    "        pass"
   ]
  },
  {
   "cell_type": "code",
   "execution_count": 105,
   "metadata": {},
   "outputs": [],
   "source": [
    "# remove train data\n",
    "#for id in vn.get_training_data()['id']:\n",
    "#    vn.remove_training_data(id)"
   ]
  },
  {
   "cell_type": "code",
   "execution_count": 177,
   "metadata": {},
   "outputs": [
    {
     "data": {
      "text/html": [
       "<div>\n",
       "<style scoped>\n",
       "    .dataframe tbody tr th:only-of-type {\n",
       "        vertical-align: middle;\n",
       "    }\n",
       "\n",
       "    .dataframe tbody tr th {\n",
       "        vertical-align: top;\n",
       "    }\n",
       "\n",
       "    .dataframe thead th {\n",
       "        text-align: right;\n",
       "    }\n",
       "</style>\n",
       "<table border=\"1\" class=\"dataframe\">\n",
       "  <thead>\n",
       "    <tr style=\"text-align: right;\">\n",
       "      <th></th>\n",
       "      <th>id</th>\n",
       "      <th>training_data_type</th>\n",
       "      <th>question</th>\n",
       "      <th>content</th>\n",
       "    </tr>\n",
       "  </thead>\n",
       "  <tbody>\n",
       "    <tr>\n",
       "      <th>0</th>\n",
       "      <td>349446-sql</td>\n",
       "      <td>sql</td>\n",
       "      <td>Count the genders (gender_concept_id) across a...</td>\n",
       "      <td>SELECT   gender_concept_id,   concept_name    ...</td>\n",
       "    </tr>\n",
       "    <tr>\n",
       "      <th>1</th>\n",
       "      <td>349452-sql</td>\n",
       "      <td>sql</td>\n",
       "      <td>This query is used to count the day of birth a...</td>\n",
       "      <td>SELECT   month_of_birth,   day_of_birth,   cou...</td>\n",
       "    </tr>\n",
       "    <tr>\n",
       "      <th>2</th>\n",
       "      <td>349374-sql</td>\n",
       "      <td>sql</td>\n",
       "      <td>This query enables a search of all anatomical ...</td>\n",
       "      <td>SELECT   c.concept_id       AS anatomical_site...</td>\n",
       "    </tr>\n",
       "    <tr>\n",
       "      <th>3</th>\n",
       "      <td>349450-sql</td>\n",
       "      <td>sql</td>\n",
       "      <td>This query is similar to PE02, but it lists al...</td>\n",
       "      <td>SELECT   person.gender_concept_id,   concept.c...</td>\n",
       "    </tr>\n",
       "    <tr>\n",
       "      <th>4</th>\n",
       "      <td>1192894-doc</td>\n",
       "      <td>documentation</td>\n",
       "      <td>None</td>\n",
       "      <td>The following columns are in the concept_relat...</td>\n",
       "    </tr>\n",
       "    <tr>\n",
       "      <th>...</th>\n",
       "      <td>...</td>\n",
       "      <td>...</td>\n",
       "      <td>...</td>\n",
       "      <td>...</td>\n",
       "    </tr>\n",
       "    <tr>\n",
       "      <th>139</th>\n",
       "      <td>349434-sql</td>\n",
       "      <td>sql</td>\n",
       "      <td>This query is used to count all drugs (drug_co...</td>\n",
       "      <td>SELECT   drug_concept_id,   condition_concept_...</td>\n",
       "    </tr>\n",
       "    <tr>\n",
       "      <th>140</th>\n",
       "      <td>349417-sql</td>\n",
       "      <td>sql</td>\n",
       "      <td>## Query\\nThe following is a sample run of the...</td>\n",
       "      <td>SELECT c.concept_name AS drug_type, COUNT(*) A...</td>\n",
       "    </tr>\n",
       "    <tr>\n",
       "      <th>141</th>\n",
       "      <td>349424-sql</td>\n",
       "      <td>sql</td>\n",
       "      <td>| This query is used to obtain the gender dist...</td>\n",
       "      <td>SELECT drug.concept_name AS drug_name, \\tdrug_...</td>\n",
       "    </tr>\n",
       "    <tr>\n",
       "      <th>142</th>\n",
       "      <td>1192897-doc</td>\n",
       "      <td>documentation</td>\n",
       "      <td>None</td>\n",
       "      <td>The following columns are in the drug_strength...</td>\n",
       "    </tr>\n",
       "    <tr>\n",
       "      <th>143</th>\n",
       "      <td>349366-sql</td>\n",
       "      <td>sql</td>\n",
       "      <td>This query enables a search of various agents ...</td>\n",
       "      <td>SELECT   c.concept_id       AS agent_concept_i...</td>\n",
       "    </tr>\n",
       "  </tbody>\n",
       "</table>\n",
       "<p>144 rows × 4 columns</p>\n",
       "</div>"
      ],
      "text/plain": [
       "              id training_data_type  \\\n",
       "0     349446-sql                sql   \n",
       "1     349452-sql                sql   \n",
       "2     349374-sql                sql   \n",
       "3     349450-sql                sql   \n",
       "4    1192894-doc      documentation   \n",
       "..           ...                ...   \n",
       "139   349434-sql                sql   \n",
       "140   349417-sql                sql   \n",
       "141   349424-sql                sql   \n",
       "142  1192897-doc      documentation   \n",
       "143   349366-sql                sql   \n",
       "\n",
       "                                              question  \\\n",
       "0    Count the genders (gender_concept_id) across a...   \n",
       "1    This query is used to count the day of birth a...   \n",
       "2    This query enables a search of all anatomical ...   \n",
       "3    This query is similar to PE02, but it lists al...   \n",
       "4                                                 None   \n",
       "..                                                 ...   \n",
       "139  This query is used to count all drugs (drug_co...   \n",
       "140  ## Query\\nThe following is a sample run of the...   \n",
       "141  | This query is used to obtain the gender dist...   \n",
       "142                                               None   \n",
       "143  This query enables a search of various agents ...   \n",
       "\n",
       "                                               content  \n",
       "0    SELECT   gender_concept_id,   concept_name    ...  \n",
       "1    SELECT   month_of_birth,   day_of_birth,   cou...  \n",
       "2    SELECT   c.concept_id       AS anatomical_site...  \n",
       "3    SELECT   person.gender_concept_id,   concept.c...  \n",
       "4    The following columns are in the concept_relat...  \n",
       "..                                                 ...  \n",
       "139  SELECT   drug_concept_id,   condition_concept_...  \n",
       "140  SELECT c.concept_name AS drug_type, COUNT(*) A...  \n",
       "141  SELECT drug.concept_name AS drug_name, \\tdrug_...  \n",
       "142  The following columns are in the drug_strength...  \n",
       "143  SELECT   c.concept_id       AS agent_concept_i...  \n",
       "\n",
       "[144 rows x 4 columns]"
      ]
     },
     "execution_count": 177,
     "metadata": {},
     "output_type": "execute_result"
    }
   ],
   "source": [
    "# Training Model with ddl, data and documentation\n",
    "vn.get_training_data()"
   ]
  },
  {
   "cell_type": "code",
   "execution_count": 2,
   "metadata": {},
   "outputs": [
    {
     "name": "stdout",
     "output_type": "stream",
     "text": [
      "SQL Prompt: [{'role': 'system', 'content': 'You are a SQL expert. Please help to generate a SQL query to answer the question. Your response should ONLY be based on the given context and follow the response guidelines and format instructions. \\n===Tables \\nCREATE TABLE cdm.note (\\n    note_id bigint NOT NULL,\\n    person_id bigint NOT NULL,\\n    note_event_id bigint,\\n    provider_id bigint,\\n    visit_occurrence_id bigint,\\n    visit_detail_id bigint,\\n    note_datetime timestamp without time zone NOT NULL,\\n    note_event_field_concept_id integer NOT NULL,\\n    note_type_concept_id integer NOT NULL,\\n    note_class_concept_id integer NOT NULL,\\n    encoding_concept_id integer NOT NULL,\\n    language_concept_id integer NOT NULL,\\n    note_date date,\\n    note_title text,\\n    note_text text,\\n    note_source_value text,\\n    CONSTRAINT chk_note_note_title CHECK ((COALESCE(length(note_title), 0) <= 250))\\n);\\nCOMMENT ON TABLE cdm.note IS \\'The NOTE table captures unstructured information that was recorded by a provider about a patient in free text notes on a given date.\\';\\nCOMMENT ON COLUMN cdm.note.note_id IS \\'A unique identifier for each note.\\';\\nCOMMENT ON COLUMN cdm.note.person_id IS \\'A foreign key identifier to the Person about whom the Note was recorded. The demographic details of that Person are stored in the PERSON table.\\';\\nCOMMENT ON COLUMN cdm.note.note_event_id IS \\'A foreign key identifier to the event (e.g. Measurement, Procedure, Visit, Drug Exposure, etc) record during which the note was recorded.\\';\\nCOMMENT ON COLUMN cdm.note.provider_id IS \\'A foreign key to the Provider in the PROVIDER table who took the Note.\\';\\nCOMMENT ON COLUMN cdm.note.visit_occurrence_id IS \\'A foreign key to the Visit in the VISIT_OCCURRENCE table when the Note was taken.\\';\\nCOMMENT ON COLUMN cdm.note.visit_detail_id IS \\'A foreign key to the Visit in the VISIT_DETAIL table when the Note was taken.\\';\\nCOMMENT ON COLUMN cdm.note.note_datetime IS \\'The date and time the note was recorded.\\';\\nCOMMENT ON COLUMN cdm.note.note_event_field_concept_id IS \\'A foreign key to the predefined Concept in the Standardized Vocabularies reflecting the field to which the note_event_id is referring.\\';\\nCOMMENT ON COLUMN cdm.note.note_type_concept_id IS \\'A foreign key to the predefined Concept in the Standardized Vocabularies reflecting the type, origin or provenance of the Note. These belong to the \\'\\'Note Type\\'\\' vocabulary\\';\\nCOMMENT ON COLUMN cdm.note.note_class_concept_id IS \\'A foreign key to the predefined Concept in the Standardized Vocabularies reflecting the HL7 LOINC Document Type Vocabulary classification of the note.\\';\\nCOMMENT ON COLUMN cdm.note.encoding_concept_id IS \\'A foreign key to the predefined Concept in the Standardized Vocabularies reflecting the note character encoding type\\';\\nCOMMENT ON COLUMN cdm.note.language_concept_id IS \\'A foreign key to the predefined Concept in the Standardized Vocabularies reflecting the language of the note\\';\\nCOMMENT ON COLUMN cdm.note.note_date IS \\'The date the note was recorded.\\';\\nCOMMENT ON COLUMN cdm.note.note_title IS \\'The title of the Note as it appears in the source.\\';\\nCOMMENT ON COLUMN cdm.note.note_text IS \\'The content of the Note.\\';\\nCOMMENT ON COLUMN cdm.note.note_source_value IS \\'The source value associated with the origin of the Note\\';\\nCREATE TABLE cdm.note_nlp (\\n    note_nlp_id bigint NOT NULL,\\n    note_id bigint NOT NULL,\\n    section_concept_id integer NOT NULL,\\n    snippet text,\\n    \"offset\" text,\\n    lexical_variant text NOT NULL,\\n    note_nlp_concept_id integer NOT NULL,\\n    nlp_system text,\\n    nlp_date date NOT NULL,\\n    nlp_datetime timestamp without time zone,\\n    term_exists text,\\n    term_temporal text,\\n    term_modifiers text,\\n    note_nlp_source_concept_id integer NOT NULL\\n);\\nCOMMENT ON TABLE cdm.note_nlp IS \\'The NOTE_NLP table will encode all output of NLP on clinical notes. Each row represents a single extracted term from a note.\\';\\nCOMMENT ON COLUMN cdm.note_nlp.note_nlp_id IS \\'A unique identifier for each term extracted from a note.\\';\\nCOMMENT ON COLUMN cdm.note_nlp.note_id IS \\'A foreign key to the Note table note the term was\\';\\nCOMMENT ON COLUMN cdm.note_nlp.section_concept_id IS \\'A foreign key to the predefined Concept in the Standardized Vocabularies representing the section of the extracted term.\\';\\nCOMMENT ON COLUMN cdm.note_nlp.snippet IS \\'A small window of text surrounding the term.\\';\\nCOMMENT ON COLUMN cdm.note_nlp.\"offset\" IS \\'Character offset of the extracted term in the input note.\\';\\nCOMMENT ON COLUMN cdm.note_nlp.lexical_variant IS \\'Raw text extracted from the NLP tool.\\';\\nCOMMENT ON COLUMN cdm.note_nlp.note_nlp_concept_id IS \\'A foreign key to the predefined Concept in the Standardized Vocabularies reflecting the normalized concept for the extracted term. Domain of the term is represented as part of the Concept table.\\';\\nCOMMENT ON COLUMN cdm.note_nlp.nlp_system IS \\'Name and version of the NLP system that extracted the term.Useful for data provenance.\\';\\nCOMMENT ON COLUMN cdm.note_nlp.nlp_date IS \\'The date of the note processing.Useful for data provenance.\\';\\nCOMMENT ON COLUMN cdm.note_nlp.nlp_datetime IS \\'The date and time of the note processing. Useful for data provenance.\\';\\nCOMMENT ON COLUMN cdm.note_nlp.term_exists IS \\'A summary modifier that signifies presence or absence of the term for a given patient. Useful for quick querying.\\';\\nCOMMENT ON COLUMN cdm.note_nlp.term_temporal IS \\'An optional time modifier associated with the extracted term. (for now “past” or “present” only). Standardize it later.\\';\\nCOMMENT ON COLUMN cdm.note_nlp.term_modifiers IS \\'A compact description of all the modifiers of the specific term extracted by the NLP system. (e.g. “son has rash” ? “negated=no,subject=family, certainty=undef,conditional=false,general=false”).\\';\\nCOMMENT ON COLUMN cdm.note_nlp.note_nlp_source_concept_id IS \\'A foreign key to a Concept that refers to the code in the source vocabulary used by the NLP system\\';\\nCREATE TABLE cdm.observation (\\n    observation_id bigint NOT NULL,\\n    person_id bigint NOT NULL,\\n    observation_datetime timestamp without time zone NOT NULL,\\n    provider_id bigint,\\n    visit_occurrence_id bigint,\\n    visit_detail_id bigint,\\n    observation_event_id bigint,\\n    observation_date date,\\n    observation_concept_id integer NOT NULL,\\n    observation_type_concept_id integer NOT NULL,\\n    qualifier_concept_id integer NOT NULL,\\n    observation_source_concept_id varchar(100) NOT NULL,\\n    obs_event_field_concept_id integer,\\n    value_as_concept_id integer,\\n    unit_concept_id integer,\\n    value_as_number numeric,\\n    value_as_string text,\\n    observation_source_value text,\\n    unit_source_value text,\\n    qualifier_source_value text,\\n    value_source_value text\\n);\\nCOMMENT ON TABLE cdm.observation IS \\'The OBSERVATION table captures clinical facts about a Person obtained in the context of examination, questioning or a procedure. Any data that cannot be represented by any other domains, such as social and lifestyle facts, medical history, family history, etc. are recorded here.\\';\\nCOMMENT ON COLUMN cdm.observation.observation_id IS \\'A unique identifier for each observation.\\';\\nCOMMENT ON COLUMN cdm.observation.person_id IS \\'A foreign key identifier to the Person about whom the observation was recorded. The demographic details of that Person are stored in the PERSON table.\\';\\nCOMMENT ON COLUMN cdm.observation.observation_datetime IS \\'The date and time of the observation.\\';\\nCOMMENT ON COLUMN cdm.observation.provider_id IS \\'A foreign key to the provider in the PROVIDER table who was responsible for making the observation.\\';\\nCOMMENT ON COLUMN cdm.observation.visit_occurrence_id IS \\'A foreign key to the visit in the VISIT_OCCURRENCE table during which the observation was recorded.\\';\\nCOMMENT ON COLUMN cdm.observation.visit_detail_id IS \\'A foreign key to the visit in the VISIT_DETAIL table during which the observation was recorded.\\';\\nCOMMENT ON COLUMN cdm.observation.observation_event_id IS \\'A foreign key to an event table (e.g., PROCEDURE_OCCURRENCE_ID).\\';\\nCOMMENT ON COLUMN cdm.observation.observation_date IS \\'The date of the observation.\\';\\nCOMMENT ON COLUMN cdm.observation.observation_concept_id IS \\'A foreign key to the standard observation concept identifier in the Standardized Vocabularies.\\';\\nCOMMENT ON COLUMN cdm.observation.observation_type_concept_id IS \\'A foreign key to the predefined concept identifier in the Standardized Vocabularies reflecting the type of the observation.\\';\\nCOMMENT ON COLUMN cdm.observation.qualifier_concept_id IS \\'A foreign key to a Standard Concept ID for a qualifier (e.g., severity of drug-drug interaction alert)\\';\\nCOMMENT ON COLUMN cdm.observation.observation_source_concept_id IS \\'A foreign key to a Concept that refers to the code used in the source.\\';\\nCOMMENT ON COLUMN cdm.observation.obs_event_field_concept_id IS \\'A foreign key that refers to a Standard Concept identifier in the Standardized Vocabularies referring to the field represented in the OBSERVATION_EVENT_ID.\\';\\nCOMMENT ON COLUMN cdm.observation.value_as_concept_id IS \\'A foreign key to an observation result stored as a Concept ID. This is applicable to observations where the result can be expressed as a Standard Concept from the Standardized Vocabularies (e.g., positive/negative, present/absent, low/high, etc.).\\';\\nCOMMENT ON COLUMN cdm.observation.unit_concept_id IS \\'A foreign key to a Standard Concept ID of measurement units in the Standardized Vocabularies.\\';\\nCOMMENT ON COLUMN cdm.observation.value_as_number IS \\'The observation result stored as a number. This is applicable to observations where the result is expressed as a numeric value.\\';\\nCOMMENT ON COLUMN cdm.observation.value_as_string IS \\'The observation result stored as a string. This is applicable to observations where the result is expressed as verbatim text.\\';\\nCOMMENT ON COLUMN cdm.observation.observation_source_value IS \\'The observation code as it appears in the source data. This code is mapped to a Standard Concept in the Standardized Vocabularies and the original code is, stored here for reference.\\';\\nCOMMENT ON COLUMN cdm.observation.unit_source_value IS \\'The source code for the unit as it appears in the source data. This code is mapped to a standard unit concept in the Standardized Vocabularies and the original code is, stored here for reference.\\';\\nCOMMENT ON COLUMN cdm.observation.qualifier_source_value IS \\'The source value associated with a qualifier to characterize the observation\\';\\nCREATE TABLE cdm.observation_period (\\n    observation_period_id bigint NOT NULL,\\n    person_id bigint NOT NULL,\\n    observation_period_start_date date NOT NULL,\\n    observation_period_end_date date NOT NULL,\\n    period_type_concept_id integer NOT NULL\\n);\\n\\nCOMMENT ON TABLE cdm.observation_period IS \\'The OBSERVATION_PERIOD table contains records which uniquely define the spans of time for which a Person is at-risk to have clinical events recorded within the source systems, even if no events in fact are recorded (healthy patient with no healthcare interactions).\\';\\nCOMMENT ON COLUMN cdm.observation_period.observation_period_id IS \\'A unique identifier for each observation period.\\';\\nCOMMENT ON COLUMN cdm.observation_period.person_id IS \\'A foreign key identifier to the person for whom the observation period is defined. The demographic details of that person are stored in the person table.\\';\\nCOMMENT ON COLUMN cdm.observation_period.observation_period_start_date IS \\'The start date of the observation period for which data are available from the data source.\\';\\nCOMMENT ON COLUMN cdm.observation_period.observation_period_end_date IS \\'The end date of the observation period for which data are available from the data source.\\';\\nCOMMENT ON COLUMN cdm.observation_period.period_type_concept_id IS \\'A foreign key identifier to the predefined concept in the Standardized Vocabularies reflecting the source of the observation period information, belonging to the \\'\\'Obs Period Type\\'\\' vocabulary\\';\\nCREATE TABLE cdm.payer_plan_period (\\n    payer_plan_period_id bigint NOT NULL,\\n    person_id bigint NOT NULL,\\n    contract_person_id bigint,\\n    payer_plan_period_start_date date NOT NULL,\\n    payer_plan_period_end_date date NOT NULL,\\n    payer_concept_id integer NOT NULL,\\n    plan_concept_id integer NOT NULL,\\n    contract_concept_id integer,\\n    sponsor_concept_id integer,\\n    stop_reason_concept_id integer NOT NULL,\\n    payer_source_concept_id integer NOT NULL,\\n    plan_source_concept_id integer NOT NULL,\\n    contract_source_concept_id integer,\\n    sponsor_source_concept_id integer NOT NULL,\\n    stop_reason_source_concept_id integer NOT NULL,\\n    payer_source_value text,\\n    plan_source_value text,\\n    contract_source_value text,\\n    sponsor_source_value text,\\n    family_source_value text,\\n    stop_reason_source_value text\\n);\\nCOMMENT ON TABLE cdm.payer_plan_period IS \\'The PAYER_PLAN_PERIOD table captures details of the period of time that a Person is continuously enrolled under a specific health Plan benefit structure from a given Payer. Each Person receiving healthcare is typically covered by a health benefit plan, which pays for (fully or partially), or directly provides, the care. These benefit plans are provided by payers, such as health insurances or state or government agencies. In each plan the details of the health benefits are defined for the Person or her family, and the health benefit Plan might change over time typically with increasing utilization (reaching certain cost thresholds such as deductibles), plan availability and purchasing choices of the Person. The unique combinations of Payer organizations, health benefit Plans and time periods in which they are valid for a Person are recorded in this table.\\';\\nCOMMENT ON COLUMN cdm.payer_plan_period.payer_plan_period_id IS \\'A identifier for each unique combination of payer, plan, family code and time span.\\';\\nCOMMENT ON COLUMN cdm.payer_plan_period.person_id IS \\'A foreign key identifier to the Person covered by the payer. The demographic details of that Person are stored in the PERSON table.\\';\\nCOMMENT ON COLUMN cdm.payer_plan_period.contract_person_id IS \\'A foreign key identifier to the person_id in person table, for the person who is the primary subscriber/contract owner for the record in the payer_plan_period table. Maybe the same person or different person, depending on who is the primary subscriber/contract owner.\\';\\nCOMMENT ON COLUMN cdm.payer_plan_period.payer_plan_period_start_date IS \\'The start date of the payer plan period.\\';\\nCOMMENT ON COLUMN cdm.payer_plan_period.payer_plan_period_end_date IS \\'The end date of the payer plan period.\\';\\nCOMMENT ON COLUMN cdm.payer_plan_period.payer_concept_id IS \\'A foreign key that refers to a standard Payer concept identifier in the Standarized Vocabularies\\';\\nCOMMENT ON COLUMN cdm.payer_plan_period.plan_concept_id IS \\'A foreign key that refers to a standard plan concept identifier that represents the health benefit plan in the Standardized Vocabularies.\\';\\nCOMMENT ON COLUMN cdm.payer_plan_period.contract_concept_id IS \\'A foreign key to a standard concept representing the reason justifying the contract between person_id and contract_person_id.\\';\\nCOMMENT ON COLUMN cdm.payer_plan_period.sponsor_concept_id IS \\'A foreign key that refers to a concept identifier that represents the sponsor in the Standardized Vocabularies.\\';\\nCOMMENT ON COLUMN cdm.payer_plan_period.stop_reason_concept_id IS \\'A foreign key that refers to a standard termination reason that represents the reason for the termination in the Standardized Vocabularies.\\';\\nCOMMENT ON COLUMN cdm.payer_plan_period.payer_source_concept_id IS \\'A foreign key to a payer concept that refers to the code used in the source.\\';\\nCOMMENT ON COLUMN cdm.payer_plan_period.plan_source_concept_id IS \\'A foreign key to a plan concept that refers to the plan code used in the source data.\\';\\nCOMMENT ON COLUMN cdm.payer_plan_period.contract_source_concept_id IS \\'A foreign key to a concept that refers to the code used in the source as the reason justifying the contract.\\';\\nCOMMENT ON COLUMN cdm.payer_plan_period.sponsor_source_concept_id IS \\'A foreign key to a sponsor concept that refers to the sponsor code used in the source data.\\';\\nCOMMENT ON COLUMN cdm.payer_plan_period.stop_reason_source_concept_id IS \\'A foreign key to a stop-coverage concept that refers to the code used in the source.\\';\\nCOMMENT ON COLUMN cdm.payer_plan_period.payer_source_value IS \\'The source code for the payer as it appears in the source data.\\';\\nCOMMENT ON COLUMN cdm.payer_plan_period.plan_source_value IS \\'The source code for the Person\\'\\'s health benefit plan as it appears in the source data.\\';\\nCOMMENT ON COLUMN cdm.payer_plan_period.contract_source_value IS \\'The source code representing the reason justifying the contract. Usually it is family relationship like a spouse, domestic partner, child etc.\\';\\nCOMMENT ON COLUMN cdm.payer_plan_period.sponsor_source_value IS \\'The source code for the Person\\'\\'s sponsor of the health plan as it appears in the source data.\\';\\nCOMMENT ON COLUMN cdm.payer_plan_period.family_source_value IS \\'The source code for the Person\\'\\'s family as it appears in the source data.\\';\\nCOMMENT ON COLUMN cdm.payer_plan_period.stop_reason_source_value IS \\'The reason for stop-coverage as it appears in the source data.\\';\\nCREATE TABLE cdm.person (\\n    person_id bigint NOT NULL,\\n    location_id bigint,\\n    provider_id bigint,\\n    care_site_id bigint,\\n    birth_datetime timestamp without time zone,\\n    year_of_birth integer NOT NULL,\\n    gender_source_concept_id integer NOT NULL,\\n    gender_concept_id integer NOT NULL,\\n    ethnicity_concept_id integer NOT NULL,\\n    ethnicity_source_concept_id integer NOT NULL,\\n    race_concept_id integer NOT NULL,\\n    race_source_concept_id integer NOT NULL,\\n    month_of_birth integer,\\n    day_of_birth integer,\\n    person_source_value text,\\n    gender_source_value text,\\n    race_source_value text,\\n    ethnicity_source_value text\\n);\\nCOMMENT ON TABLE cdm.person IS \\'The Person Domain contains records that uniquely identify each patient in the source data who is time at-risk to have clinical observations recorded within the source systems.\\';\\nCOMMENT ON COLUMN cdm.person.person_id IS \\'A unique identifier for each person.\\';\\nCOMMENT ON COLUMN cdm.person.location_id IS \\'A foreign key to the place of residency for the person in the location table, where the detailed address information is stored.\\';\\nCOMMENT ON COLUMN cdm.person.provider_id IS \\'A foreign key to the primary care provider the person is seeing in the provider table.\\';\\nCOMMENT ON COLUMN cdm.person.care_site_id IS \\'A foreign key to the site of primary care in the care_site table, where the details of the care site are stored.\\';\\nCOMMENT ON COLUMN cdm.person.birth_datetime IS \\'The date and time of birth of the person.\\';\\nCOMMENT ON COLUMN cdm.person.year_of_birth IS \\'The year of birth of the person. For data sources with date of birth, the year is extracted. For data sources where the year of birth is not available, the approximate year of birth is derived based on any age group categorization available.\\';\\nCOMMENT ON COLUMN cdm.person.gender_source_concept_id IS \\'A foreign key to the gender concept that refers to the code used in the source.\\';\\nCOMMENT ON COLUMN cdm.person.gender_concept_id IS \\'A foreign key that refers to an identifier in the CONCEPT table for the unique gender of the person.\\';\\nCOMMENT ON COLUMN cdm.person.ethnicity_concept_id IS \\'A foreign key that refers to the standard concept identifier in the Standardized Vocabularies for the ethnicity of the person, belonging to the \\'\\'Ethnicity\\'\\' vocabulary.\\';\\nCOMMENT ON COLUMN cdm.person.ethnicity_source_concept_id IS \\'A foreign key to the ethnicity concept that refers to the code used in the source.\\';\\nCOMMENT ON COLUMN cdm.person.race_concept_id IS \\'A foreign key that refers to an identifier in the CONCEPT table for the unique race of the person, belonging to the \\'\\'Race\\'\\' vocabulary.\\';\\nCOMMENT ON COLUMN cdm.person.race_source_concept_id IS \\'A foreign key to the race concept that refers to the code used in the source.\\';\\nCOMMENT ON COLUMN cdm.person.month_of_birth IS \\'The month of birth of the person. For data sources that provide the precise date of birth, the month is extracted and stored in this field.\\';\\nCOMMENT ON COLUMN cdm.person.day_of_birth IS \\'The day of the month of birth of the person. For data sources that provide the precise date of birth, the day is extracted and stored in this field.\\';\\nCOMMENT ON COLUMN cdm.person.person_source_value IS \\'An (encrypted) key derived from the person identifier in the source data. This is necessary when a use case requires a link back to the person data at the source dataset.\\';\\nCOMMENT ON COLUMN cdm.person.gender_source_value IS \\'The source code for the gender of the person as it appears in the source data. The person’s gender is mapped to a standard gender concept in the Standardized Vocabularies; the original value is stored here for reference.\\';\\nCOMMENT ON COLUMN cdm.person.race_source_value IS \\'The source code for the race of the person as it appears in the source data. The person race is mapped to a standard race concept in the Standardized Vocabularies and the original value is stored here for reference.\\';\\nCOMMENT ON COLUMN cdm.person.ethnicity_source_value IS \\'The source code for the ethnicity of the person as it appears in the source data. The person ethnicity is mapped to a standard ethnicity concept in the Standardized Vocabularies and the original code is, stored here for reference.\\';\\nCREATE TABLE cdm.procedure_occurrence (\\n    procedure_occurrence_id bigint NOT NULL,\\n    person_id bigint NOT NULL,\\n    procedure_datetime timestamp without time zone NOT NULL,\\n    provider_id bigint,\\n    visit_occurrence_id bigint,\\n    visit_detail_id bigint,\\n    procedure_end_datetime timestamp without time zone,\\n    procedure_concept_id bigint NOT NULL,\\n    procedure_source_concept_id bigint NOT NULL,\\n    procedure_type_concept_id bigint NOT NULL,\\n    modifier_concept_id integer NOT NULL,\\n    quantity integer,\\n    procedure_date date,\\n    procedure_end_date date,\\n    procedure_source_value text,\\n    modifier_source_value text\\n);\\nCOMMENT ON TABLE cdm.procedure_occurrence IS \\'The PROCEDURE_OCCURRENCE table contains records of activities or processes ordered by, or carried out by, a healthcare provider on the patient to have a diagnostic or therapeutic purpose. Procedures are present in various data sources in different forms with varying levels of standardization. For example:  * Medical Claims include procedure codes that are submitted as part of a claim for health services rendered, including procedures performed. * Electronic Health Records that capture procedures as orders.\\';\\nCOMMENT ON COLUMN cdm.procedure_occurrence.procedure_occurrence_id IS \\'A system-generated unique identifier for each Procedure Occurrence.\\';\\nCOMMENT ON COLUMN cdm.procedure_occurrence.person_id IS \\'A foreign key identifier to the Person who is subjected to the Procedure. The demographic details of that Person are stored in the PERSON table.\\';\\nCOMMENT ON COLUMN cdm.procedure_occurrence.procedure_datetime IS \\'The date and time on which the Procedure was performed.\\';\\nCOMMENT ON COLUMN cdm.procedure_occurrence.provider_id IS \\'A foreign key to the provider in the PROVIDER table who was responsible for carrying out the procedure.\\';\\nCOMMENT ON COLUMN cdm.procedure_occurrence.visit_occurrence_id IS \\'A foreign key to the Visit in the VISIT_OCCURRENCE table during which the Procedure was carried out.\\';\\nCOMMENT ON COLUMN cdm.procedure_occurrence.visit_detail_id IS \\'A foreign key to the Visit Detail in the VISIT_DETAIL table during which the Procedure was carried out.\\';\\nCOMMENT ON COLUMN cdm.procedure_occurrence.procedure_concept_id IS \\'A foreign key that refers to a standard procedure Concept identifier in the Standardized Vocabularies.\\';\\nCOMMENT ON COLUMN cdm.procedure_occurrence.procedure_source_concept_id IS \\'A foreign key to a Procedure Concept that refers to the code used in the source.\\';\\nCOMMENT ON COLUMN cdm.procedure_occurrence.procedure_type_concept_id IS \\'A foreign key to the predefined Concept identifier in the Standardized Vocabularies reflecting the type of source data from which the procedure record is derived, belonging to the \\'\\'Procedure Type\\'\\' vocabulary.\\';\\nCOMMENT ON COLUMN cdm.procedure_occurrence.modifier_concept_id IS \\'A foreign key to a Standard Concept identifier for a modifier to the Procedure (e.g. bilateral). These concepts are typically distinguished by \\'\\'Modifier\\'\\' concept classes (e.g., \\'\\'CPT4 Modifier\\'\\' as part of the \\'\\'CPT4\\'\\' vocabulary).\\';\\nCOMMENT ON COLUMN cdm.procedure_occurrence.quantity IS \\'The quantity of procedures ordered or administered.\\';\\nCOMMENT ON COLUMN cdm.procedure_occurrence.procedure_date IS \\'The date on which the Procedure was performed.\\';\\nCOMMENT ON COLUMN cdm.procedure_occurrence.procedure_source_value IS \\'The source code for the Procedure as it appears in the source data. This code is mapped to a standard procedure Concept in the Standardized Vocabularies and the original code is, stored here for reference. Procedure source codes are typically ICD-9-Proc, CPT-4, HCPCS or OPCS-4 codes.\\';\\nCOMMENT ON COLUMN cdm.procedure_occurrence.modifier_source_value IS \\'The source code for the qualifier as it appears in the source data.\\';\\nCREATE TABLE cdm.provider (\\n    provider_id bigint NOT NULL,\\n    care_site_id bigint,\\n    specialty_concept_id integer NOT NULL,\\n    gender_concept_id integer NOT NULL,\\n    specialty_source_concept_id integer DEFAULT 0 NOT NULL,\\n    gender_source_concept_id integer NOT NULL,\\n    year_of_birth integer,\\n    gender_source_value text,\\n    provider_source_value text,\\n    specialty_source_value text,\\n    provider_name text,\\n    npi text,\\n    dea text,\\n    CONSTRAINT chk_provider_dea CHECK ((COALESCE(length(dea), 0) <= 20)),\\n    CONSTRAINT chk_provider_npi CHECK ((COALESCE(length(npi), 0) <= 20)),\\n    CONSTRAINT chk_provider_provider_name CHECK ((COALESCE(length(provider_name), 0) <= 255))\\n);\\nCOMMENT ON TABLE cdm.provider IS \\'The PROVIDER table contains a list of uniquely identified healthcare providers. These are individuals providing hands-on healthcare to patients, such as physicians, nurses, midwives, physical therapists etc.\\';\\nCOMMENT ON COLUMN cdm.provider.provider_id IS \\'A unique identifier for each Provider.\\';\\nCOMMENT ON COLUMN cdm.provider.care_site_id IS \\'A foreign key to the main Care Site where the provider is practicing.\\';\\nCOMMENT ON COLUMN cdm.provider.specialty_concept_id IS \\'A foreign key to a Standard Specialty Concept ID in the Standardized Vocabularies.\\';\\nCOMMENT ON COLUMN cdm.provider.gender_concept_id IS \\'The gender of the Provider.\\';\\nCOMMENT ON COLUMN cdm.provider.specialty_source_concept_id IS \\'A foreign key to a Concept that refers to the code used in the source.\\';\\nCOMMENT ON COLUMN cdm.provider.gender_source_concept_id IS \\'A foreign key to a Concept that refers to the code used in the source.\\';\\nCOMMENT ON COLUMN cdm.provider.year_of_birth IS \\'The year of birth of the Provider.\\';\\nCOMMENT ON COLUMN cdm.provider.gender_source_value IS \\'The gender code for the Provider as it appears in the source data, stored here for reference.\\';\\nCOMMENT ON COLUMN cdm.provider.provider_source_value IS \\'The identifier used for the Provider in the source data, stored here for reference.\\';\\nCOMMENT ON COLUMN cdm.provider.specialty_source_value IS \\'The source code for the Provider specialty as it appears in the source data, stored here for reference.\\';\\nCOMMENT ON COLUMN cdm.provider.provider_name IS \\'A description of the Provider.\\';\\nCOMMENT ON COLUMN cdm.provider.npi IS \\'The National Provider Identifier (NPI) of the provider.\\';\\nCOMMENT ON COLUMN cdm.provider.dea IS \\'The Drug Enforcement Administration (DEA) number of the provider.\\';\\nCREATE TABLE cdm.source_to_source_vocab_map (\\n    source_code text,\\n    source_concept_id integer,\\n    source_code_description text,\\n    source_vocabulary_id text,\\n    source_domain_id text,\\n    source_concept_class_id text,\\n    source_valid_start_date date,\\n    source_valid_end_date date,\\n    source_invalid_reason text,\\n    target_concept_id integer,\\n    target_concept_name text,\\n    target_vocabulary_id text,\\n    target_domain_id text,\\n    target_concept_class_id text,\\n    target_invalid_reason text,\\n    target_standard_concept text\\n);\\n\\nDROP SCHEMA IF EXISTS cdm CASCADE;\\nDROP SCHEMA IF EXISTS vocabularies CASCADE;\\nCREATE SCHEMA cdm;\\nCREATE SCHEMA vocabularies;\\nCREATE TABLE cdm.care_site (\\n    care_site_id bigint NOT NULL,\\n    location_id bigint,\\n    place_of_service_concept_id integer,\\n    care_site_name text,\\n    care_site_source_value text,\\n    place_of_service_source_value text,\\n    CONSTRAINT chk_care_site_care_site_name CHECK ((length(care_site_name) <= 255))\\n);\\nALTER TABLE cdm.care_site OWNER TO postgres;\\nCOMMENT ON TABLE cdm.care_site IS \\'The CARE_SITE table contains a list of uniquely identified institutional (physical or organizational) units where healthcare delivery is practiced (offices, wards, hospitals, clinics, etc.).\\';\\nCOMMENT ON COLUMN cdm.care_site.care_site_id IS \\'A unique identifier for each Care Site.\\';\\nCOMMENT ON COLUMN cdm.care_site.location_id IS \\'A foreign key to the geographic Location in the LOCATION table, where the detailed address information is stored.\\';\\nCOMMENT ON COLUMN cdm.care_site.place_of_service_concept_id IS \\'A foreign key that refers to a Place of Service Concept ID in the Standardized Vocabularies.\\';\\nCOMMENT ON COLUMN cdm.care_site.care_site_name IS \\'The verbatim description or name of the Care Site as in data source\\';\\nCOMMENT ON COLUMN cdm.care_site.care_site_source_value IS \\'The identifier for the Care Site in the source data, stored here for reference.\\';\\nCOMMENT ON COLUMN cdm.care_site.place_of_service_source_value IS \\'The source code for the Place of Service as it appears in the source data, stored here for reference.\\';\\nCREATE TABLE cdm.cdm_source (\\n    cdm_version_concept_id integer,\\n    source_release_date date NOT NULL,\\n    cdm_release_date date,\\n    cdm_source_name text NOT NULL,\\n    cdm_source_abbreviation text NOT NULL,\\n    cdm_holder text NOT NULL,\\n    source_description text,\\n    source_documentation_reference text,\\n    cdm_etl_reference text,\\n    cdm_version text,\\n    vocabulary_version text,\\n    CONSTRAINT chk_cdm_source_cdm_etl_reference CHECK ((COALESCE(length(cdm_etl_reference), 0) <= 255)),\\n    CONSTRAINT chk_cdm_source_cdm_holder CHECK ((length(cdm_holder) <= 255)),\\n    CONSTRAINT chk_cdm_source_cdm_source_abbreviation CHECK ((length(cdm_source_abbreviation) <= 25)),\\n    CONSTRAINT chk_cdm_source_cdm_source_name CHECK ((length(cdm_source_name) <= 255)),\\n    CONSTRAINT chk_cdm_source_cdm_version CHECK ((COALESCE(length(cdm_version), 0) <= 10)),\\n    CONSTRAINT chk_cdm_source_source_documentation_reference CHECK ((COALESCE(length(source_documentation_reference), 0) <= 255)),\\n    CONSTRAINT chk_cdm_source_vocabulary_version CHECK ((COALESCE(length(vocabulary_version), 0) <= 20))\\n);\\nALTER TABLE cdm.cdm_source OWNER TO postgres;\\nCOMMENT ON TABLE cdm.cdm_source IS \\'The CDM_SOURCE table contains detail about the source database and the process used to transform the data into the OMOP Common Data Model.\\';\\nCOMMENT ON COLUMN cdm.cdm_source.source_release_date IS \\'The date for which the source data are most current, such as the last day of data capture\\';\\nCOMMENT ON COLUMN cdm.cdm_source.cdm_release_date IS \\'The date when the CDM was instantiated\\';\\nCOMMENT ON COLUMN cdm.cdm_source.cdm_source_name IS \\'The full name of the source\\';\\nCOMMENT ON COLUMN cdm.cdm_source.cdm_source_abbreviation IS \\'An abbreviation of the name\\';\\nCOMMENT ON COLUMN cdm.cdm_source.cdm_holder IS \\'The name of the organization responsible for the development of the CDM instance\\';\\nCOMMENT ON COLUMN cdm.cdm_source.source_description IS \\'A description of the source data origin and purpose for collection. The description may contain a summary of the period of time that is expected to be covered by this dataset.\\';\\nCOMMENT ON COLUMN cdm.cdm_source.source_documentation_reference IS \\'URL or other external reference to location of source documentation\\';\\nCOMMENT ON COLUMN cdm.cdm_source.cdm_etl_reference IS \\'URL or other external reference to location of ETL specification documentation and ETL source code\\';\\nCOMMENT ON COLUMN cdm.cdm_source.cdm_version IS \\'The version of CDM used\\';\\nCOMMENT ON COLUMN cdm.cdm_source.vocabulary_version IS \\'The version of the vocabulary used\\';\\nCREATE TABLE cdm.cohort (\\n    cohort_definition_id bigint NOT NULL,\\n    subject_id bigint NOT NULL,\\n    cohort_start_date date NOT NULL,\\n    cohort_end_date date NOT NULL\\n);\\nALTER TABLE cdm.cohort OWNER TO postgres;\\nCOMMENT ON TABLE cdm.cohort IS \\'The COHORT table contains records of subjects that satisfy a given set of criteria for a duration of time. The definition of the cohort is contained within the COHORT_DEFINITION table. Cohorts can be constructed of patients (Persons), Providers or Visits.\\';\\nCOMMENT ON COLUMN cdm.cohort.cohort_definition_id IS \\'A foreign key to a record in the COHORT_DEFINITION table containing relevant Cohort Definition information.\\';\\nCOMMENT ON COLUMN cdm.cohort.subject_id IS \\'A foreign key to the subject in the cohort. These could be referring to records in the PERSON, PROVIDER, VISIT_OCCURRENCE table.\\';\\nCOMMENT ON COLUMN cdm.cohort.cohort_start_date IS \\'The date when the Cohort Definition criteria for the Person, Provider or Visit first match.\\';\\nCOMMENT ON COLUMN cdm.cohort.cohort_end_date IS \\'The date when the Cohort Definition criteria for the Person, Provider or Visit no longer match or the Cohort membership was terminated.\\';\\nCREATE TABLE cdm.cohort_definition (\\n    cohort_definition_id integer NOT NULL,\\n    definition_type_concept_id integer NOT NULL,\\n    subject_concept_id integer NOT NULL,\\n    cohort_initiation_date date,\\n    cohort_definition_name text NOT NULL,\\n    cohort_definition_description text,\\n    cohort_definition_syntax text,\\n    CONSTRAINT chk_cohort_definition_cohort_definition_name CHECK ((length(cohort_definition_name) <= 255))\\n);\\nALTER TABLE cdm.cohort_definition OWNER TO postgres;\\nCOMMENT ON TABLE cdm.cohort_definition IS \\'The COHORT_DEFINITION table contains records defining a Cohort derived from the data through the associated description and syntax and upon instantiation (execution of the algorithm) placed into the COHORT table.\\';\\nCOMMENT ON COLUMN cdm.cohort_definition.cohort_definition_id IS \\'This is the identifier given to the cohort, usually by the ATLAS application.\\';\\nCOMMENT ON COLUMN cdm.cohort_definition.definition_type_concept_id IS \\'Type defining what kind of Cohort Definition the record represents and how the syntax may be executed.\\';\\nCOMMENT ON COLUMN cdm.cohort_definition.subject_concept_id IS \\'This field contains a Concept that represents the domain of the subjects that are members of the cohort (e.g., Person, Provider, Visit).\\';\\nCOMMENT ON COLUMN cdm.cohort_definition.cohort_initiation_date IS \\'A date to indicate when the Cohort was initiated in the COHORT table.\\';\\nCOMMENT ON COLUMN cdm.cohort_definition.cohort_definition_name IS \\'A short description of the cohort.\\';\\nCOMMENT ON COLUMN cdm.cohort_definition.cohort_definition_description IS \\'A complete description of the cohort.\\';\\nCOMMENT ON COLUMN cdm.cohort_definition.cohort_definition_syntax IS \\'Syntax or code to operationalize the Cohort Definition.\\';\\nCREATE TABLE cdm.condition_era (\\n    condition_era_id bigint NOT NULL,\\n    person_id bigint NOT NULL,\\n    condition_concept_id integer NOT NULL,\\n    condition_occurrence_count integer,\\n    condition_era_start_date date,\\n    condition_era_end_date date\\n);\\nALTER TABLE cdm.condition_era OWNER TO postgres;\\nCOMMENT ON TABLE cdm.condition_era IS \\'A Condition Era is defined as a span of time when the Person is assumed to have a given condition. Similar to Drug Eras, Condition Eras are chronological periods of Condition Occurrence. Combining individual Condition Occurrences into a single Condition Era serves two purposes:  * It allows aggregation of chronic conditions that require frequent ongoing care, instead of treating each Condition Occurrence as an independent event. * It allows aggregation of multiple, closely timed doctor visits for the same Condition to avoid double-counting the Condition Occurrences.  For example, consider a Person who visits her Primary Care Physician (PCP) and who is referred to a specialist. At a later time, the Person visits the specialist, who confirms the PCP\\'\\'s original diagnosis and provides the appropriate treatment to resolve the condition. These two independent doctor visits should be aggregated into one Condition Era.\\';\\nCOMMENT ON COLUMN cdm.condition_era.condition_era_id IS \\'A unique identifier for each Condition Era.\\';\\nCOMMENT ON COLUMN cdm.condition_era.person_id IS \\'A foreign key identifier to the Person who is experiencing the Condition during the Condition Era. The demographic details of that Person are stored in the PERSON table.\\';\\nCOMMENT ON COLUMN cdm.condition_era.condition_concept_id IS \\'A foreign key that refers to a standard Condition Concept identifier in the Standardized Vocabularies.\\';\\nCOMMENT ON COLUMN cdm.condition_era.condition_occurrence_count IS \\'The number of individual Condition Occurrences used to construct the condition era.\\';\\nCOMMENT ON COLUMN cdm.condition_era.condition_era_start_date IS \\'The start date for the Condition Era constructed from the individual instances of Condition Occurrences.\\';\\nCOMMENT ON COLUMN cdm.condition_era.condition_era_end_date IS \\'The end date for the Condition Era constructed from the individual instances of Condition Occurrences.\\';\\nCREATE TABLE cdm.condition_occurrence (\\n    condition_occurrence_id bigint NOT NULL,\\n    person_id bigint,\\n    provider_id bigint,\\n    visit_occurrence_id bigint,\\n    visit_detail_id bigint,\\n    condition_start_datetime timestamp without time zone,\\n    condition_end_datetime timestamp without time zone,\\n    condition_concept_id bigint,\\n    condition_type_concept_id bigint,\\n    condition_status_concept_id bigint,\\n    condition_source_concept_id bigint,\\n    condition_start_date date,\\n    condition_end_date date,\\n    stop_reason text,\\n    condition_source_value text,\\n    condition_status_source_value text,\\n    CONSTRAINT chk_condition_occurrence_stop_reason CHECK ((COALESCE(length(stop_reason), 0) <= 20))\\n);\\nALTER TABLE cdm.condition_occurrence OWNER TO postgres;\\nCOMMENT ON TABLE cdm.condition_occurrence IS \\'Conditions are records of a Person suggesting the presence of a disease or medical condition stated as a diagnosis, a sign, or a symptom, which is either observed by a Provider or reported by the patient. Conditions are recorded in different sources and levels of standardization, for example:  * Medical claims data include diagnoses coded in Source Vocabularies such as ICD-9-CM that are submitted as part of a reimbursement claim for health services * EHRs may capture Person conditions in the form of diagnosis codes or symptoms\\';\\nCOMMENT ON COLUMN cdm.condition_occurrence.condition_occurrence_id IS \\'A unique identifier for each Condition Occurrence event.\\';\\nCOMMENT ON COLUMN cdm.condition_occurrence.person_id IS \\'A foreign key identifier to the Person who is experiencing the condition. The demographic details of that Person are stored in the PERSON table.\\';\\nCOMMENT ON COLUMN cdm.condition_occurrence.provider_id IS \\'A foreign key to the Provider in the PROVIDER table who was responsible for capturing (diagnosing) the Condition.\\';\\nCOMMENT ON COLUMN cdm.condition_occurrence.visit_occurrence_id IS \\'A foreign key to the visit in the VISIT_OCCURRENCE table during which the Condition was determined (diagnosed).\\';\\nCOMMENT ON COLUMN cdm.condition_occurrence.visit_detail_id IS \\'A foreign key to the visit in the VISIT_DETAIL table during which the Condition was determined (diagnosed).\\';\\nCOMMENT ON COLUMN cdm.condition_occurrence.condition_start_datetime IS \\'The date and time when the instance of the Condition is recorded.\\';\\nCOMMENT ON COLUMN cdm.condition_occurrence.condition_end_datetime IS \\'The date when the instance of the Condition is considered to have ended.\\';\\nCOMMENT ON COLUMN cdm.condition_occurrence.condition_concept_id IS \\'A foreign key that refers to a Standard Concept identifier in the Standardized Vocabularies belonging to the \\'\\'Condition\\'\\' domain.\\';\\nCOMMENT ON COLUMN cdm.condition_occurrence.condition_type_concept_id IS \\'A foreign key to the predefined Concept identifier in the Standardized Vocabularies reflecting the source data from which the Condition was recorded, the level of standardization, and the type of occurrence. These belong to the \\'\\'Condition Type\\'\\' vocabulary\\';\\nCOMMENT ON COLUMN cdm.condition_occurrence.condition_status_concept_id IS \\'A foreign key that refers to a Standard Concept identifier in the Standardized Vocabularies reflecting the point of care at which the Condition was diagnosed.\\';\\nCOMMENT ON COLUMN cdm.condition_occurrence.condition_source_concept_id IS \\'A foreign key to a Condition Concept that refers to the code used in the source.\\';\\nCOMMENT ON COLUMN cdm.condition_occurrence.condition_start_date IS \\'The date when the instance of the Condition is recorded.\\';\\nCOMMENT ON COLUMN cdm.condition_occurrence.condition_end_date IS \\'The date when the instance of the Condition is considered to have ended.\\';\\nCOMMENT ON COLUMN cdm.condition_occurrence.stop_reason IS \\'The reason that the Condition was no longer present, as indicated in the source data.\\';\\nCOMMENT ON COLUMN cdm.condition_occurrence.condition_source_value IS \\'The source code for the Condition as it appears in the source data. This code is mapped to a Standard Condition Concept in the Standardized Vocabularies and the original code is stored here for reference.\\';\\nCOMMENT ON COLUMN cdm.condition_occurrence.condition_status_source_value IS \\'The source code for the condition status as it appears in the source data.  This code is mapped to a Standard Concept in the Standardized Vocabularies and the original code is stored here for reference.\\';\\n\\n\\nCREATE TABLE cdm.care_site (\\n    care_site_id bigint NOT NULL,\\n    location_id bigint,\\n    place_of_service_concept_id integer,\\n    care_site_name text,\\n    care_site_source_value text,\\n    place_of_service_source_value text,\\n    CONSTRAINT chk_care_site_care_site_name CHECK ((length(care_site_name) <= 255))\\n);\\nALTER TABLE cdm.care_site OWNER TO postgres;\\nCOMMENT ON TABLE cdm.care_site IS \\'The CARE_SITE table contains a list of uniquely identified institutional (physical or organizational) units where healthcare delivery is practiced (offices, wards, hospitals, clinics, etc.).\\';\\nCOMMENT ON COLUMN cdm.care_site.care_site_id IS \\'A unique identifier for each Care Site.\\';\\nCOMMENT ON COLUMN cdm.care_site.location_id IS \\'A foreign key to the geographic Location in the LOCATION table, where the detailed address information is stored.\\';\\nCOMMENT ON COLUMN cdm.care_site.place_of_service_concept_id IS \\'A foreign key that refers to a Place of Service Concept ID in the Standardized Vocabularies.\\';\\nCOMMENT ON COLUMN cdm.care_site.care_site_name IS \\'The verbatim description or name of the Care Site as in data source\\';\\nCOMMENT ON COLUMN cdm.care_site.care_site_source_value IS \\'The identifier for the Care Site in the source data, stored here for reference.\\';\\nCOMMENT ON COLUMN cdm.care_site.place_of_service_source_value IS \\'The source code for the Place of Service as it appears in the source data, stored here for reference.\\';\\n\\n\\n\\nCREATE TABLE vocabularies.source_to_standard_vocab_map (\\n    source_concept_id integer,\\n    target_concept_id integer,\\n    source_valid_start_date date,\\n    source_valid_end_date date,\\n    source_code text,\\n    source_code_description text,\\n    source_vocabulary_id text,\\n    source_domain_id text,\\n    source_concept_class_id text,\\n    source_invalid_reason text,\\n    target_concept_name text,\\n    target_vocabulary_id text,\\n    target_domain_id text,\\n    target_concept_class_id text,\\n    target_invalid_reason text,\\n    target_standard_concept text\\n);\\nALTER TABLE vocabularies.source_to_standard_vocab_map OWNER TO postgres;\\nCREATE TABLE vocabularies.vocabulary (\\n    vocabulary_concept_id integer NOT NULL,\\n    vocabulary_id text NOT NULL,\\n    vocabulary_name text NOT NULL,\\n    vocabulary_reference text,\\n    vocabulary_version text,\\n    CONSTRAINT chk_vocabulary_vocabulary_id CHECK ((length(vocabulary_id) <= 20)),\\n    CONSTRAINT chk_vocabulary_vocabulary_name CHECK ((length(vocabulary_name) <= 255)),\\n    CONSTRAINT chk_vocabulary_vocabulary_reference CHECK ((length(vocabulary_reference) <= 255)),\\n    CONSTRAINT chk_vocabulary_vocabulary_version CHECK ((length(vocabulary_version) <= 255))\\n);\\nALTER TABLE vocabularies.vocabulary OWNER TO postgres;\\nCOMMENT ON TABLE vocabularies.vocabulary IS \\'The VOCABULARY table includes a list of the Vocabularies collected from various sources or created de novo by the OMOP community. This reference table is populated with a single record for each Vocabulary source and includes a descriptive name and other associated attributes for the Vocabulary.\\';\\nCOMMENT ON COLUMN vocabularies.vocabulary.vocabulary_concept_id IS \\'A foreign key that refers to a standard concept identifier in the CONCEPT table for the Vocabulary the VOCABULARY record belongs to.\\';\\nCOMMENT ON COLUMN vocabularies.vocabulary.vocabulary_id IS \\'A unique identifier for each Vocabulary, such as ICD9CM, SNOMED, Visit.\\';\\nCOMMENT ON COLUMN vocabularies.vocabulary.vocabulary_name IS \\'The name describing the vocabulary, for example \"International Classification of Diseases, Ninth Revision, Clinical Modification, Volume 1 and 2 (NCHS)\" etc.\\';\\nCOMMENT ON COLUMN vocabularies.vocabulary.vocabulary_reference IS \\'External reference to documentation or available download of the about the vocabulary.\\';\\nCOMMENT ON COLUMN vocabularies.vocabulary.vocabulary_version IS \\'Version of the Vocabulary as indicated in the source.\\';\\n\\n\\n\\n===Additional Context \\n\\nThe following columns are in the person table in the postgres database:\\n\\n|     | table_catalog   | table_schema   | table_name   | column_name                 | data_type                   |\\n|----:|:----------------|:---------------|:-------------|:----------------------------|:----------------------------|\\n| 282 | postgres        | cdm            | person       | person_id                   | bigint                      |\\n| 283 | postgres        | cdm            | person       | location_id                 | bigint                      |\\n| 284 | postgres        | cdm            | person       | provider_id                 | bigint                      |\\n| 285 | postgres        | cdm            | person       | care_site_id                | bigint                      |\\n| 286 | postgres        | cdm            | person       | birth_datetime              | timestamp without time zone |\\n| 287 | postgres        | cdm            | person       | year_of_birth               | integer                     |\\n| 288 | postgres        | cdm            | person       | gender_source_concept_id    | integer                     |\\n| 289 | postgres        | cdm            | person       | gender_concept_id           | integer                     |\\n| 290 | postgres        | cdm            | person       | ethnicity_concept_id        | integer                     |\\n| 291 | postgres        | cdm            | person       | ethnicity_source_concept_id | integer                     |\\n| 292 | postgres        | cdm            | person       | race_concept_id             | integer                     |\\n| 293 | postgres        | cdm            | person       | race_source_concept_id      | integer                     |\\n| 294 | postgres        | cdm            | person       | month_of_birth              | integer                     |\\n| 295 | postgres        | cdm            | person       | day_of_birth                | integer                     |\\n| 383 | postgres        | cdm            | person       | person_source_value         | text                        |\\n| 384 | postgres        | cdm            | person       | gender_source_value         | text                        |\\n| 385 | postgres        | cdm            | person       | race_source_value           | text                        |\\n| 386 | postgres        | cdm            | person       | ethnicity_source_value      | text                        |\\n\\nThe following columns are in the specimen table in the postgres database:\\n\\n|     | table_catalog   | table_schema   | table_name   | column_name                 | data_type                   |\\n|----:|:----------------|:---------------|:-------------|:----------------------------|:----------------------------|\\n|  48 | postgres        | cdm            | specimen     | specimen_id                 | bigint                      |\\n|  49 | postgres        | cdm            | specimen     | person_id                   | bigint                      |\\n|  50 | postgres        | cdm            | specimen     | specimen_datetime           | timestamp without time zone |\\n|  51 | postgres        | cdm            | specimen     | specimen_concept_id         | integer                     |\\n|  52 | postgres        | cdm            | specimen     | specimen_type_concept_id    | integer                     |\\n|  53 | postgres        | cdm            | specimen     | anatomic_site_concept_id    | integer                     |\\n|  54 | postgres        | cdm            | specimen     | disease_status_concept_id   | integer                     |\\n|  55 | postgres        | cdm            | specimen     | unit_concept_id             | integer                     |\\n|  56 | postgres        | cdm            | specimen     | specimen_date               | date                        |\\n|  57 | postgres        | cdm            | specimen     | quantity                    | numeric                     |\\n| 419 | postgres        | cdm            | specimen     | specimen_source_id          | text                        |\\n| 420 | postgres        | cdm            | specimen     | specimen_source_value       | text                        |\\n| 421 | postgres        | cdm            | specimen     | unit_source_value           | text                        |\\n| 422 | postgres        | cdm            | specimen     | anatomic_site_source_value  | text                        |\\n| 423 | postgres        | cdm            | specimen     | disease_status_source_value | text                        |\\n\\nThe following columns are in the survey_conduct table in the postgres database:\\n\\n|     | table_catalog   | table_schema   | table_name     | column_name                    | data_type                   |\\n|----:|:----------------|:---------------|:---------------|:-------------------------------|:----------------------------|\\n|  63 | postgres        | cdm            | survey_conduct | survey_conduct_id              | bigint                      |\\n|  64 | postgres        | cdm            | survey_conduct | person_id                      | bigint                      |\\n|  65 | postgres        | cdm            | survey_conduct | survey_end_datetime            | timestamp without time zone |\\n|  66 | postgres        | cdm            | survey_conduct | survey_start_datetime          | timestamp without time zone |\\n|  67 | postgres        | cdm            | survey_conduct | visit_occurrence_id            | bigint                      |\\n|  68 | postgres        | cdm            | survey_conduct | visit_detail_id                | bigint                      |\\n|  69 | postgres        | cdm            | survey_conduct | response_visit_occurrence_id   | bigint                      |\\n|  70 | postgres        | cdm            | survey_conduct | provider_id                    | bigint                      |\\n|  71 | postgres        | cdm            | survey_conduct | survey_concept_id              | integer                     |\\n|  72 | postgres        | cdm            | survey_conduct | assisted_concept_id            | integer                     |\\n|  73 | postgres        | cdm            | survey_conduct | respondent_type_concept_id     | integer                     |\\n|  74 | postgres        | cdm            | survey_conduct | timing_concept_id              | integer                     |\\n|  75 | postgres        | cdm            | survey_conduct | collection_method_concept_id   | integer                     |\\n|  76 | postgres        | cdm            | survey_conduct | survey_source_concept_id       | integer                     |\\n|  77 | postgres        | cdm            | survey_conduct | validated_survey_concept_id    | integer                     |\\n|  78 | postgres        | cdm            | survey_conduct | survey_start_date              | date                        |\\n|  79 | postgres        | cdm            | survey_conduct | survey_end_date                | date                        |\\n| 424 | postgres        | cdm            | survey_conduct | assisted_source_value          | text                        |\\n| 425 | postgres        | cdm            | survey_conduct | respondent_type_source_value   | text                        |\\n| 426 | postgres        | cdm            | survey_conduct | timing_source_value            | text                        |\\n| 427 | postgres        | cdm            | survey_conduct | collection_method_source_value | text                        |\\n| 428 | postgres        | cdm            | survey_conduct | survey_source_value            | text                        |\\n| 429 | postgres        | cdm            | survey_conduct | survey_source_identifier       | text                        |\\n| 430 | postgres        | cdm            | survey_conduct | validated_survey_source_value  | text                        |\\n| 431 | postgres        | cdm            | survey_conduct | survey_version_number          | text                        |\\n\\nThe following columns are in the death table in the postgres database:\\n\\n|     | table_catalog   | table_schema   | table_name   | column_name             | data_type                   |\\n|----:|:----------------|:---------------|:-------------|:------------------------|:----------------------------|\\n|   1 | postgres        | cdm            | death        | death_date              | date                        |\\n|   2 | postgres        | cdm            | death        | death_type_concept_id   | integer                     |\\n|  10 | postgres        | cdm            | death        | cause_concept_id        | integer                     |\\n|  11 | postgres        | cdm            | death        | cause_source_concept_id | integer                     |\\n| 298 | postgres        | cdm            | death        | person_id               | bigint                      |\\n| 299 | postgres        | cdm            | death        | death_datetime          | timestamp without time zone |\\n| 334 | postgres        | cdm            | death        | cause_source_value      | text                        |\\n\\n===Response Guidelines \\n1. If the provided context is sufficient, please generate a valid SQL query without any explanations for the question. \\n2. If the provided context is almost sufficient but requires knowledge of a specific string in a particular column, please generate an intermediate SQL query to find the distinct strings in that column. Prepend the query with a comment saying intermediate_sql \\n3. If the provided context is insufficient, please explain why it can\\'t be generated. \\n4. Please use the most relevant table(s). \\n5. If the question has been asked and answered before, please repeat the answer exactly as it was given before. \\n'}, {'role': 'user', 'content': 'Count the genders (gender_concept_id) across all person records, arrange into groups by year of birth.\\nAll possible values for gender concepts stratified by year of birth are summarized.'}, {'role': 'assistant', 'content': 'SELECT   gender_concept_id,   concept_name     AS gender_name,   year_of_birth    AS year_of_birth,   COUNT(*)         AS num_persons FROM cdm.person   JOIN vocabularies.concept   ON person.gender_concept_id = concept.concept_id GROUP BY person.gender_concept_id, concept.concept_name, person.year_of_birth ORDER BY concept.concept_name, person.year_of_birth;'}, {'role': 'user', 'content': 'This query is similar to PE02, but it lists all available genders (male, female, unknown, ambiguous, other) across all person records. The input to the query is a value (or a comma-separated list of values) of a gender_concept_id. If the input is omitted, all possible values for gender_concept_id are summarized.'}, {'role': 'assistant', 'content': 'SELECT   person.gender_concept_id,   concept.concept_name    AS gender_name,   COUNT(person.person_id) AS num_persons FROM cdm.person   JOIN vocabularies.concept ON person.gender_concept_id = concept.concept_id GROUP BY person.gender_concept_id, concept.concept_name ;'}, {'role': 'user', 'content': 'Use this query to determine the number of women and men in an a databse. The gender concept code for women is 8532 and for men is 8507. There are also unknown gender (8551), other (8521) and ambiguous (8570).'}, {'role': 'assistant', 'content': 'SELECT COUNT(person_id) AS num_persons FROM cdm.person WHERE gender_concept_id = 8532'}, {'role': 'user', 'content': '| This query is used to obtain the gender distribution of persons exposed to a certain drug (drug_concept_id). The input to the query is a value (or a comma-separated list of values) of a drug_concept_id. See  vocabulary queries for obtaining valid drug_concept_id values. If the input is omitted, all drugs in the data table are summarized.'}, {'role': 'assistant', 'content': 'SELECT drug.concept_name AS drug_name, \\tdrug_concept_id, \\tgender.concept_name AS gender, \\tcount(DISTINCT de.person_id) AS num_persons FROM cdm.drug_exposure de INNER JOIN cdm.person p ON de.person_id = p.person_id INNER JOIN vocabularies.concept drug ON drug.concept_id = drug_concept_id INNER JOIN vocabularies.concept gender ON gender.concept_id = gender_concept_id WHERE drug_concept_id IN (40165254, 40165258) GROUP BY drug.concept_name, \\tdrug_concept_id, \\tgender.concept_name ORDER BY drug_name, \\tdrug_concept_id, \\tgender;'}, {'role': 'user', 'content': 'This query is used to count all gender values (gender_concept_id) for all exposed persons\\nstratified by drug (drug_concept_id).\\nThe input to the query is a value (or a comma-separated list of values) of a gender_concept_id and drug_concept_id.\\nIf the input is omitted, all existing value combinations are summarized.'}, {'role': 'assistant', 'content': 'SELECT   gender_concept_id,   drug_concept_id,   COUNT(1) AS gender_count FROM cdm.drug_exposure INNER JOIN cdm.person ON drug_exposure.person_id = person.person_id       -- Filter by input list of drug_concept_id WHERE drug_concept_id IN (906805, 1517070, 19010522)       -- Filter by input list of gender_concept_id         AND gender_concept_id IN (8507, 8532) GROUP BY drug_concept_id, gender_concept_id ORDER BY drug_concept_id, gender_concept_id;'}, {'role': 'user', 'content': 'This query is used to count number of patients grouped by month of birth within all person records. All possible values for month of birth are summarized. Not all databases maintain month of birth. This query is only available from CDM V4 and above.'}, {'role': 'assistant', 'content': 'SELECT   month_of_birth AS month_of_year,   count(*)       AS num_persons FROM cdm.person GROUP BY month_of_birth ORDER BY month_of_birth ;'}, {'role': 'user', 'content': 'This query is used to count the day of birth across all person records. All possible combinations for month and day of birth are summarized. Not all databases maintain day of birth. This query is only available from CDM V4 and above.'}, {'role': 'assistant', 'content': 'SELECT   month_of_birth,   day_of_birth,   count(*) AS num_persons FROM cdm.person GROUP BY month_of_birth, day_of_birth ORDER BY month_of_birth, day_of_birth ;'}, {'role': 'user', 'content': '| This query is used to count the persons with exposure to a certain drug (drug_concept_id), grouped by age, gender, and year of exposure. The input to the query is a value (or a comma-separated list of values) of a drug_concept_id. See  vocabulary queries for obtaining valid drug_concept_id values. If the input is omitted, all drugs in the data table are summarized.'}, {'role': 'assistant', 'content': 'SELECT concept_name AS drug_name, \\tyear_of_exposure, \\tage, \\tgender, \\tcount(*) AS num_persons FROM ( \\tSELECT DISTINCT drug.concept_name, \\t\\tde.person_id, \\t\\tgender.concept_name AS gender, \\t\\tYEAR(drug_exposure_start_date) AS year_of_exposure, \\t\\tYEAR(drug_exposure_start_date) - year_of_birth AS age \\tFROM cdm.drug_exposure de \\tINNER JOIN cdm.person p ON de.person_id = p.person_id \\tINNER JOIN vocabularies.concept drug ON drug.concept_id = drug_concept_id \\tINNER JOIN vocabularies.concept gender ON gender.concept_id = gender_concept_id \\tWHERE drug_concept_id IN (40165254, 40165258) \\t) EV GROUP BY concept_name, \\tgender, \\tyear_of_exposure, \\tage ORDER BY concept_name, \\tyear_of_exposure, \\tage, \\tgender;'}, {'role': 'user', 'content': '| This query is to determine the distribution of distinct drugs patients are exposed to during a certain time period. If the time period is omitted, the entire time span of the database is considered.'}, {'role': 'assistant', 'content': 'WITH drug_counts AS ( \\tSELECT DE.person_id, \\t\\tCOALESCE(drugs, 0) AS drugs \\tFROM cdm.person p \\tLEFT JOIN ( \\t\\tSELECT person_id, \\t\\t\\tCOUNT(DISTINCT drug_concept_id) AS drugs \\t\\tFROM cdm.drug_exposure \\t\\tWHERE drug_exposure_start_date >= DATEFROMPARTS(2017, 01, 01) \\t\\t\\tAND drug_exposure_start_date <= DATEFROMPARTS(2017, 12, 31) \\t\\tGROUP BY person_id \\t\\t) DE ON DE.person_id = p.person_id \\t) SELECT MIN(drugs) AS min, \\tMIN(CASE WHEN order_nr < .25 * population_size THEN 9999 ELSE drugs END) AS percentile_25, \\tROUND(CAST(AVG(drugs) AS NUMERIC), 2) AS mean, \\tMIN(CASE WHEN order_nr < .50 * population_size THEN 9999 ELSE drugs\\tEND) AS median, \\tMIN(CASE WHEN order_nr < .75 * population_size THEN 9999 ELSE drugs\\tEND) AS percentile_75, \\tMAX(drugs) AS max, \\tROUND(CAST(STDEV(drugs) AS NUMERIC), 1) AS STDEV FROM ( \\tSELECT person_id, \\t\\tdrugs, \\t\\tROW_NUMBER() OVER ( \\t\\t\\tORDER BY drugs \\t\\t\\t) AS order_nr \\tFROM drug_counts \\t) AS ordered_data CROSS JOIN ( \\tSELECT count(*) AS population_size \\tFROM drug_counts \\t) AS population;'}, {'role': 'user', 'content': 'Counts the year of birth (year_of_birth) across all person records. All existing values for year of birth are summarized.'}, {'role': 'assistant', 'content': 'SELECT   year_of_birth,   COUNT(person_id) AS num_persons FROM cdm.person GROUP BY year_of_birth ORDER BY year_of_birth ;'}, {'role': 'user', 'content': ' Show the gender concept, gender name, and number of persons available in the hospital.'}]\n",
      "LLM Response: This request uses more tokens than gpt-3.5-turbo can handle. Please go to https://vanna.ai/account/profile to upgrade your subscription.\n"
     ]
    }
   ],
   "source": [
    "# Ask a question for generating the SQL\n",
    "\n",
    "question  =  \"\"\"I need a JSON response with \"query\" containing the SQL code, and \"explanation\" with the query explanation. The query runs in a cdm schema. \n",
    "The question is:\"\"\"\n",
    "\n",
    "question=\"\"\" Show the gender concept, gender name, and number of persons available in the hospital.\"\"\"\n",
    "response  = vn.generate_sql(question=question)"
   ]
  },
  {
   "cell_type": "code",
   "execution_count": 179,
   "metadata": {},
   "outputs": [
    {
     "name": "stdout",
     "output_type": "stream",
     "text": [
      "This request uses more tokens than gpt-3.5-turbo can handle. Please go to https://vanna.ai/account/profile to upgrade your subscription.\n"
     ]
    }
   ],
   "source": [
    "print(response)"
   ]
  },
  {
   "cell_type": "markdown",
   "metadata": {},
   "source": [
    "# Mistral "
   ]
  },
  {
   "cell_type": "code",
   "execution_count": 33,
   "metadata": {},
   "outputs": [],
   "source": [
    "#!pip3.11 install mistralai"
   ]
  },
  {
   "cell_type": "code",
   "execution_count": 4,
   "metadata": {},
   "outputs": [],
   "source": [
    "from mistralai.client import MistralClient\n",
    "from mistralai.models.chat_completion import ChatMessage\n",
    "import ast\n",
    "\n",
    "api_key = 'xxxxxxxx'# Your API key from https://mistral.ai/account/profile\n",
    "model = \"mistral-large-latest\"\n",
    "client = MistralClient(api_key=api_key)"
   ]
  },
  {
   "cell_type": "code",
   "execution_count": 61,
   "metadata": {},
   "outputs": [],
   "source": [
    "def get_mistral_response_entities(question):\n",
    "    question = f\"\"\"I need to extract the patient_number and dates in json format, the date format is YYYY-MM-DD \n",
    "    and always the oldest date first and then the most recent: {question}\"\"\"\n",
    "    messages = [\n",
    "        ChatMessage(role=\"user\", content=question)\n",
    "    ]\n",
    "    chat_response = client.chat(\n",
    "            model=model,\n",
    "            response_format={\"type\": \"json_object\"},\n",
    "            messages=messages,\n",
    "        )\n",
    "    response = chat_response.choices[0].message.content\n",
    "    return response\n",
    "\n",
    "def get_mistral_queries(question):\n",
    "    import aiosql,json\n",
    "    response = get_mistral_response_entities(question)\n",
    "    queries = aiosql.from_path(\"db/queries\", \"psycopg2\")\n",
    "    response = json.loads(response)\n",
    "    query = queries.conditions_by_person_id.sql % {'person_id':response['patient_number'],\n",
    "                                        'start_date':response['dates'][0],\n",
    "                                        'end_date':response['dates'][1],\n",
    "                                        }\n",
    "    return query\n",
    "\n",
    "def get_mistral_sql_response(question):\n",
    "    import json\n",
    "    query = get_mistral_queries(question)\n",
    "    db = DatabasePostgres()\n",
    "    response_conditions = db.select(query)\n",
    "    response_conditions['condition_start_date']=response_conditions['condition_start_date'].astype(str)\n",
    "    response_conditions['condition_end_date']=response_conditions['condition_end_date'].astype(str)\n",
    "\n",
    "    response_condition_str = json.dumps((\n",
    "        response_conditions\n",
    "        [['condition_start_date','condition_end_date','concept_name']]\n",
    "        .to_dict(orient='records')\n",
    "    ))\n",
    "    return response_condition_str\n",
    "\n",
    "def get_mistral_easy_respnse(response_condition_str):\n",
    "    question = f\"\"\"\"\n",
    "    Can you explain the following diagnoses from this JSON in simple, easy-to-understand language? I need the answer in a descriptive text format\n",
    "    : {response_condition_str}\n",
    "    \"\"\"\n",
    "    messages_details = [\n",
    "            ChatMessage(role=\"user\", content=question)\n",
    "        ]\n",
    "    chat_response_details = client.chat(\n",
    "            model=model,\n",
    "            messages=messages_details,\n",
    "        )\n",
    "    response_details = chat_response_details.choices[0].message.content\n",
    "    return response_details\n"
   ]
  },
  {
   "cell_type": "code",
   "execution_count": 62,
   "metadata": {},
   "outputs": [],
   "source": [
    "import json\n",
    "\n",
    "question =\"\"\"Can you provide information about the patient with the number 8099577122802309611 between November 1, 2000, and January 1, 2020?\"\"\"\n",
    "response_condition_str = get_mistral_sql_response(question = question)\n",
    "response_easy_language = get_mistral_easy_respnse(response_condition_str)\n",
    "json_string = json.dumps({\n",
    "    'question': question,\n",
    "    'response_sql': response_condition_str,\n",
    "    'response_easy_language': response_easy_language\n",
    "})\n",
    "json_string"
   ]
  },
  {
   "cell_type": "code",
   "execution_count": 64,
   "metadata": {},
   "outputs": [
    {
     "data": {
      "text/plain": [
       "'{\"question\": \"Can you provide information about the patient with the number 1481698356816854382 between the first of November, 2015, and the first of January, 2020?\", \"response_sql\": \"[{\\\\\"condition_start_date\\\\\": \\\\\"2016-07-24\\\\\", \\\\\"condition_end_date\\\\\": \\\\\"2016-08-16\\\\\", \\\\\"concept_name\\\\\": \\\\\"Viral sinusitis\\\\\"}, {\\\\\"condition_start_date\\\\\": \\\\\"2016-07-22\\\\\", \\\\\"condition_end_date\\\\\": \\\\\"2018-12-07\\\\\", \\\\\"concept_name\\\\\": \\\\\"Stress\\\\\"}, {\\\\\"condition_start_date\\\\\": \\\\\"2018-03-21\\\\\", \\\\\"condition_end_date\\\\\": \\\\\"2018-04-10\\\\\", \\\\\"concept_name\\\\\": \\\\\"Acute bronchitis\\\\\"}, {\\\\\"condition_start_date\\\\\": \\\\\"2019-12-13\\\\\", \\\\\"condition_end_date\\\\\": \\\\\"None\\\\\", \\\\\"concept_name\\\\\": \\\\\"Retinopathy due to type 2 diabetes mellitus\\\\\"}, {\\\\\"condition_start_date\\\\\": \\\\\"2019-12-13\\\\\", \\\\\"condition_end_date\\\\\": \\\\\"2020-06-12\\\\\", \\\\\"concept_name\\\\\": \\\\\"Stress\\\\\"}]\", \"response_easy_language\": \"Sure, I\\'d be happy to help explain these medical conditions in simpler terms:\\\\n\\\\n1. Viral Sinusitis: This is an infection of the sinuses, which are air-filled spaces in your skull, caused by a virus. It started on July 24, 2016, and ended on August 16, 2016. Symptoms often include nasal congestion, facial pain, and a thick, yellow or greenish discharge from the nose.\\\\n\\\\n2. Stress: This is a state of mental or emotional strain or tension, which started on July 22, 2016, and ended on December 7, 2018. It can be caused by various factors such as work, personal relationships, or financial problems.\\\\n\\\\n3. Acute Bronchitis: This is a short-term infection of the airways in the lungs, causing them to become inflamed and produce excess mucus. It started on March 21, 2018, and ended on April 10, 2018. Symptoms often include a cough, production of mucus, fatigue, and shortness of breath.\\\\n\\\\n4. Retinopathy due to Type 2 Diabetes Mellitus: This is damage to the retina, the light-sensitive tissue at the back of the eye, caused by complications of type 2 diabetes. It started on December 13, 2019, and according to the data, it is still ongoing. This condition can lead to vision loss or blindness if not properly managed.\\\\n\\\\n5. Stress: This is another period of emotional or mental strain, which started on December 13, 2019, and ended on June 12, 2020. The symptoms can be similar to the previous stress period.\"}'"
      ]
     },
     "execution_count": 64,
     "metadata": {},
     "output_type": "execute_result"
    }
   ],
   "source": [
    "import json\n",
    "\n",
    "question =\"\"\"Can you provide information about the patient with the number 1481698356816854382 between the first of November, 2015, and the first of January, 2020?\"\"\"\n",
    "response_condition_str = get_mistral_sql_response(question = question)\n",
    "response_easy_language = get_mistral_easy_respnse(response_condition_str)\n",
    "json_string = json.dumps({\n",
    "    'question': question,\n",
    "    'response_sql': response_condition_str,\n",
    "    'response_easy_language': response_easy_language\n",
    "})\n",
    "json_string\n",
    "\n"
   ]
  },
  {
   "cell_type": "code",
   "execution_count": 73,
   "metadata": {},
   "outputs": [
    {
     "data": {
      "text/plain": [
       "'{\"question\": \"I need details about the patient identified by 889381963201066879 for the period from the first of November, 2018, to the thirty-first of December, 2022.\", \"response_sql\": \"[{\\\\\"condition_start_date\\\\\": \\\\\"2019-01-08\\\\\", \\\\\"condition_end_date\\\\\": \\\\\"2019-02-05\\\\\", \\\\\"concept_name\\\\\": \\\\\"Stress\\\\\"}, {\\\\\"condition_start_date\\\\\": \\\\\"2019-04-09\\\\\", \\\\\"condition_end_date\\\\\": \\\\\"None\\\\\", \\\\\"concept_name\\\\\": \\\\\"Myocardial infarction\\\\\"}]\", \"response_easy_language\": \"Sure, I\\'d be happy to help explain these diagnoses to you.\\\\n\\\\n1. The first diagnosis is for a condition called \\\\\"Stress\\\\\". This period of stress started on January 8, 2019, and it continued until February 5, 2019. Stress is a feeling of emotional or physical tension. It can come from any event or thought that makes you feel frustrated, angry, or nervous. Stress is the body\\'s reaction to a challenge or demand. In short, it\\'s your body\\'s way of preparing to face a tough situation.\\\\n\\\\n2. The second diagnosis is for a condition called \\\\\"Myocardial Infarction\\\\\". This condition started on April 9, 2019, and according to the information provided, it appears to be ongoing as there is no end date listed. Myocardial Infarction is another term for a heart attack. A heart attack occurs when the blood supply to a part of the heart is interrupted. This is usually caused by a blockage in one or more of the coronary arteries, which supply blood to the heart muscle. The blockage is typically a buildup of fat, cholesterol and other substances, which form a plaque in the arteries that feed the heart (coronary arteries). The interrupted blood flow can damage or destroy part of the heart muscle.\"}'"
      ]
     },
     "execution_count": 73,
     "metadata": {},
     "output_type": "execute_result"
    }
   ],
   "source": [
    "question =\"\"\"I need details about the patient identified by 889381963201066879 for the period from the first of November, 2018, to the thirty-first of December, 2022.\"\"\"\n",
    "response_condition_str = get_mistral_sql_response(question = question)\n",
    "response_easy_language = get_mistral_easy_respnse(response_condition_str)\n",
    "json_string = json.dumps({\n",
    "    'question': question,\n",
    "    'response_sql': response_condition_str,\n",
    "    'response_easy_language': response_easy_language\n",
    "})\n",
    "json_string\n"
   ]
  },
  {
   "cell_type": "code",
   "execution_count": null,
   "metadata": {},
   "outputs": [],
   "source": []
  },
  {
   "cell_type": "code",
   "execution_count": null,
   "metadata": {},
   "outputs": [],
   "source": []
  }
 ],
 "metadata": {
  "kernelspec": {
   "display_name": "Python 3",
   "language": "python",
   "name": "python3"
  },
  "language_info": {
   "codemirror_mode": {
    "name": "ipython",
    "version": 3
   },
   "file_extension": ".py",
   "mimetype": "text/x-python",
   "name": "python",
   "nbconvert_exporter": "python",
   "pygments_lexer": "ipython3",
   "version": "3.11.9"
  }
 },
 "nbformat": 4,
 "nbformat_minor": 2
}
